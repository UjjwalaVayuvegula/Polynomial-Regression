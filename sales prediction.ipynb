{
 "cells": [
  {
   "cell_type": "markdown",
   "metadata": {},
   "source": [
    "# using label encoder, log trans after standardization"
   ]
  },
  {
   "cell_type": "code",
   "execution_count": 1,
   "metadata": {},
   "outputs": [],
   "source": [
    "import numpy as np\n",
    "import pandas as pd\n",
    "import matplotlib.pyplot as plt\n",
    "import seaborn as sns\n",
    "from sklearn.preprocessing import LabelEncoder\n",
    "from sklearn.model_selection import train_test_split\n",
    "from sklearn.preprocessing import PolynomialFeatures\n",
    "from sklearn.linear_model import LinearRegression\n",
    "from sklearn.metrics import r2_score\n",
    "from sklearn.metrics import mean_absolute_error\n",
    "from sklearn.metrics import mean_squared_error\n",
    "from sklearn.preprocessing import RobustScaler\n",
    "from sklearn.preprocessing import StandardScaler\n",
    "import warnings"
   ]
  },
  {
   "cell_type": "code",
   "execution_count": 2,
   "metadata": {},
   "outputs": [],
   "source": [
    "warnings.filterwarnings(\"ignore\")"
   ]
  },
  {
   "cell_type": "code",
   "execution_count": 3,
   "metadata": {},
   "outputs": [],
   "source": [
    "data=pd.read_csv(\"C:\\\\Users\\\\ushak\\\\Desktop\\\\internship_project\\\\datasets\\\\Video_Games_Sales_as_at_22_Dec_2016.csv\")"
   ]
  },
  {
   "cell_type": "code",
   "execution_count": 4,
   "metadata": {},
   "outputs": [
    {
     "data": {
      "text/html": [
       "<div>\n",
       "<style scoped>\n",
       "    .dataframe tbody tr th:only-of-type {\n",
       "        vertical-align: middle;\n",
       "    }\n",
       "\n",
       "    .dataframe tbody tr th {\n",
       "        vertical-align: top;\n",
       "    }\n",
       "\n",
       "    .dataframe thead th {\n",
       "        text-align: right;\n",
       "    }\n",
       "</style>\n",
       "<table border=\"1\" class=\"dataframe\">\n",
       "  <thead>\n",
       "    <tr style=\"text-align: right;\">\n",
       "      <th></th>\n",
       "      <th>Name</th>\n",
       "      <th>Platform</th>\n",
       "      <th>Year_of_Release</th>\n",
       "      <th>Genre</th>\n",
       "      <th>Publisher</th>\n",
       "      <th>NA_Sales</th>\n",
       "      <th>EU_Sales</th>\n",
       "      <th>JP_Sales</th>\n",
       "      <th>Other_Sales</th>\n",
       "      <th>Critic_Score</th>\n",
       "      <th>Critic_Count</th>\n",
       "      <th>User_Score</th>\n",
       "      <th>User_Count</th>\n",
       "      <th>Developer</th>\n",
       "      <th>Rating</th>\n",
       "      <th>Global_Sales</th>\n",
       "    </tr>\n",
       "  </thead>\n",
       "  <tbody>\n",
       "    <tr>\n",
       "      <th>0</th>\n",
       "      <td>Wii Sports</td>\n",
       "      <td>Wii</td>\n",
       "      <td>2006.0</td>\n",
       "      <td>Sports</td>\n",
       "      <td>Nintendo</td>\n",
       "      <td>41.36</td>\n",
       "      <td>28.96</td>\n",
       "      <td>3.77</td>\n",
       "      <td>8.45</td>\n",
       "      <td>76.0</td>\n",
       "      <td>51.0</td>\n",
       "      <td>8.0</td>\n",
       "      <td>322.0</td>\n",
       "      <td>Nintendo</td>\n",
       "      <td>E</td>\n",
       "      <td>82.53</td>\n",
       "    </tr>\n",
       "    <tr>\n",
       "      <th>1</th>\n",
       "      <td>Super Mario Bros.</td>\n",
       "      <td>NES</td>\n",
       "      <td>1985.0</td>\n",
       "      <td>Platform</td>\n",
       "      <td>Nintendo</td>\n",
       "      <td>29.08</td>\n",
       "      <td>3.58</td>\n",
       "      <td>6.81</td>\n",
       "      <td>0.77</td>\n",
       "      <td>NaN</td>\n",
       "      <td>NaN</td>\n",
       "      <td>NaN</td>\n",
       "      <td>NaN</td>\n",
       "      <td>NaN</td>\n",
       "      <td>NaN</td>\n",
       "      <td>40.24</td>\n",
       "    </tr>\n",
       "    <tr>\n",
       "      <th>2</th>\n",
       "      <td>Mario Kart Wii</td>\n",
       "      <td>Wii</td>\n",
       "      <td>2008.0</td>\n",
       "      <td>Racing</td>\n",
       "      <td>Nintendo</td>\n",
       "      <td>15.68</td>\n",
       "      <td>12.76</td>\n",
       "      <td>3.79</td>\n",
       "      <td>3.29</td>\n",
       "      <td>82.0</td>\n",
       "      <td>73.0</td>\n",
       "      <td>8.3</td>\n",
       "      <td>709.0</td>\n",
       "      <td>Nintendo</td>\n",
       "      <td>E</td>\n",
       "      <td>35.52</td>\n",
       "    </tr>\n",
       "    <tr>\n",
       "      <th>3</th>\n",
       "      <td>Wii Sports Resort</td>\n",
       "      <td>Wii</td>\n",
       "      <td>2009.0</td>\n",
       "      <td>Sports</td>\n",
       "      <td>Nintendo</td>\n",
       "      <td>15.61</td>\n",
       "      <td>10.93</td>\n",
       "      <td>3.28</td>\n",
       "      <td>2.95</td>\n",
       "      <td>80.0</td>\n",
       "      <td>73.0</td>\n",
       "      <td>8.0</td>\n",
       "      <td>192.0</td>\n",
       "      <td>Nintendo</td>\n",
       "      <td>E</td>\n",
       "      <td>32.77</td>\n",
       "    </tr>\n",
       "    <tr>\n",
       "      <th>4</th>\n",
       "      <td>Pokemon Red/Pokemon Blue</td>\n",
       "      <td>GB</td>\n",
       "      <td>1996.0</td>\n",
       "      <td>Role-Playing</td>\n",
       "      <td>Nintendo</td>\n",
       "      <td>11.27</td>\n",
       "      <td>8.89</td>\n",
       "      <td>10.22</td>\n",
       "      <td>1.00</td>\n",
       "      <td>NaN</td>\n",
       "      <td>NaN</td>\n",
       "      <td>NaN</td>\n",
       "      <td>NaN</td>\n",
       "      <td>NaN</td>\n",
       "      <td>NaN</td>\n",
       "      <td>31.37</td>\n",
       "    </tr>\n",
       "    <tr>\n",
       "      <th>...</th>\n",
       "      <td>...</td>\n",
       "      <td>...</td>\n",
       "      <td>...</td>\n",
       "      <td>...</td>\n",
       "      <td>...</td>\n",
       "      <td>...</td>\n",
       "      <td>...</td>\n",
       "      <td>...</td>\n",
       "      <td>...</td>\n",
       "      <td>...</td>\n",
       "      <td>...</td>\n",
       "      <td>...</td>\n",
       "      <td>...</td>\n",
       "      <td>...</td>\n",
       "      <td>...</td>\n",
       "      <td>...</td>\n",
       "    </tr>\n",
       "    <tr>\n",
       "      <th>16714</th>\n",
       "      <td>Samurai Warriors: Sanada Maru</td>\n",
       "      <td>PS3</td>\n",
       "      <td>2016.0</td>\n",
       "      <td>Action</td>\n",
       "      <td>Tecmo Koei</td>\n",
       "      <td>0.00</td>\n",
       "      <td>0.00</td>\n",
       "      <td>0.01</td>\n",
       "      <td>0.00</td>\n",
       "      <td>NaN</td>\n",
       "      <td>NaN</td>\n",
       "      <td>NaN</td>\n",
       "      <td>NaN</td>\n",
       "      <td>NaN</td>\n",
       "      <td>NaN</td>\n",
       "      <td>0.01</td>\n",
       "    </tr>\n",
       "    <tr>\n",
       "      <th>16715</th>\n",
       "      <td>LMA Manager 2007</td>\n",
       "      <td>X360</td>\n",
       "      <td>2006.0</td>\n",
       "      <td>Sports</td>\n",
       "      <td>Codemasters</td>\n",
       "      <td>0.00</td>\n",
       "      <td>0.01</td>\n",
       "      <td>0.00</td>\n",
       "      <td>0.00</td>\n",
       "      <td>NaN</td>\n",
       "      <td>NaN</td>\n",
       "      <td>NaN</td>\n",
       "      <td>NaN</td>\n",
       "      <td>NaN</td>\n",
       "      <td>NaN</td>\n",
       "      <td>0.01</td>\n",
       "    </tr>\n",
       "    <tr>\n",
       "      <th>16716</th>\n",
       "      <td>Haitaka no Psychedelica</td>\n",
       "      <td>PSV</td>\n",
       "      <td>2016.0</td>\n",
       "      <td>Adventure</td>\n",
       "      <td>Idea Factory</td>\n",
       "      <td>0.00</td>\n",
       "      <td>0.00</td>\n",
       "      <td>0.01</td>\n",
       "      <td>0.00</td>\n",
       "      <td>NaN</td>\n",
       "      <td>NaN</td>\n",
       "      <td>NaN</td>\n",
       "      <td>NaN</td>\n",
       "      <td>NaN</td>\n",
       "      <td>NaN</td>\n",
       "      <td>0.01</td>\n",
       "    </tr>\n",
       "    <tr>\n",
       "      <th>16717</th>\n",
       "      <td>Spirits &amp; Spells</td>\n",
       "      <td>GBA</td>\n",
       "      <td>2003.0</td>\n",
       "      <td>Platform</td>\n",
       "      <td>Wanadoo</td>\n",
       "      <td>0.01</td>\n",
       "      <td>0.00</td>\n",
       "      <td>0.00</td>\n",
       "      <td>0.00</td>\n",
       "      <td>NaN</td>\n",
       "      <td>NaN</td>\n",
       "      <td>NaN</td>\n",
       "      <td>NaN</td>\n",
       "      <td>NaN</td>\n",
       "      <td>NaN</td>\n",
       "      <td>0.01</td>\n",
       "    </tr>\n",
       "    <tr>\n",
       "      <th>16718</th>\n",
       "      <td>Winning Post 8 2016</td>\n",
       "      <td>PSV</td>\n",
       "      <td>2016.0</td>\n",
       "      <td>Simulation</td>\n",
       "      <td>Tecmo Koei</td>\n",
       "      <td>0.00</td>\n",
       "      <td>0.00</td>\n",
       "      <td>0.01</td>\n",
       "      <td>0.00</td>\n",
       "      <td>NaN</td>\n",
       "      <td>NaN</td>\n",
       "      <td>NaN</td>\n",
       "      <td>NaN</td>\n",
       "      <td>NaN</td>\n",
       "      <td>NaN</td>\n",
       "      <td>0.01</td>\n",
       "    </tr>\n",
       "  </tbody>\n",
       "</table>\n",
       "<p>16719 rows × 16 columns</p>\n",
       "</div>"
      ],
      "text/plain": [
       "                                Name Platform  Year_of_Release         Genre  \\\n",
       "0                         Wii Sports      Wii           2006.0        Sports   \n",
       "1                  Super Mario Bros.      NES           1985.0      Platform   \n",
       "2                     Mario Kart Wii      Wii           2008.0        Racing   \n",
       "3                  Wii Sports Resort      Wii           2009.0        Sports   \n",
       "4           Pokemon Red/Pokemon Blue       GB           1996.0  Role-Playing   \n",
       "...                              ...      ...              ...           ...   \n",
       "16714  Samurai Warriors: Sanada Maru      PS3           2016.0        Action   \n",
       "16715               LMA Manager 2007     X360           2006.0        Sports   \n",
       "16716        Haitaka no Psychedelica      PSV           2016.0     Adventure   \n",
       "16717               Spirits & Spells      GBA           2003.0      Platform   \n",
       "16718            Winning Post 8 2016      PSV           2016.0    Simulation   \n",
       "\n",
       "          Publisher  NA_Sales  EU_Sales  JP_Sales  Other_Sales  Critic_Score  \\\n",
       "0          Nintendo     41.36     28.96      3.77         8.45          76.0   \n",
       "1          Nintendo     29.08      3.58      6.81         0.77           NaN   \n",
       "2          Nintendo     15.68     12.76      3.79         3.29          82.0   \n",
       "3          Nintendo     15.61     10.93      3.28         2.95          80.0   \n",
       "4          Nintendo     11.27      8.89     10.22         1.00           NaN   \n",
       "...             ...       ...       ...       ...          ...           ...   \n",
       "16714    Tecmo Koei      0.00      0.00      0.01         0.00           NaN   \n",
       "16715   Codemasters      0.00      0.01      0.00         0.00           NaN   \n",
       "16716  Idea Factory      0.00      0.00      0.01         0.00           NaN   \n",
       "16717       Wanadoo      0.01      0.00      0.00         0.00           NaN   \n",
       "16718    Tecmo Koei      0.00      0.00      0.01         0.00           NaN   \n",
       "\n",
       "       Critic_Count  User_Score  User_Count Developer Rating  Global_Sales  \n",
       "0              51.0         8.0       322.0  Nintendo      E         82.53  \n",
       "1               NaN         NaN         NaN       NaN    NaN         40.24  \n",
       "2              73.0         8.3       709.0  Nintendo      E         35.52  \n",
       "3              73.0         8.0       192.0  Nintendo      E         32.77  \n",
       "4               NaN         NaN         NaN       NaN    NaN         31.37  \n",
       "...             ...         ...         ...       ...    ...           ...  \n",
       "16714           NaN         NaN         NaN       NaN    NaN          0.01  \n",
       "16715           NaN         NaN         NaN       NaN    NaN          0.01  \n",
       "16716           NaN         NaN         NaN       NaN    NaN          0.01  \n",
       "16717           NaN         NaN         NaN       NaN    NaN          0.01  \n",
       "16718           NaN         NaN         NaN       NaN    NaN          0.01  \n",
       "\n",
       "[16719 rows x 16 columns]"
      ]
     },
     "execution_count": 4,
     "metadata": {},
     "output_type": "execute_result"
    }
   ],
   "source": [
    "data"
   ]
  },
  {
   "cell_type": "code",
   "execution_count": 5,
   "metadata": {},
   "outputs": [
    {
     "data": {
      "text/plain": [
       "Name                object\n",
       "Platform            object\n",
       "Year_of_Release    float64\n",
       "Genre               object\n",
       "Publisher           object\n",
       "NA_Sales           float64\n",
       "EU_Sales           float64\n",
       "JP_Sales           float64\n",
       "Other_Sales        float64\n",
       "Critic_Score       float64\n",
       "Critic_Count       float64\n",
       "User_Score         float64\n",
       "User_Count         float64\n",
       "Developer           object\n",
       "Rating              object\n",
       "Global_Sales       float64\n",
       "dtype: object"
      ]
     },
     "execution_count": 5,
     "metadata": {},
     "output_type": "execute_result"
    }
   ],
   "source": [
    "data.dtypes"
   ]
  },
  {
   "cell_type": "code",
   "execution_count": 6,
   "metadata": {},
   "outputs": [
    {
     "data": {
      "text/html": [
       "<div>\n",
       "<style scoped>\n",
       "    .dataframe tbody tr th:only-of-type {\n",
       "        vertical-align: middle;\n",
       "    }\n",
       "\n",
       "    .dataframe tbody tr th {\n",
       "        vertical-align: top;\n",
       "    }\n",
       "\n",
       "    .dataframe thead th {\n",
       "        text-align: right;\n",
       "    }\n",
       "</style>\n",
       "<table border=\"1\" class=\"dataframe\">\n",
       "  <thead>\n",
       "    <tr style=\"text-align: right;\">\n",
       "      <th></th>\n",
       "      <th>Year_of_Release</th>\n",
       "      <th>NA_Sales</th>\n",
       "      <th>EU_Sales</th>\n",
       "      <th>JP_Sales</th>\n",
       "      <th>Other_Sales</th>\n",
       "      <th>Critic_Score</th>\n",
       "      <th>Critic_Count</th>\n",
       "      <th>User_Score</th>\n",
       "      <th>User_Count</th>\n",
       "      <th>Global_Sales</th>\n",
       "    </tr>\n",
       "  </thead>\n",
       "  <tbody>\n",
       "    <tr>\n",
       "      <th>count</th>\n",
       "      <td>16450.000000</td>\n",
       "      <td>16719.000000</td>\n",
       "      <td>16719.000000</td>\n",
       "      <td>16719.000000</td>\n",
       "      <td>16719.000000</td>\n",
       "      <td>8137.000000</td>\n",
       "      <td>8137.000000</td>\n",
       "      <td>7590.000000</td>\n",
       "      <td>7590.000000</td>\n",
       "      <td>16719.000000</td>\n",
       "    </tr>\n",
       "    <tr>\n",
       "      <th>mean</th>\n",
       "      <td>2006.487356</td>\n",
       "      <td>0.263330</td>\n",
       "      <td>0.145025</td>\n",
       "      <td>0.077602</td>\n",
       "      <td>0.047332</td>\n",
       "      <td>68.967679</td>\n",
       "      <td>26.360821</td>\n",
       "      <td>7.125046</td>\n",
       "      <td>162.229908</td>\n",
       "      <td>0.533543</td>\n",
       "    </tr>\n",
       "    <tr>\n",
       "      <th>std</th>\n",
       "      <td>5.878995</td>\n",
       "      <td>0.813514</td>\n",
       "      <td>0.503283</td>\n",
       "      <td>0.308818</td>\n",
       "      <td>0.186710</td>\n",
       "      <td>13.938165</td>\n",
       "      <td>18.980495</td>\n",
       "      <td>1.500006</td>\n",
       "      <td>561.282326</td>\n",
       "      <td>1.547935</td>\n",
       "    </tr>\n",
       "    <tr>\n",
       "      <th>min</th>\n",
       "      <td>1980.000000</td>\n",
       "      <td>0.000000</td>\n",
       "      <td>0.000000</td>\n",
       "      <td>0.000000</td>\n",
       "      <td>0.000000</td>\n",
       "      <td>13.000000</td>\n",
       "      <td>3.000000</td>\n",
       "      <td>0.000000</td>\n",
       "      <td>4.000000</td>\n",
       "      <td>0.010000</td>\n",
       "    </tr>\n",
       "    <tr>\n",
       "      <th>25%</th>\n",
       "      <td>2003.000000</td>\n",
       "      <td>0.000000</td>\n",
       "      <td>0.000000</td>\n",
       "      <td>0.000000</td>\n",
       "      <td>0.000000</td>\n",
       "      <td>60.000000</td>\n",
       "      <td>12.000000</td>\n",
       "      <td>6.400000</td>\n",
       "      <td>10.000000</td>\n",
       "      <td>0.060000</td>\n",
       "    </tr>\n",
       "    <tr>\n",
       "      <th>50%</th>\n",
       "      <td>2007.000000</td>\n",
       "      <td>0.080000</td>\n",
       "      <td>0.020000</td>\n",
       "      <td>0.000000</td>\n",
       "      <td>0.010000</td>\n",
       "      <td>71.000000</td>\n",
       "      <td>21.000000</td>\n",
       "      <td>7.500000</td>\n",
       "      <td>24.000000</td>\n",
       "      <td>0.170000</td>\n",
       "    </tr>\n",
       "    <tr>\n",
       "      <th>75%</th>\n",
       "      <td>2010.000000</td>\n",
       "      <td>0.240000</td>\n",
       "      <td>0.110000</td>\n",
       "      <td>0.040000</td>\n",
       "      <td>0.030000</td>\n",
       "      <td>79.000000</td>\n",
       "      <td>36.000000</td>\n",
       "      <td>8.200000</td>\n",
       "      <td>81.000000</td>\n",
       "      <td>0.470000</td>\n",
       "    </tr>\n",
       "    <tr>\n",
       "      <th>max</th>\n",
       "      <td>2020.000000</td>\n",
       "      <td>41.360000</td>\n",
       "      <td>28.960000</td>\n",
       "      <td>10.220000</td>\n",
       "      <td>10.570000</td>\n",
       "      <td>98.000000</td>\n",
       "      <td>113.000000</td>\n",
       "      <td>9.700000</td>\n",
       "      <td>10665.000000</td>\n",
       "      <td>82.530000</td>\n",
       "    </tr>\n",
       "  </tbody>\n",
       "</table>\n",
       "</div>"
      ],
      "text/plain": [
       "       Year_of_Release      NA_Sales      EU_Sales      JP_Sales  \\\n",
       "count     16450.000000  16719.000000  16719.000000  16719.000000   \n",
       "mean       2006.487356      0.263330      0.145025      0.077602   \n",
       "std           5.878995      0.813514      0.503283      0.308818   \n",
       "min        1980.000000      0.000000      0.000000      0.000000   \n",
       "25%        2003.000000      0.000000      0.000000      0.000000   \n",
       "50%        2007.000000      0.080000      0.020000      0.000000   \n",
       "75%        2010.000000      0.240000      0.110000      0.040000   \n",
       "max        2020.000000     41.360000     28.960000     10.220000   \n",
       "\n",
       "        Other_Sales  Critic_Score  Critic_Count   User_Score    User_Count  \\\n",
       "count  16719.000000   8137.000000   8137.000000  7590.000000   7590.000000   \n",
       "mean       0.047332     68.967679     26.360821     7.125046    162.229908   \n",
       "std        0.186710     13.938165     18.980495     1.500006    561.282326   \n",
       "min        0.000000     13.000000      3.000000     0.000000      4.000000   \n",
       "25%        0.000000     60.000000     12.000000     6.400000     10.000000   \n",
       "50%        0.010000     71.000000     21.000000     7.500000     24.000000   \n",
       "75%        0.030000     79.000000     36.000000     8.200000     81.000000   \n",
       "max       10.570000     98.000000    113.000000     9.700000  10665.000000   \n",
       "\n",
       "       Global_Sales  \n",
       "count  16719.000000  \n",
       "mean       0.533543  \n",
       "std        1.547935  \n",
       "min        0.010000  \n",
       "25%        0.060000  \n",
       "50%        0.170000  \n",
       "75%        0.470000  \n",
       "max       82.530000  "
      ]
     },
     "execution_count": 6,
     "metadata": {},
     "output_type": "execute_result"
    }
   ],
   "source": [
    "data.describe(include=['float64'])"
   ]
  },
  {
   "cell_type": "code",
   "execution_count": 7,
   "metadata": {},
   "outputs": [
    {
     "data": {
      "image/png": "[encoded data removed]",
      "text/plain": [
       "<Figure size 1080x720 with 1 Axes>"
      ]
     },
     "metadata": {
      "needs_background": "light"
     },
     "output_type": "display_data"
    }
   ],
   "source": [
    "plt.figure(figsize=(15,10))\n",
    "plt.bar(data['Year_of_Release'],(data['Global_Sales']*100000))\n",
    "plt.title('Genre Distribution')\n",
    "plt.xlabel('Year')\n",
    "plt.ylabel('sales')\n",
    "plt.show()"
   ]
  },
  {
   "cell_type": "code",
   "execution_count": 8,
   "metadata": {},
   "outputs": [
    {
     "data": {
      "text/plain": [
       "Name                  2\n",
       "Platform              0\n",
       "Year_of_Release     269\n",
       "Genre                 2\n",
       "Publisher            54\n",
       "NA_Sales              0\n",
       "EU_Sales              0\n",
       "JP_Sales              0\n",
       "Other_Sales           0\n",
       "Critic_Score       8582\n",
       "Critic_Count       8582\n",
       "User_Score         9129\n",
       "User_Count         9129\n",
       "Developer          6623\n",
       "Rating             6769\n",
       "Global_Sales          0\n",
       "dtype: int64"
      ]
     },
     "execution_count": 8,
     "metadata": {},
     "output_type": "execute_result"
    }
   ],
   "source": [
    "data.isnull().sum()"
   ]
  },
  {
   "cell_type": "code",
   "execution_count": 9,
   "metadata": {},
   "outputs": [
    {
     "data": {
      "text/plain": [
       "Name         11562\n",
       "Platform        31\n",
       "Genre           12\n",
       "Publisher      582\n",
       "Developer     1696\n",
       "Rating           8\n",
       "dtype: int64"
      ]
     },
     "execution_count": 9,
     "metadata": {},
     "output_type": "execute_result"
    }
   ],
   "source": [
    "data.select_dtypes(include='object').nunique()"
   ]
  },
  {
   "cell_type": "code",
   "execution_count": 10,
   "metadata": {},
   "outputs": [],
   "source": [
    "data1=data.drop(['User_Score','Critic_Score','Critic_Count','User_Count','Developer','Name','Year_of_Release','Publisher','Rating'],axis=1)"
   ]
  },
  {
   "cell_type": "code",
   "execution_count": 11,
   "metadata": {},
   "outputs": [],
   "source": [
    "data2=data1.dropna(subset=['Genre'],how='all')"
   ]
  },
  {
   "cell_type": "code",
   "execution_count": 12,
   "metadata": {},
   "outputs": [
    {
     "data": {
      "text/plain": [
       "Platform        0\n",
       "Genre           0\n",
       "NA_Sales        0\n",
       "EU_Sales        0\n",
       "JP_Sales        0\n",
       "Other_Sales     0\n",
       "Global_Sales    0\n",
       "dtype: int64"
      ]
     },
     "execution_count": 12,
     "metadata": {},
     "output_type": "execute_result"
    }
   ],
   "source": [
    "data2.isnull().sum()"
   ]
  },
  {
   "cell_type": "code",
   "execution_count": 13,
   "metadata": {},
   "outputs": [
    {
     "name": "stdout",
     "output_type": "stream",
     "text": [
      "4449\n"
     ]
    }
   ],
   "source": [
    "print(data2.duplicated().sum())"
   ]
  },
  {
   "cell_type": "code",
   "execution_count": 14,
   "metadata": {},
   "outputs": [],
   "source": [
    "data3=data2.drop_duplicates(inplace=False)"
   ]
  },
  {
   "cell_type": "code",
   "execution_count": 15,
   "metadata": {},
   "outputs": [
    {
     "data": {
      "text/plain": [
       "<seaborn.axisgrid.PairGrid at 0x1996e996cc0>"
      ]
     },
     "execution_count": 15,
     "metadata": {},
     "output_type": "execute_result"
    },
    {
     "data": {
      "image/png": "[encoded data removed]",
      "text/plain": [
       "<Figure size 900x900 with 30 Axes>"
      ]
     },
     "metadata": {
      "needs_background": "light"
     },
     "output_type": "display_data"
    }
   ],
   "source": [
    "sns.pairplot(data3)"
   ]
  },
  {
   "cell_type": "code",
   "execution_count": 16,
   "metadata": {},
   "outputs": [
    {
     "data": {
      "text/plain": [
       "(12268, 7)"
      ]
     },
     "execution_count": 16,
     "metadata": {},
     "output_type": "execute_result"
    }
   ],
   "source": [
    "data3.shape"
   ]
  },
  {
   "cell_type": "code",
   "execution_count": 17,
   "metadata": {},
   "outputs": [
    {
     "data": {
      "text/plain": [
       "Index(['Platform', 'Genre', 'NA_Sales', 'EU_Sales', 'JP_Sales', 'Other_Sales',\n",
       "       'Global_Sales'],\n",
       "      dtype='object')"
      ]
     },
     "execution_count": 17,
     "metadata": {},
     "output_type": "execute_result"
    }
   ],
   "source": [
    "data3.columns"
   ]
  },
  {
   "cell_type": "code",
   "execution_count": 18,
   "metadata": {},
   "outputs": [
    {
     "data": {
      "text/plain": [
       "Platform         object\n",
       "Genre            object\n",
       "NA_Sales        float64\n",
       "EU_Sales        float64\n",
       "JP_Sales        float64\n",
       "Other_Sales     float64\n",
       "Global_Sales    float64\n",
       "dtype: object"
      ]
     },
     "execution_count": 18,
     "metadata": {},
     "output_type": "execute_result"
    }
   ],
   "source": [
    "data3.dtypes"
   ]
  },
  {
   "cell_type": "code",
   "execution_count": 19,
   "metadata": {},
   "outputs": [],
   "source": [
    "numcols = ['NA_Sales','JP_Sales','EU_Sales','Other_Sales']"
   ]
  },
  {
   "cell_type": "code",
   "execution_count": 20,
   "metadata": {},
   "outputs": [
    {
     "data": {
      "text/html": [
       "<div>\n",
       "<style scoped>\n",
       "    .dataframe tbody tr th:only-of-type {\n",
       "        vertical-align: middle;\n",
       "    }\n",
       "\n",
       "    .dataframe tbody tr th {\n",
       "        vertical-align: top;\n",
       "    }\n",
       "\n",
       "    .dataframe thead th {\n",
       "        text-align: right;\n",
       "    }\n",
       "</style>\n",
       "<table border=\"1\" class=\"dataframe\">\n",
       "  <thead>\n",
       "    <tr style=\"text-align: right;\">\n",
       "      <th></th>\n",
       "      <th>Platform</th>\n",
       "      <th>Genre</th>\n",
       "      <th>NA_Sales</th>\n",
       "      <th>EU_Sales</th>\n",
       "      <th>JP_Sales</th>\n",
       "      <th>Other_Sales</th>\n",
       "      <th>Global_Sales</th>\n",
       "    </tr>\n",
       "  </thead>\n",
       "  <tbody>\n",
       "    <tr>\n",
       "      <th>1536</th>\n",
       "      <td>XOne</td>\n",
       "      <td>Role-Playing</td>\n",
       "      <td>0.78</td>\n",
       "      <td>0.38</td>\n",
       "      <td>0.00</td>\n",
       "      <td>0.12</td>\n",
       "      <td>1.28</td>\n",
       "    </tr>\n",
       "    <tr>\n",
       "      <th>1560</th>\n",
       "      <td>DS</td>\n",
       "      <td>Adventure</td>\n",
       "      <td>0.75</td>\n",
       "      <td>0.39</td>\n",
       "      <td>0.00</td>\n",
       "      <td>0.12</td>\n",
       "      <td>1.27</td>\n",
       "    </tr>\n",
       "    <tr>\n",
       "      <th>1564</th>\n",
       "      <td>X360</td>\n",
       "      <td>Fighting</td>\n",
       "      <td>0.74</td>\n",
       "      <td>0.40</td>\n",
       "      <td>0.00</td>\n",
       "      <td>0.12</td>\n",
       "      <td>1.27</td>\n",
       "    </tr>\n",
       "    <tr>\n",
       "      <th>1571</th>\n",
       "      <td>Wii</td>\n",
       "      <td>Sports</td>\n",
       "      <td>0.76</td>\n",
       "      <td>0.39</td>\n",
       "      <td>0.00</td>\n",
       "      <td>0.11</td>\n",
       "      <td>1.26</td>\n",
       "    </tr>\n",
       "    <tr>\n",
       "      <th>1581</th>\n",
       "      <td>DS</td>\n",
       "      <td>Strategy</td>\n",
       "      <td>0.77</td>\n",
       "      <td>0.37</td>\n",
       "      <td>0.00</td>\n",
       "      <td>0.11</td>\n",
       "      <td>1.25</td>\n",
       "    </tr>\n",
       "    <tr>\n",
       "      <th>...</th>\n",
       "      <td>...</td>\n",
       "      <td>...</td>\n",
       "      <td>...</td>\n",
       "      <td>...</td>\n",
       "      <td>...</td>\n",
       "      <td>...</td>\n",
       "      <td>...</td>\n",
       "    </tr>\n",
       "    <tr>\n",
       "      <th>16690</th>\n",
       "      <td>Wii</td>\n",
       "      <td>Racing</td>\n",
       "      <td>0.00</td>\n",
       "      <td>0.00</td>\n",
       "      <td>0.01</td>\n",
       "      <td>0.00</td>\n",
       "      <td>0.01</td>\n",
       "    </tr>\n",
       "    <tr>\n",
       "      <th>16697</th>\n",
       "      <td>N64</td>\n",
       "      <td>Sports</td>\n",
       "      <td>0.01</td>\n",
       "      <td>0.00</td>\n",
       "      <td>0.00</td>\n",
       "      <td>0.00</td>\n",
       "      <td>0.01</td>\n",
       "    </tr>\n",
       "    <tr>\n",
       "      <th>16698</th>\n",
       "      <td>N64</td>\n",
       "      <td>Action</td>\n",
       "      <td>0.01</td>\n",
       "      <td>0.00</td>\n",
       "      <td>0.00</td>\n",
       "      <td>0.00</td>\n",
       "      <td>0.01</td>\n",
       "    </tr>\n",
       "    <tr>\n",
       "      <th>16713</th>\n",
       "      <td>PS2</td>\n",
       "      <td>Racing</td>\n",
       "      <td>0.00</td>\n",
       "      <td>0.00</td>\n",
       "      <td>0.00</td>\n",
       "      <td>0.00</td>\n",
       "      <td>0.01</td>\n",
       "    </tr>\n",
       "    <tr>\n",
       "      <th>16718</th>\n",
       "      <td>PSV</td>\n",
       "      <td>Simulation</td>\n",
       "      <td>0.00</td>\n",
       "      <td>0.00</td>\n",
       "      <td>0.01</td>\n",
       "      <td>0.00</td>\n",
       "      <td>0.01</td>\n",
       "    </tr>\n",
       "  </tbody>\n",
       "</table>\n",
       "<p>8710 rows × 7 columns</p>\n",
       "</div>"
      ],
      "text/plain": [
       "      Platform         Genre  NA_Sales  EU_Sales  JP_Sales  Other_Sales  \\\n",
       "1536      XOne  Role-Playing      0.78      0.38      0.00         0.12   \n",
       "1560        DS     Adventure      0.75      0.39      0.00         0.12   \n",
       "1564      X360      Fighting      0.74      0.40      0.00         0.12   \n",
       "1571       Wii        Sports      0.76      0.39      0.00         0.11   \n",
       "1581        DS      Strategy      0.77      0.37      0.00         0.11   \n",
       "...        ...           ...       ...       ...       ...          ...   \n",
       "16690      Wii        Racing      0.00      0.00      0.01         0.00   \n",
       "16697      N64        Sports      0.01      0.00      0.00         0.00   \n",
       "16698      N64        Action      0.01      0.00      0.00         0.00   \n",
       "16713      PS2        Racing      0.00      0.00      0.00         0.00   \n",
       "16718      PSV    Simulation      0.00      0.00      0.01         0.00   \n",
       "\n",
       "       Global_Sales  \n",
       "1536           1.28  \n",
       "1560           1.27  \n",
       "1564           1.27  \n",
       "1571           1.26  \n",
       "1581           1.25  \n",
       "...             ...  \n",
       "16690          0.01  \n",
       "16697          0.01  \n",
       "16698          0.01  \n",
       "16713          0.01  \n",
       "16718          0.01  \n",
       "\n",
       "[8710 rows x 7 columns]"
      ]
     },
     "execution_count": 20,
     "metadata": {},
     "output_type": "execute_result"
    }
   ],
   "source": [
    "numeric_cols = data3[numcols]\n",
    "\n",
    "#Calculate the first and third quartiles for each column\n",
    "q1 = numeric_cols.quantile(0.25)\n",
    "q3 = numeric_cols.quantile(0.75)\n",
    "\n",
    "#Calculate the IQR for each column\n",
    "iqr = q3 - q1\n",
    "\n",
    "#Define the outlier bounds for each column\n",
    "lower_bounds = q1 - 1.5 * iqr\n",
    "upper_bounds = q3 + 1.5 * iqr\n",
    "\n",
    "# Filter out rows that fall outside the bounds for each column\n",
    "for col in numeric_cols.columns:\n",
    "    data3 = data3[(data[col] >= lower_bounds[col]) & (data3[col] <= upper_bounds[col])]\n",
    "\n",
    "# Print the filtered DataFrame\n",
    "data3"
   ]
  },
  {
   "cell_type": "code",
   "execution_count": 21,
   "metadata": {},
   "outputs": [],
   "source": [
    "scaler = StandardScaler()\n",
    "#scaler = RobustScaler()\n",
    "data3[['NA_Sales', 'EU_Sales', 'JP_Sales', 'Other_Sales']] = scaler.fit_transform(data3[['NA_Sales', 'EU_Sales', 'JP_Sales', 'Other_Sales']])\n"
   ]
  },
  {
   "cell_type": "code",
   "execution_count": 22,
   "metadata": {},
   "outputs": [
    {
     "data": {
      "text/html": [
       "<div>\n",
       "<style scoped>\n",
       "    .dataframe tbody tr th:only-of-type {\n",
       "        vertical-align: middle;\n",
       "    }\n",
       "\n",
       "    .dataframe tbody tr th {\n",
       "        vertical-align: top;\n",
       "    }\n",
       "\n",
       "    .dataframe thead th {\n",
       "        text-align: right;\n",
       "    }\n",
       "</style>\n",
       "<table border=\"1\" class=\"dataframe\">\n",
       "  <thead>\n",
       "    <tr style=\"text-align: right;\">\n",
       "      <th></th>\n",
       "      <th>Platform</th>\n",
       "      <th>Genre</th>\n",
       "      <th>NA_Sales</th>\n",
       "      <th>EU_Sales</th>\n",
       "      <th>JP_Sales</th>\n",
       "      <th>Other_Sales</th>\n",
       "      <th>Global_Sales</th>\n",
       "    </tr>\n",
       "  </thead>\n",
       "  <tbody>\n",
       "    <tr>\n",
       "      <th>1536</th>\n",
       "      <td>XOne</td>\n",
       "      <td>Role-Playing</td>\n",
       "      <td>3.865561</td>\n",
       "      <td>3.597285</td>\n",
       "      <td>-0.428118</td>\n",
       "      <td>3.940340</td>\n",
       "      <td>1.28</td>\n",
       "    </tr>\n",
       "    <tr>\n",
       "      <th>1560</th>\n",
       "      <td>DS</td>\n",
       "      <td>Adventure</td>\n",
       "      <td>3.681500</td>\n",
       "      <td>3.712055</td>\n",
       "      <td>-0.428118</td>\n",
       "      <td>3.940340</td>\n",
       "      <td>1.27</td>\n",
       "    </tr>\n",
       "    <tr>\n",
       "      <th>1564</th>\n",
       "      <td>X360</td>\n",
       "      <td>Fighting</td>\n",
       "      <td>3.620147</td>\n",
       "      <td>3.826826</td>\n",
       "      <td>-0.428118</td>\n",
       "      <td>3.940340</td>\n",
       "      <td>1.27</td>\n",
       "    </tr>\n",
       "    <tr>\n",
       "      <th>1571</th>\n",
       "      <td>Wii</td>\n",
       "      <td>Sports</td>\n",
       "      <td>3.742854</td>\n",
       "      <td>3.712055</td>\n",
       "      <td>-0.428118</td>\n",
       "      <td>3.543523</td>\n",
       "      <td>1.26</td>\n",
       "    </tr>\n",
       "    <tr>\n",
       "      <th>1581</th>\n",
       "      <td>DS</td>\n",
       "      <td>Strategy</td>\n",
       "      <td>3.804208</td>\n",
       "      <td>3.482514</td>\n",
       "      <td>-0.428118</td>\n",
       "      <td>3.543523</td>\n",
       "      <td>1.25</td>\n",
       "    </tr>\n",
       "    <tr>\n",
       "      <th>...</th>\n",
       "      <td>...</td>\n",
       "      <td>...</td>\n",
       "      <td>...</td>\n",
       "      <td>...</td>\n",
       "      <td>...</td>\n",
       "      <td>...</td>\n",
       "      <td>...</td>\n",
       "    </tr>\n",
       "    <tr>\n",
       "      <th>16690</th>\n",
       "      <td>Wii</td>\n",
       "      <td>Racing</td>\n",
       "      <td>-0.920023</td>\n",
       "      <td>-0.763995</td>\n",
       "      <td>-0.056046</td>\n",
       "      <td>-0.821472</td>\n",
       "      <td>0.01</td>\n",
       "    </tr>\n",
       "    <tr>\n",
       "      <th>16697</th>\n",
       "      <td>N64</td>\n",
       "      <td>Sports</td>\n",
       "      <td>-0.858669</td>\n",
       "      <td>-0.763995</td>\n",
       "      <td>-0.428118</td>\n",
       "      <td>-0.821472</td>\n",
       "      <td>0.01</td>\n",
       "    </tr>\n",
       "    <tr>\n",
       "      <th>16698</th>\n",
       "      <td>N64</td>\n",
       "      <td>Action</td>\n",
       "      <td>-0.858669</td>\n",
       "      <td>-0.763995</td>\n",
       "      <td>-0.428118</td>\n",
       "      <td>-0.821472</td>\n",
       "      <td>0.01</td>\n",
       "    </tr>\n",
       "    <tr>\n",
       "      <th>16713</th>\n",
       "      <td>PS2</td>\n",
       "      <td>Racing</td>\n",
       "      <td>-0.920023</td>\n",
       "      <td>-0.763995</td>\n",
       "      <td>-0.428118</td>\n",
       "      <td>-0.821472</td>\n",
       "      <td>0.01</td>\n",
       "    </tr>\n",
       "    <tr>\n",
       "      <th>16718</th>\n",
       "      <td>PSV</td>\n",
       "      <td>Simulation</td>\n",
       "      <td>-0.920023</td>\n",
       "      <td>-0.763995</td>\n",
       "      <td>-0.056046</td>\n",
       "      <td>-0.821472</td>\n",
       "      <td>0.01</td>\n",
       "    </tr>\n",
       "  </tbody>\n",
       "</table>\n",
       "<p>8710 rows × 7 columns</p>\n",
       "</div>"
      ],
      "text/plain": [
       "      Platform         Genre  NA_Sales  EU_Sales  JP_Sales  Other_Sales  \\\n",
       "1536      XOne  Role-Playing  3.865561  3.597285 -0.428118     3.940340   \n",
       "1560        DS     Adventure  3.681500  3.712055 -0.428118     3.940340   \n",
       "1564      X360      Fighting  3.620147  3.826826 -0.428118     3.940340   \n",
       "1571       Wii        Sports  3.742854  3.712055 -0.428118     3.543523   \n",
       "1581        DS      Strategy  3.804208  3.482514 -0.428118     3.543523   \n",
       "...        ...           ...       ...       ...       ...          ...   \n",
       "16690      Wii        Racing -0.920023 -0.763995 -0.056046    -0.821472   \n",
       "16697      N64        Sports -0.858669 -0.763995 -0.428118    -0.821472   \n",
       "16698      N64        Action -0.858669 -0.763995 -0.428118    -0.821472   \n",
       "16713      PS2        Racing -0.920023 -0.763995 -0.428118    -0.821472   \n",
       "16718      PSV    Simulation -0.920023 -0.763995 -0.056046    -0.821472   \n",
       "\n",
       "       Global_Sales  \n",
       "1536           1.28  \n",
       "1560           1.27  \n",
       "1564           1.27  \n",
       "1571           1.26  \n",
       "1581           1.25  \n",
       "...             ...  \n",
       "16690          0.01  \n",
       "16697          0.01  \n",
       "16698          0.01  \n",
       "16713          0.01  \n",
       "16718          0.01  \n",
       "\n",
       "[8710 rows x 7 columns]"
      ]
     },
     "execution_count": 22,
     "metadata": {},
     "output_type": "execute_result"
    }
   ],
   "source": [
    "data3"
   ]
  },
  {
   "cell_type": "code",
   "execution_count": 23,
   "metadata": {},
   "outputs": [],
   "source": [
    "encoder=LabelEncoder()\n",
    "data3.loc[:,'Platform']=encoder.fit_transform(data3.loc[:,'Platform'])\n",
    "data3.loc[:,'Genre']=encoder.fit_transform(data3.loc[:,'Genre'])"
   ]
  },
  {
   "cell_type": "code",
   "execution_count": 24,
   "metadata": {},
   "outputs": [
    {
     "data": {
      "text/html": [
       "<div>\n",
       "<style scoped>\n",
       "    .dataframe tbody tr th:only-of-type {\n",
       "        vertical-align: middle;\n",
       "    }\n",
       "\n",
       "    .dataframe tbody tr th {\n",
       "        vertical-align: top;\n",
       "    }\n",
       "\n",
       "    .dataframe thead th {\n",
       "        text-align: right;\n",
       "    }\n",
       "</style>\n",
       "<table border=\"1\" class=\"dataframe\">\n",
       "  <thead>\n",
       "    <tr style=\"text-align: right;\">\n",
       "      <th></th>\n",
       "      <th>Platform</th>\n",
       "      <th>Genre</th>\n",
       "      <th>NA_Sales</th>\n",
       "      <th>EU_Sales</th>\n",
       "      <th>JP_Sales</th>\n",
       "      <th>Other_Sales</th>\n",
       "      <th>Global_Sales</th>\n",
       "    </tr>\n",
       "  </thead>\n",
       "  <tbody>\n",
       "    <tr>\n",
       "      <th>1536</th>\n",
       "      <td>30</td>\n",
       "      <td>7</td>\n",
       "      <td>3.865561</td>\n",
       "      <td>3.597285</td>\n",
       "      <td>-0.428118</td>\n",
       "      <td>3.940340</td>\n",
       "      <td>1.28</td>\n",
       "    </tr>\n",
       "    <tr>\n",
       "      <th>1560</th>\n",
       "      <td>4</td>\n",
       "      <td>1</td>\n",
       "      <td>3.681500</td>\n",
       "      <td>3.712055</td>\n",
       "      <td>-0.428118</td>\n",
       "      <td>3.940340</td>\n",
       "      <td>1.27</td>\n",
       "    </tr>\n",
       "    <tr>\n",
       "      <th>1564</th>\n",
       "      <td>28</td>\n",
       "      <td>2</td>\n",
       "      <td>3.620147</td>\n",
       "      <td>3.826826</td>\n",
       "      <td>-0.428118</td>\n",
       "      <td>3.940340</td>\n",
       "      <td>1.27</td>\n",
       "    </tr>\n",
       "    <tr>\n",
       "      <th>1571</th>\n",
       "      <td>26</td>\n",
       "      <td>10</td>\n",
       "      <td>3.742854</td>\n",
       "      <td>3.712055</td>\n",
       "      <td>-0.428118</td>\n",
       "      <td>3.543523</td>\n",
       "      <td>1.26</td>\n",
       "    </tr>\n",
       "    <tr>\n",
       "      <th>1581</th>\n",
       "      <td>4</td>\n",
       "      <td>11</td>\n",
       "      <td>3.804208</td>\n",
       "      <td>3.482514</td>\n",
       "      <td>-0.428118</td>\n",
       "      <td>3.543523</td>\n",
       "      <td>1.25</td>\n",
       "    </tr>\n",
       "    <tr>\n",
       "      <th>...</th>\n",
       "      <td>...</td>\n",
       "      <td>...</td>\n",
       "      <td>...</td>\n",
       "      <td>...</td>\n",
       "      <td>...</td>\n",
       "      <td>...</td>\n",
       "      <td>...</td>\n",
       "    </tr>\n",
       "    <tr>\n",
       "      <th>16690</th>\n",
       "      <td>26</td>\n",
       "      <td>6</td>\n",
       "      <td>-0.920023</td>\n",
       "      <td>-0.763995</td>\n",
       "      <td>-0.056046</td>\n",
       "      <td>-0.821472</td>\n",
       "      <td>0.01</td>\n",
       "    </tr>\n",
       "    <tr>\n",
       "      <th>16697</th>\n",
       "      <td>10</td>\n",
       "      <td>10</td>\n",
       "      <td>-0.858669</td>\n",
       "      <td>-0.763995</td>\n",
       "      <td>-0.428118</td>\n",
       "      <td>-0.821472</td>\n",
       "      <td>0.01</td>\n",
       "    </tr>\n",
       "    <tr>\n",
       "      <th>16698</th>\n",
       "      <td>10</td>\n",
       "      <td>0</td>\n",
       "      <td>-0.858669</td>\n",
       "      <td>-0.763995</td>\n",
       "      <td>-0.428118</td>\n",
       "      <td>-0.821472</td>\n",
       "      <td>0.01</td>\n",
       "    </tr>\n",
       "    <tr>\n",
       "      <th>16713</th>\n",
       "      <td>16</td>\n",
       "      <td>6</td>\n",
       "      <td>-0.920023</td>\n",
       "      <td>-0.763995</td>\n",
       "      <td>-0.428118</td>\n",
       "      <td>-0.821472</td>\n",
       "      <td>0.01</td>\n",
       "    </tr>\n",
       "    <tr>\n",
       "      <th>16718</th>\n",
       "      <td>20</td>\n",
       "      <td>9</td>\n",
       "      <td>-0.920023</td>\n",
       "      <td>-0.763995</td>\n",
       "      <td>-0.056046</td>\n",
       "      <td>-0.821472</td>\n",
       "      <td>0.01</td>\n",
       "    </tr>\n",
       "  </tbody>\n",
       "</table>\n",
       "<p>8710 rows × 7 columns</p>\n",
       "</div>"
      ],
      "text/plain": [
       "       Platform  Genre  NA_Sales  EU_Sales  JP_Sales  Other_Sales  \\\n",
       "1536         30      7  3.865561  3.597285 -0.428118     3.940340   \n",
       "1560          4      1  3.681500  3.712055 -0.428118     3.940340   \n",
       "1564         28      2  3.620147  3.826826 -0.428118     3.940340   \n",
       "1571         26     10  3.742854  3.712055 -0.428118     3.543523   \n",
       "1581          4     11  3.804208  3.482514 -0.428118     3.543523   \n",
       "...         ...    ...       ...       ...       ...          ...   \n",
       "16690        26      6 -0.920023 -0.763995 -0.056046    -0.821472   \n",
       "16697        10     10 -0.858669 -0.763995 -0.428118    -0.821472   \n",
       "16698        10      0 -0.858669 -0.763995 -0.428118    -0.821472   \n",
       "16713        16      6 -0.920023 -0.763995 -0.428118    -0.821472   \n",
       "16718        20      9 -0.920023 -0.763995 -0.056046    -0.821472   \n",
       "\n",
       "       Global_Sales  \n",
       "1536           1.28  \n",
       "1560           1.27  \n",
       "1564           1.27  \n",
       "1571           1.26  \n",
       "1581           1.25  \n",
       "...             ...  \n",
       "16690          0.01  \n",
       "16697          0.01  \n",
       "16698          0.01  \n",
       "16713          0.01  \n",
       "16718          0.01  \n",
       "\n",
       "[8710 rows x 7 columns]"
      ]
     },
     "execution_count": 24,
     "metadata": {},
     "output_type": "execute_result"
    }
   ],
   "source": [
    "data3"
   ]
  },
  {
   "cell_type": "code",
   "execution_count": 25,
   "metadata": {},
   "outputs": [
    {
     "data": {
      "image/png": "[encoded data removed]",
      "text/plain": [
       "<Figure size 1080x720 with 1 Axes>"
      ]
     },
     "metadata": {
      "needs_background": "light"
     },
     "output_type": "display_data"
    }
   ],
   "source": [
    "platform_count=data3['Platform'].value_counts()\n",
    "plt.figure(figsize=(15,10))\n",
    "plt.bar(platform_count.index,platform_count.values)\n",
    "plt.title('platform Distribution')\n",
    "plt.xlabel('platform')\n",
    "plt.ylabel('Count')\n",
    "plt.show()"
   ]
  },
  {
   "cell_type": "code",
   "execution_count": 26,
   "metadata": {},
   "outputs": [
    {
     "data": {
      "image/png": "[encoded data removed]",
      "text/plain": [
       "<Figure size 1080x720 with 1 Axes>"
      ]
     },
     "metadata": {
      "needs_background": "light"
     },
     "output_type": "display_data"
    }
   ],
   "source": [
    "genre_counts=data3['Genre'].value_counts()\n",
    "plt.figure(figsize=(15,10))\n",
    "plt.bar(genre_counts.index, genre_counts.values)\n",
    "plt.title('Genre Distribution')\n",
    "plt.xlabel('Genre')\n",
    "plt.ylabel('Count')\n",
    "plt.show()"
   ]
  },
  {
   "cell_type": "code",
   "execution_count": 27,
   "metadata": {},
   "outputs": [],
   "source": [
    "corrr=data3.corr().abs()"
   ]
  },
  {
   "cell_type": "code",
   "execution_count": 28,
   "metadata": {},
   "outputs": [
    {
     "data": {
      "text/html": [
       "<div>\n",
       "<style scoped>\n",
       "    .dataframe tbody tr th:only-of-type {\n",
       "        vertical-align: middle;\n",
       "    }\n",
       "\n",
       "    .dataframe tbody tr th {\n",
       "        vertical-align: top;\n",
       "    }\n",
       "\n",
       "    .dataframe thead th {\n",
       "        text-align: right;\n",
       "    }\n",
       "</style>\n",
       "<table border=\"1\" class=\"dataframe\">\n",
       "  <thead>\n",
       "    <tr style=\"text-align: right;\">\n",
       "      <th></th>\n",
       "      <th>Platform</th>\n",
       "      <th>Genre</th>\n",
       "      <th>NA_Sales</th>\n",
       "      <th>EU_Sales</th>\n",
       "      <th>JP_Sales</th>\n",
       "      <th>Other_Sales</th>\n",
       "      <th>Global_Sales</th>\n",
       "    </tr>\n",
       "  </thead>\n",
       "  <tbody>\n",
       "    <tr>\n",
       "      <th>Platform</th>\n",
       "      <td>1.000000</td>\n",
       "      <td>0.016839</td>\n",
       "      <td>0.057723</td>\n",
       "      <td>0.098547</td>\n",
       "      <td>0.064297</td>\n",
       "      <td>0.151693</td>\n",
       "      <td>0.085788</td>\n",
       "    </tr>\n",
       "    <tr>\n",
       "      <th>Genre</th>\n",
       "      <td>0.016839</td>\n",
       "      <td>1.000000</td>\n",
       "      <td>0.016469</td>\n",
       "      <td>0.021245</td>\n",
       "      <td>0.008231</td>\n",
       "      <td>0.009148</td>\n",
       "      <td>0.001533</td>\n",
       "    </tr>\n",
       "    <tr>\n",
       "      <th>NA_Sales</th>\n",
       "      <td>0.057723</td>\n",
       "      <td>0.016469</td>\n",
       "      <td>1.000000</td>\n",
       "      <td>0.476374</td>\n",
       "      <td>0.194048</td>\n",
       "      <td>0.599503</td>\n",
       "      <td>0.916453</td>\n",
       "    </tr>\n",
       "    <tr>\n",
       "      <th>EU_Sales</th>\n",
       "      <td>0.098547</td>\n",
       "      <td>0.021245</td>\n",
       "      <td>0.476374</td>\n",
       "      <td>1.000000</td>\n",
       "      <td>0.143487</td>\n",
       "      <td>0.743437</td>\n",
       "      <td>0.767800</td>\n",
       "    </tr>\n",
       "    <tr>\n",
       "      <th>JP_Sales</th>\n",
       "      <td>0.064297</td>\n",
       "      <td>0.008231</td>\n",
       "      <td>0.194048</td>\n",
       "      <td>0.143487</td>\n",
       "      <td>1.000000</td>\n",
       "      <td>0.104962</td>\n",
       "      <td>0.085500</td>\n",
       "    </tr>\n",
       "    <tr>\n",
       "      <th>Other_Sales</th>\n",
       "      <td>0.151693</td>\n",
       "      <td>0.009148</td>\n",
       "      <td>0.599503</td>\n",
       "      <td>0.743437</td>\n",
       "      <td>0.104962</td>\n",
       "      <td>1.000000</td>\n",
       "      <td>0.788918</td>\n",
       "    </tr>\n",
       "    <tr>\n",
       "      <th>Global_Sales</th>\n",
       "      <td>0.085788</td>\n",
       "      <td>0.001533</td>\n",
       "      <td>0.916453</td>\n",
       "      <td>0.767800</td>\n",
       "      <td>0.085500</td>\n",
       "      <td>0.788918</td>\n",
       "      <td>1.000000</td>\n",
       "    </tr>\n",
       "  </tbody>\n",
       "</table>\n",
       "</div>"
      ],
      "text/plain": [
       "              Platform     Genre  NA_Sales  EU_Sales  JP_Sales  Other_Sales  \\\n",
       "Platform      1.000000  0.016839  0.057723  0.098547  0.064297     0.151693   \n",
       "Genre         0.016839  1.000000  0.016469  0.021245  0.008231     0.009148   \n",
       "NA_Sales      0.057723  0.016469  1.000000  0.476374  0.194048     0.599503   \n",
       "EU_Sales      0.098547  0.021245  0.476374  1.000000  0.143487     0.743437   \n",
       "JP_Sales      0.064297  0.008231  0.194048  0.143487  1.000000     0.104962   \n",
       "Other_Sales   0.151693  0.009148  0.599503  0.743437  0.104962     1.000000   \n",
       "Global_Sales  0.085788  0.001533  0.916453  0.767800  0.085500     0.788918   \n",
       "\n",
       "              Global_Sales  \n",
       "Platform          0.085788  \n",
       "Genre             0.001533  \n",
       "NA_Sales          0.916453  \n",
       "EU_Sales          0.767800  \n",
       "JP_Sales          0.085500  \n",
       "Other_Sales       0.788918  \n",
       "Global_Sales      1.000000  "
      ]
     },
     "execution_count": 28,
     "metadata": {},
     "output_type": "execute_result"
    }
   ],
   "source": [
    "corrr"
   ]
  },
  {
   "cell_type": "code",
   "execution_count": 29,
   "metadata": {},
   "outputs": [
    {
     "data": {
      "image/png": "[encoded data removed]",
      "text/plain": [
       "<Figure size 2160x720 with 2 Axes>"
      ]
     },
     "metadata": {
      "needs_background": "light"
     },
     "output_type": "display_data"
    }
   ],
   "source": [
    "mask = np.triu(np.ones_like(corrr, dtype=bool))\n",
    "fig, ax = plt.subplots(figsize=(30, 10))\n",
    "sns.heatmap(corrr, mask=mask,vmax=.3, center=0,\n",
    "            square=True, linewidths=.60, cbar_kws={\"shrink\": .5})\n",
    "plt.show()"
   ]
  },
  {
   "cell_type": "code",
   "execution_count": 30,
   "metadata": {},
   "outputs": [],
   "source": [
    "corr_with_target = corrr['Global_Sales'].sort_values(ascending=False)"
   ]
  },
  {
   "cell_type": "code",
   "execution_count": 31,
   "metadata": {},
   "outputs": [],
   "source": [
    "c=pd.DataFrame(corr_with_target[corr_with_target<0.5])"
   ]
  },
  {
   "cell_type": "code",
   "execution_count": 32,
   "metadata": {},
   "outputs": [
    {
     "data": {
      "text/html": [
       "<div>\n",
       "<style scoped>\n",
       "    .dataframe tbody tr th:only-of-type {\n",
       "        vertical-align: middle;\n",
       "    }\n",
       "\n",
       "    .dataframe tbody tr th {\n",
       "        vertical-align: top;\n",
       "    }\n",
       "\n",
       "    .dataframe thead th {\n",
       "        text-align: right;\n",
       "    }\n",
       "</style>\n",
       "<table border=\"1\" class=\"dataframe\">\n",
       "  <thead>\n",
       "    <tr style=\"text-align: right;\">\n",
       "      <th></th>\n",
       "      <th>Global_Sales</th>\n",
       "    </tr>\n",
       "  </thead>\n",
       "  <tbody>\n",
       "    <tr>\n",
       "      <th>Platform</th>\n",
       "      <td>0.085788</td>\n",
       "    </tr>\n",
       "    <tr>\n",
       "      <th>JP_Sales</th>\n",
       "      <td>0.085500</td>\n",
       "    </tr>\n",
       "    <tr>\n",
       "      <th>Genre</th>\n",
       "      <td>0.001533</td>\n",
       "    </tr>\n",
       "  </tbody>\n",
       "</table>\n",
       "</div>"
      ],
      "text/plain": [
       "          Global_Sales\n",
       "Platform      0.085788\n",
       "JP_Sales      0.085500\n",
       "Genre         0.001533"
      ]
     },
     "execution_count": 32,
     "metadata": {},
     "output_type": "execute_result"
    }
   ],
   "source": [
    "c"
   ]
  },
  {
   "cell_type": "code",
   "execution_count": 33,
   "metadata": {},
   "outputs": [],
   "source": [
    "#data3=data3.drop(['EU_Sales','Other_Sales'],axis=1)"
   ]
  },
  {
   "cell_type": "code",
   "execution_count": null,
   "metadata": {},
   "outputs": [],
   "source": []
  },
  {
   "cell_type": "code",
   "execution_count": 34,
   "metadata": {},
   "outputs": [
    {
     "data": {
      "image/png": "[encoded data removed]",
      "text/plain": [
       "<Figure size 576x576 with 1 Axes>"
      ]
     },
     "metadata": {
      "needs_background": "light"
     },
     "output_type": "display_data"
    },
    {
     "data": {
      "image/png": "[encoded data removed]",
      "text/plain": [
       "<Figure size 576x576 with 1 Axes>"
      ]
     },
     "metadata": {
      "needs_background": "light"
     },
     "output_type": "display_data"
    },
    {
     "data": {
      "image/png": "[encoded data removed]",
      "text/plain": [
       "<Figure size 576x576 with 1 Axes>"
      ]
     },
     "metadata": {
      "needs_background": "light"
     },
     "output_type": "display_data"
    },
    {
     "data": {
      "image/png": "[encoded data removed]",
      "text/plain": [
       "<Figure size 576x576 with 1 Axes>"
      ]
     },
     "metadata": {
      "needs_background": "light"
     },
     "output_type": "display_data"
    }
   ],
   "source": [
    "for col in numcols:\n",
    "    plt.figure(figsize = (8, 8))\n",
    "    sns.distplot(data3[col],bins=30)\n",
    "    plt.show()"
   ]
  },
  {
   "cell_type": "code",
   "execution_count": 35,
   "metadata": {},
   "outputs": [],
   "source": [
    "data3[numcols]= data3[numcols].abs()"
   ]
  },
  {
   "cell_type": "code",
   "execution_count": 36,
   "metadata": {},
   "outputs": [],
   "source": [
    "data3[numcols]= data3[numcols]+ 0.1"
   ]
  },
  {
   "cell_type": "code",
   "execution_count": 37,
   "metadata": {},
   "outputs": [
    {
     "data": {
      "text/html": [
       "<div>\n",
       "<style scoped>\n",
       "    .dataframe tbody tr th:only-of-type {\n",
       "        vertical-align: middle;\n",
       "    }\n",
       "\n",
       "    .dataframe tbody tr th {\n",
       "        vertical-align: top;\n",
       "    }\n",
       "\n",
       "    .dataframe thead th {\n",
       "        text-align: right;\n",
       "    }\n",
       "</style>\n",
       "<table border=\"1\" class=\"dataframe\">\n",
       "  <thead>\n",
       "    <tr style=\"text-align: right;\">\n",
       "      <th></th>\n",
       "      <th>Platform</th>\n",
       "      <th>Genre</th>\n",
       "      <th>NA_Sales</th>\n",
       "      <th>EU_Sales</th>\n",
       "      <th>JP_Sales</th>\n",
       "      <th>Other_Sales</th>\n",
       "      <th>Global_Sales</th>\n",
       "    </tr>\n",
       "  </thead>\n",
       "  <tbody>\n",
       "    <tr>\n",
       "      <th>1536</th>\n",
       "      <td>30</td>\n",
       "      <td>7</td>\n",
       "      <td>1.377647</td>\n",
       "      <td>1.307599</td>\n",
       "      <td>-0.638436</td>\n",
       "      <td>1.396329</td>\n",
       "      <td>1.28</td>\n",
       "    </tr>\n",
       "    <tr>\n",
       "      <th>1560</th>\n",
       "      <td>4</td>\n",
       "      <td>1</td>\n",
       "      <td>1.330121</td>\n",
       "      <td>1.338168</td>\n",
       "      <td>-0.638436</td>\n",
       "      <td>1.396329</td>\n",
       "      <td>1.27</td>\n",
       "    </tr>\n",
       "    <tr>\n",
       "      <th>1564</th>\n",
       "      <td>28</td>\n",
       "      <td>2</td>\n",
       "      <td>1.313763</td>\n",
       "      <td>1.367831</td>\n",
       "      <td>-0.638436</td>\n",
       "      <td>1.396329</td>\n",
       "      <td>1.27</td>\n",
       "    </tr>\n",
       "    <tr>\n",
       "      <th>1571</th>\n",
       "      <td>26</td>\n",
       "      <td>10</td>\n",
       "      <td>1.346215</td>\n",
       "      <td>1.338168</td>\n",
       "      <td>-0.638436</td>\n",
       "      <td>1.292951</td>\n",
       "      <td>1.26</td>\n",
       "    </tr>\n",
       "    <tr>\n",
       "      <th>1581</th>\n",
       "      <td>4</td>\n",
       "      <td>11</td>\n",
       "      <td>1.362055</td>\n",
       "      <td>1.276065</td>\n",
       "      <td>-0.638436</td>\n",
       "      <td>1.292951</td>\n",
       "      <td>1.25</td>\n",
       "    </tr>\n",
       "    <tr>\n",
       "      <th>...</th>\n",
       "      <td>...</td>\n",
       "      <td>...</td>\n",
       "      <td>...</td>\n",
       "      <td>...</td>\n",
       "      <td>...</td>\n",
       "      <td>...</td>\n",
       "      <td>...</td>\n",
       "    </tr>\n",
       "    <tr>\n",
       "      <th>16690</th>\n",
       "      <td>26</td>\n",
       "      <td>6</td>\n",
       "      <td>0.019825</td>\n",
       "      <td>-0.146189</td>\n",
       "      <td>-1.857606</td>\n",
       "      <td>-0.081783</td>\n",
       "      <td>0.01</td>\n",
       "    </tr>\n",
       "    <tr>\n",
       "      <th>16697</th>\n",
       "      <td>10</td>\n",
       "      <td>10</td>\n",
       "      <td>-0.042209</td>\n",
       "      <td>-0.146189</td>\n",
       "      <td>-0.638436</td>\n",
       "      <td>-0.081783</td>\n",
       "      <td>0.01</td>\n",
       "    </tr>\n",
       "    <tr>\n",
       "      <th>16698</th>\n",
       "      <td>10</td>\n",
       "      <td>0</td>\n",
       "      <td>-0.042209</td>\n",
       "      <td>-0.146189</td>\n",
       "      <td>-0.638436</td>\n",
       "      <td>-0.081783</td>\n",
       "      <td>0.01</td>\n",
       "    </tr>\n",
       "    <tr>\n",
       "      <th>16713</th>\n",
       "      <td>16</td>\n",
       "      <td>6</td>\n",
       "      <td>0.019825</td>\n",
       "      <td>-0.146189</td>\n",
       "      <td>-0.638436</td>\n",
       "      <td>-0.081783</td>\n",
       "      <td>0.01</td>\n",
       "    </tr>\n",
       "    <tr>\n",
       "      <th>16718</th>\n",
       "      <td>20</td>\n",
       "      <td>9</td>\n",
       "      <td>0.019825</td>\n",
       "      <td>-0.146189</td>\n",
       "      <td>-1.857606</td>\n",
       "      <td>-0.081783</td>\n",
       "      <td>0.01</td>\n",
       "    </tr>\n",
       "  </tbody>\n",
       "</table>\n",
       "<p>8710 rows × 7 columns</p>\n",
       "</div>"
      ],
      "text/plain": [
       "       Platform  Genre  NA_Sales  EU_Sales  JP_Sales  Other_Sales  \\\n",
       "1536         30      7  1.377647  1.307599 -0.638436     1.396329   \n",
       "1560          4      1  1.330121  1.338168 -0.638436     1.396329   \n",
       "1564         28      2  1.313763  1.367831 -0.638436     1.396329   \n",
       "1571         26     10  1.346215  1.338168 -0.638436     1.292951   \n",
       "1581          4     11  1.362055  1.276065 -0.638436     1.292951   \n",
       "...         ...    ...       ...       ...       ...          ...   \n",
       "16690        26      6  0.019825 -0.146189 -1.857606    -0.081783   \n",
       "16697        10     10 -0.042209 -0.146189 -0.638436    -0.081783   \n",
       "16698        10      0 -0.042209 -0.146189 -0.638436    -0.081783   \n",
       "16713        16      6  0.019825 -0.146189 -0.638436    -0.081783   \n",
       "16718        20      9  0.019825 -0.146189 -1.857606    -0.081783   \n",
       "\n",
       "       Global_Sales  \n",
       "1536           1.28  \n",
       "1560           1.27  \n",
       "1564           1.27  \n",
       "1571           1.26  \n",
       "1581           1.25  \n",
       "...             ...  \n",
       "16690          0.01  \n",
       "16697          0.01  \n",
       "16698          0.01  \n",
       "16713          0.01  \n",
       "16718          0.01  \n",
       "\n",
       "[8710 rows x 7 columns]"
      ]
     },
     "execution_count": 37,
     "metadata": {},
     "output_type": "execute_result"
    }
   ],
   "source": [
    "for col in numcols:\n",
    "    data3[col] = np.log(data3[col])\n",
    "    \n",
    "   \n",
    "    \n",
    "data3"
   ]
  },
  {
   "cell_type": "code",
   "execution_count": 38,
   "metadata": {},
   "outputs": [
    {
     "data": {
      "image/png": "[encoded data removed]",
      "text/plain": [
       "<Figure size 432x432 with 1 Axes>"
      ]
     },
     "metadata": {
      "needs_background": "light"
     },
     "output_type": "display_data"
    },
    {
     "data": {
      "image/png": "[encoded data removed]",
      "text/plain": [
       "<Figure size 432x432 with 1 Axes>"
      ]
     },
     "metadata": {
      "needs_background": "light"
     },
     "output_type": "display_data"
    },
    {
     "data": {
      "image/png": "[encoded data removed]",
      "text/plain": [
       "<Figure size 432x432 with 1 Axes>"
      ]
     },
     "metadata": {
      "needs_background": "light"
     },
     "output_type": "display_data"
    },
    {
     "data": {
      "image/png": "[encoded data removed]",
      "text/plain": [
       "<Figure size 432x432 with 1 Axes>"
      ]
     },
     "metadata": {
      "needs_background": "light"
     },
     "output_type": "display_data"
    }
   ],
   "source": [
    "for col in numcols:\n",
    "    plt.figure(figsize = (6,6))\n",
    "    sns.distplot(data3[col],bins=20)\n",
    "    plt.show()"
   ]
  },
  {
   "cell_type": "code",
   "execution_count": 39,
   "metadata": {},
   "outputs": [],
   "source": [
    "X = data3.drop(['Global_Sales'], axis=1)\n",
    "y = data3[['Global_Sales']]"
   ]
  },
  {
   "cell_type": "code",
   "execution_count": 40,
   "metadata": {},
   "outputs": [
    {
     "data": {
      "text/html": [
       "<div>\n",
       "<style scoped>\n",
       "    .dataframe tbody tr th:only-of-type {\n",
       "        vertical-align: middle;\n",
       "    }\n",
       "\n",
       "    .dataframe tbody tr th {\n",
       "        vertical-align: top;\n",
       "    }\n",
       "\n",
       "    .dataframe thead th {\n",
       "        text-align: right;\n",
       "    }\n",
       "</style>\n",
       "<table border=\"1\" class=\"dataframe\">\n",
       "  <thead>\n",
       "    <tr style=\"text-align: right;\">\n",
       "      <th></th>\n",
       "      <th>Platform</th>\n",
       "      <th>Genre</th>\n",
       "      <th>NA_Sales</th>\n",
       "      <th>EU_Sales</th>\n",
       "      <th>JP_Sales</th>\n",
       "      <th>Other_Sales</th>\n",
       "    </tr>\n",
       "  </thead>\n",
       "  <tbody>\n",
       "    <tr>\n",
       "      <th>1536</th>\n",
       "      <td>30</td>\n",
       "      <td>7</td>\n",
       "      <td>1.377647</td>\n",
       "      <td>1.307599</td>\n",
       "      <td>-0.638436</td>\n",
       "      <td>1.396329</td>\n",
       "    </tr>\n",
       "    <tr>\n",
       "      <th>1560</th>\n",
       "      <td>4</td>\n",
       "      <td>1</td>\n",
       "      <td>1.330121</td>\n",
       "      <td>1.338168</td>\n",
       "      <td>-0.638436</td>\n",
       "      <td>1.396329</td>\n",
       "    </tr>\n",
       "    <tr>\n",
       "      <th>1564</th>\n",
       "      <td>28</td>\n",
       "      <td>2</td>\n",
       "      <td>1.313763</td>\n",
       "      <td>1.367831</td>\n",
       "      <td>-0.638436</td>\n",
       "      <td>1.396329</td>\n",
       "    </tr>\n",
       "    <tr>\n",
       "      <th>1571</th>\n",
       "      <td>26</td>\n",
       "      <td>10</td>\n",
       "      <td>1.346215</td>\n",
       "      <td>1.338168</td>\n",
       "      <td>-0.638436</td>\n",
       "      <td>1.292951</td>\n",
       "    </tr>\n",
       "    <tr>\n",
       "      <th>1581</th>\n",
       "      <td>4</td>\n",
       "      <td>11</td>\n",
       "      <td>1.362055</td>\n",
       "      <td>1.276065</td>\n",
       "      <td>-0.638436</td>\n",
       "      <td>1.292951</td>\n",
       "    </tr>\n",
       "    <tr>\n",
       "      <th>...</th>\n",
       "      <td>...</td>\n",
       "      <td>...</td>\n",
       "      <td>...</td>\n",
       "      <td>...</td>\n",
       "      <td>...</td>\n",
       "      <td>...</td>\n",
       "    </tr>\n",
       "    <tr>\n",
       "      <th>16690</th>\n",
       "      <td>26</td>\n",
       "      <td>6</td>\n",
       "      <td>0.019825</td>\n",
       "      <td>-0.146189</td>\n",
       "      <td>-1.857606</td>\n",
       "      <td>-0.081783</td>\n",
       "    </tr>\n",
       "    <tr>\n",
       "      <th>16697</th>\n",
       "      <td>10</td>\n",
       "      <td>10</td>\n",
       "      <td>-0.042209</td>\n",
       "      <td>-0.146189</td>\n",
       "      <td>-0.638436</td>\n",
       "      <td>-0.081783</td>\n",
       "    </tr>\n",
       "    <tr>\n",
       "      <th>16698</th>\n",
       "      <td>10</td>\n",
       "      <td>0</td>\n",
       "      <td>-0.042209</td>\n",
       "      <td>-0.146189</td>\n",
       "      <td>-0.638436</td>\n",
       "      <td>-0.081783</td>\n",
       "    </tr>\n",
       "    <tr>\n",
       "      <th>16713</th>\n",
       "      <td>16</td>\n",
       "      <td>6</td>\n",
       "      <td>0.019825</td>\n",
       "      <td>-0.146189</td>\n",
       "      <td>-0.638436</td>\n",
       "      <td>-0.081783</td>\n",
       "    </tr>\n",
       "    <tr>\n",
       "      <th>16718</th>\n",
       "      <td>20</td>\n",
       "      <td>9</td>\n",
       "      <td>0.019825</td>\n",
       "      <td>-0.146189</td>\n",
       "      <td>-1.857606</td>\n",
       "      <td>-0.081783</td>\n",
       "    </tr>\n",
       "  </tbody>\n",
       "</table>\n",
       "<p>8710 rows × 6 columns</p>\n",
       "</div>"
      ],
      "text/plain": [
       "       Platform  Genre  NA_Sales  EU_Sales  JP_Sales  Other_Sales\n",
       "1536         30      7  1.377647  1.307599 -0.638436     1.396329\n",
       "1560          4      1  1.330121  1.338168 -0.638436     1.396329\n",
       "1564         28      2  1.313763  1.367831 -0.638436     1.396329\n",
       "1571         26     10  1.346215  1.338168 -0.638436     1.292951\n",
       "1581          4     11  1.362055  1.276065 -0.638436     1.292951\n",
       "...         ...    ...       ...       ...       ...          ...\n",
       "16690        26      6  0.019825 -0.146189 -1.857606    -0.081783\n",
       "16697        10     10 -0.042209 -0.146189 -0.638436    -0.081783\n",
       "16698        10      0 -0.042209 -0.146189 -0.638436    -0.081783\n",
       "16713        16      6  0.019825 -0.146189 -0.638436    -0.081783\n",
       "16718        20      9  0.019825 -0.146189 -1.857606    -0.081783\n",
       "\n",
       "[8710 rows x 6 columns]"
      ]
     },
     "execution_count": 40,
     "metadata": {},
     "output_type": "execute_result"
    }
   ],
   "source": [
    "X"
   ]
  },
  {
   "cell_type": "code",
   "execution_count": 41,
   "metadata": {},
   "outputs": [
    {
     "data": {
      "text/html": [
       "<div>\n",
       "<style scoped>\n",
       "    .dataframe tbody tr th:only-of-type {\n",
       "        vertical-align: middle;\n",
       "    }\n",
       "\n",
       "    .dataframe tbody tr th {\n",
       "        vertical-align: top;\n",
       "    }\n",
       "\n",
       "    .dataframe thead th {\n",
       "        text-align: right;\n",
       "    }\n",
       "</style>\n",
       "<table border=\"1\" class=\"dataframe\">\n",
       "  <thead>\n",
       "    <tr style=\"text-align: right;\">\n",
       "      <th></th>\n",
       "      <th>Global_Sales</th>\n",
       "    </tr>\n",
       "  </thead>\n",
       "  <tbody>\n",
       "    <tr>\n",
       "      <th>1536</th>\n",
       "      <td>1.28</td>\n",
       "    </tr>\n",
       "    <tr>\n",
       "      <th>1560</th>\n",
       "      <td>1.27</td>\n",
       "    </tr>\n",
       "    <tr>\n",
       "      <th>1564</th>\n",
       "      <td>1.27</td>\n",
       "    </tr>\n",
       "    <tr>\n",
       "      <th>1571</th>\n",
       "      <td>1.26</td>\n",
       "    </tr>\n",
       "    <tr>\n",
       "      <th>1581</th>\n",
       "      <td>1.25</td>\n",
       "    </tr>\n",
       "    <tr>\n",
       "      <th>...</th>\n",
       "      <td>...</td>\n",
       "    </tr>\n",
       "    <tr>\n",
       "      <th>16690</th>\n",
       "      <td>0.01</td>\n",
       "    </tr>\n",
       "    <tr>\n",
       "      <th>16697</th>\n",
       "      <td>0.01</td>\n",
       "    </tr>\n",
       "    <tr>\n",
       "      <th>16698</th>\n",
       "      <td>0.01</td>\n",
       "    </tr>\n",
       "    <tr>\n",
       "      <th>16713</th>\n",
       "      <td>0.01</td>\n",
       "    </tr>\n",
       "    <tr>\n",
       "      <th>16718</th>\n",
       "      <td>0.01</td>\n",
       "    </tr>\n",
       "  </tbody>\n",
       "</table>\n",
       "<p>8710 rows × 1 columns</p>\n",
       "</div>"
      ],
      "text/plain": [
       "       Global_Sales\n",
       "1536           1.28\n",
       "1560           1.27\n",
       "1564           1.27\n",
       "1571           1.26\n",
       "1581           1.25\n",
       "...             ...\n",
       "16690          0.01\n",
       "16697          0.01\n",
       "16698          0.01\n",
       "16713          0.01\n",
       "16718          0.01\n",
       "\n",
       "[8710 rows x 1 columns]"
      ]
     },
     "execution_count": 41,
     "metadata": {},
     "output_type": "execute_result"
    }
   ],
   "source": [
    "y"
   ]
  },
  {
   "cell_type": "code",
   "execution_count": 42,
   "metadata": {},
   "outputs": [],
   "source": [
    "# train and validation set\n",
    "X_trainval, X_test, y_trainval, y_test = train_test_split(X, y, test_size=0.2, random_state=42)"
   ]
  },
  {
   "cell_type": "code",
   "execution_count": 43,
   "metadata": {},
   "outputs": [
    {
     "data": {
      "text/plain": [
       "(6968, 6)"
      ]
     },
     "execution_count": 43,
     "metadata": {},
     "output_type": "execute_result"
    }
   ],
   "source": [
    "X_trainval.shape"
   ]
  },
  {
   "cell_type": "code",
   "execution_count": 44,
   "metadata": {},
   "outputs": [
    {
     "data": {
      "text/plain": [
       "(1742, 6)"
      ]
     },
     "execution_count": 44,
     "metadata": {},
     "output_type": "execute_result"
    }
   ],
   "source": [
    "X_test.shape"
   ]
  },
  {
   "cell_type": "code",
   "execution_count": 45,
   "metadata": {},
   "outputs": [
    {
     "data": {
      "text/plain": [
       "(6968, 1)"
      ]
     },
     "execution_count": 45,
     "metadata": {},
     "output_type": "execute_result"
    }
   ],
   "source": [
    "y_trainval.shape"
   ]
  },
  {
   "cell_type": "code",
   "execution_count": 46,
   "metadata": {},
   "outputs": [
    {
     "data": {
      "text/plain": [
       "(1742, 1)"
      ]
     },
     "execution_count": 46,
     "metadata": {},
     "output_type": "execute_result"
    }
   ],
   "source": [
    "y_test.shape"
   ]
  },
  {
   "cell_type": "code",
   "execution_count": 47,
   "metadata": {},
   "outputs": [],
   "source": [
    "X_train, X_val, y_train, y_val = train_test_split(X_trainval, y_trainval, test_size=0.2, random_state=42)"
   ]
  },
  {
   "cell_type": "code",
   "execution_count": 48,
   "metadata": {},
   "outputs": [],
   "source": [
    "poly = PolynomialFeatures(degree=1)\n",
    "X_train_poly = poly.fit_transform(X_train)\n",
    "X_val_poly=poly.fit_transform(X_val)\n",
    "X_test_poly = poly.transform(X_test)\n",
    "\n"
   ]
  },
  {
   "cell_type": "code",
   "execution_count": 49,
   "metadata": {},
   "outputs": [
    {
     "data": {
      "text/plain": [
       "LinearRegression()"
      ]
     },
     "execution_count": 49,
     "metadata": {},
     "output_type": "execute_result"
    }
   ],
   "source": [
    "lr = LinearRegression()\n",
    "lr.fit(X_train_poly, y_train)"
   ]
  },
  {
   "cell_type": "code",
   "execution_count": 50,
   "metadata": {},
   "outputs": [
    {
     "name": "stdout",
     "output_type": "stream",
     "text": [
      "R-squared score: 0.26939677057166167\n",
      "Mean squared error: 0.03779193303531856\n",
      "Root Mean Squared Error: 0.19440147385068499\n",
      "Mean Absolute Error: 0.1659447318024754\n",
      "R-squared score: 0.29342906307077177\n",
      "Mean squared error: 0.040691183700605\n",
      "Root Mean Squared Error: 0.20172055844807937\n",
      "Mean Absolute Error: 0.172864696206039\n"
     ]
    }
   ],
   "source": [
    "# r2 of train and val\n",
    "y_val_pred1 = lr.predict(X_val_poly)\n",
    "r2 = r2_score(y_val, y_val_pred1)\n",
    "print(\"R-squared score:\", r2)\n",
    "# mse of train and val\n",
    "mse = mean_squared_error(y_val, y_val_pred1)\n",
    "print(\"Mean squared error:\", mse)\n",
    "rmse_test = np.sqrt(mse)\n",
    "print(\"Root Mean Squared Error:\", rmse_test)\n",
    "mae_test=mean_absolute_error(y_val, y_val_pred1)\n",
    "print(\"Mean Absolute Error:\",mae_test)\n",
    "# r2 of test and pred (degree=1)\n",
    "y_test_pred1 = lr.predict(X_test_poly)\n",
    "r2 = r2_score(y_test, y_test_pred1)\n",
    "print(\"R-squared score:\", r2)\n",
    "# mse of test and pred (degree=1)\n",
    "mse = mean_squared_error(y_test, y_test_pred1)\n",
    "print(\"Mean squared error:\", mse)\n",
    "rmse_test = np.sqrt(mse)\n",
    "print(\"Root Mean Squared Error:\", rmse_test)\n",
    "mae_test=mean_absolute_error(y_test, y_test_pred1)\n",
    "print(\"Mean Absolute Error:\",mae_test)"
   ]
  },
  {
   "cell_type": "code",
   "execution_count": 51,
   "metadata": {},
   "outputs": [
    {
     "data": {
      "text/plain": [
       "<matplotlib.collections.PathCollection at 0x1996f338c88>"
      ]
     },
     "execution_count": 51,
     "metadata": {},
     "output_type": "execute_result"
    },
    {
     "data": {
      "image/png": "[encoded data removed]",
      "text/plain": [
       "<Figure size 432x288 with 1 Axes>"
      ]
     },
     "metadata": {
      "needs_background": "light"
     },
     "output_type": "display_data"
    }
   ],
   "source": [
    "plt.scatter(y_test, y_test_pred1)"
   ]
  },
  {
   "cell_type": "code",
   "execution_count": 52,
   "metadata": {},
   "outputs": [],
   "source": [
    "poly = PolynomialFeatures(degree=2)\n",
    "X_train_poly = poly.fit_transform(X_train)\n",
    "X_val_poly = poly.transform(X_val)\n",
    "X_test_poly = poly.transform(X_test)\n"
   ]
  },
  {
   "cell_type": "code",
   "execution_count": 53,
   "metadata": {},
   "outputs": [
    {
     "data": {
      "text/plain": [
       "LinearRegression()"
      ]
     },
     "execution_count": 53,
     "metadata": {},
     "output_type": "execute_result"
    }
   ],
   "source": [
    "lr = LinearRegression()\n",
    "lr.fit(X_train_poly, y_train)"
   ]
  },
  {
   "cell_type": "code",
   "execution_count": 54,
   "metadata": {},
   "outputs": [
    {
     "name": "stdout",
     "output_type": "stream",
     "text": [
      "R-squared score: 0.7191584123452541\n",
      "Mean squared error: 0.014527100410554291\n",
      "Root Mean Squared Error: 0.12052842158824735\n",
      "Mean Absolute Error: 0.09810995544583907\n",
      "R-squared score: 0.7313446532269194\n",
      "Mean squared error: 0.015471771475916402\n",
      "Root Mean Squared Error: 0.12438557583544968\n",
      "Mean Absolute Error: 0.10181960871648603\n"
     ]
    }
   ],
   "source": [
    "# r2 of train and val\n",
    "y_val_pred2= lr.predict(X_val_poly)\n",
    "r2 = r2_score(y_val, y_val_pred2)\n",
    "print(\"R-squared score:\", r2)\n",
    "# mse of train and val\n",
    "mse = mean_squared_error(y_val, y_val_pred2)\n",
    "print(\"Mean squared error:\", mse)\n",
    "rmse_test = np.sqrt(mse)\n",
    "print(\"Root Mean Squared Error:\", rmse_test)\n",
    "mae_test=mean_absolute_error(y_val, y_val_pred2)\n",
    "print(\"Mean Absolute Error:\",mae_test)\n",
    "# r2 of test and pred (degree=2)\n",
    "y_test_pred2 = lr.predict(X_test_poly)\n",
    "r2 = r2_score(y_test, y_test_pred2)\n",
    "print(\"R-squared score:\", r2)\n",
    "# mse of test and pred (degree=2)\n",
    "mse = mean_squared_error(y_test, y_test_pred2)\n",
    "print(\"Mean squared error:\", mse)\n",
    "rmse_test = np.sqrt(mse)\n",
    "print(\"Root Mean Squared Error:\", rmse_test)\n",
    "mae_test=mean_absolute_error(y_test, y_test_pred2)\n",
    "print(\"Mean Absolute Error:\",mae_test)"
   ]
  },
  {
   "cell_type": "code",
   "execution_count": 55,
   "metadata": {},
   "outputs": [
    {
     "data": {
      "text/plain": [
       "<matplotlib.collections.PathCollection at 0x1996f3bc358>"
      ]
     },
     "execution_count": 55,
     "metadata": {},
     "output_type": "execute_result"
    },
    {
     "data": {
      "image/png": "[encoded data removed]",
      "text/plain": [
       "<Figure size 432x288 with 1 Axes>"
      ]
     },
     "metadata": {
      "needs_background": "light"
     },
     "output_type": "display_data"
    }
   ],
   "source": [
    "plt.scatter(y_test, y_test_pred2)"
   ]
  },
  {
   "cell_type": "code",
   "execution_count": 56,
   "metadata": {},
   "outputs": [],
   "source": [
    "poly = PolynomialFeatures(degree=3)\n",
    "X_train_poly = poly.fit_transform(X_train)\n",
    "X_val_poly = poly.transform(X_val)\n",
    "X_test_poly = poly.transform(X_test)"
   ]
  },
  {
   "cell_type": "code",
   "execution_count": 57,
   "metadata": {},
   "outputs": [
    {
     "data": {
      "text/plain": [
       "LinearRegression()"
      ]
     },
     "execution_count": 57,
     "metadata": {},
     "output_type": "execute_result"
    }
   ],
   "source": [
    "lr = LinearRegression()\n",
    "lr.fit(X_train_poly, y_train)"
   ]
  },
  {
   "cell_type": "code",
   "execution_count": 58,
   "metadata": {},
   "outputs": [
    {
     "name": "stdout",
     "output_type": "stream",
     "text": [
      "R-squared score: 0.7905925539907299\n",
      "Mean squared error: 0.010832024631032186\n",
      "Root Mean Squared Error: 0.10407701298092767\n",
      "Mean Absolute Error: 0.08159810993238983\n",
      "R-squared score: 0.7920593277726116\n",
      "Mean squared error: 0.011975233695862394\n",
      "Root Mean Squared Error: 0.10943141091963675\n",
      "Mean Absolute Error: 0.08664889509632331\n"
     ]
    }
   ],
   "source": [
    "# r2 of train and val\n",
    "y_val_pred3 = lr.predict(X_val_poly)\n",
    "r2 = r2_score(y_val, y_val_pred3)\n",
    "print(\"R-squared score:\", r2)\n",
    "# mse of train and val\n",
    "mse = mean_squared_error(y_val, y_val_pred3)\n",
    "print(\"Mean squared error:\", mse)\n",
    "rmse_test = np.sqrt(mse)\n",
    "print(\"Root Mean Squared Error:\", rmse_test)\n",
    "mae_test=mean_absolute_error(y_val, y_val_pred3)\n",
    "print(\"Mean Absolute Error:\",mae_test)\n",
    "# r2 of test and pred (degree=3)\n",
    "y_test_pred3 = lr.predict(X_test_poly)\n",
    "r2 = r2_score(y_test, y_test_pred3)\n",
    "print(\"R-squared score:\", r2)\n",
    "# mse of test and pred (degree=1)\n",
    "mse = mean_squared_error(y_test, y_test_pred3)\n",
    "print(\"Mean squared error:\", mse)\n",
    "rmse_test = np.sqrt(mse)\n",
    "print(\"Root Mean Squared Error:\", rmse_test)\n",
    "mae_test=mean_absolute_error(y_test, y_test_pred3)\n",
    "print(\"Mean Absolute Error:\",mae_test)"
   ]
  },
  {
   "cell_type": "code",
   "execution_count": 59,
   "metadata": {},
   "outputs": [
    {
     "data": {
      "text/plain": [
       "<matplotlib.collections.PathCollection at 0x1996f42fa20>"
      ]
     },
     "execution_count": 59,
     "metadata": {},
     "output_type": "execute_result"
    },
    {
     "data": {
      "image/png": "[encoded data removed]",
      "text/plain": [
       "<Figure size 432x288 with 1 Axes>"
      ]
     },
     "metadata": {
      "needs_background": "light"
     },
     "output_type": "display_data"
    }
   ],
   "source": [
    "plt.scatter(y_test, y_test_pred3)"
   ]
  },
  {
   "cell_type": "code",
   "execution_count": 60,
   "metadata": {},
   "outputs": [],
   "source": [
    "poly = PolynomialFeatures(degree=4)\n",
    "X_train_poly = poly.fit_transform(X_train)\n",
    "X_val_poly = poly.transform(X_val)\n",
    "X_test_poly = poly.transform(X_test)"
   ]
  },
  {
   "cell_type": "code",
   "execution_count": 61,
   "metadata": {},
   "outputs": [
    {
     "data": {
      "text/plain": [
       "LinearRegression()"
      ]
     },
     "execution_count": 61,
     "metadata": {},
     "output_type": "execute_result"
    }
   ],
   "source": [
    "lr = LinearRegression()\n",
    "lr.fit(X_train_poly, y_train)"
   ]
  },
  {
   "cell_type": "code",
   "execution_count": 62,
   "metadata": {},
   "outputs": [
    {
     "name": "stdout",
     "output_type": "stream",
     "text": [
      "R-squared score: 0.8493402568621544\n",
      "Mean squared error: 0.00779318061355795\n",
      "Root Mean Squared Error: 0.08827899304793836\n",
      "Mean Absolute Error: 0.06580134106175592\n",
      "R-squared score: 0.8519162885196532\n",
      "Mean squared error: 0.008528091366313483\n",
      "Root Mean Squared Error: 0.09234766573288944\n",
      "Mean Absolute Error: 0.06832828137364895\n"
     ]
    }
   ],
   "source": [
    "# r2 of train and val\n",
    "y_val_pred4 = lr.predict(X_val_poly)\n",
    "r2 = r2_score(y_val, y_val_pred4)\n",
    "print(\"R-squared score:\", r2)\n",
    "# mse of train and val\n",
    "mse = mean_squared_error(y_val, y_val_pred4)\n",
    "print(\"Mean squared error:\", mse)\n",
    "rmse_test = np.sqrt(mse)\n",
    "print(\"Root Mean Squared Error:\", rmse_test)\n",
    "mae_test=mean_absolute_error(y_val, y_val_pred4)\n",
    "print(\"Mean Absolute Error:\",mae_test)\n",
    "# r2 of test and pred (degree=4)\n",
    "y_test_pred4 = lr.predict(X_test_poly)\n",
    "r2 = r2_score(y_test, y_test_pred4)\n",
    "print(\"R-squared score:\", r2)\n",
    "# mse of test and pred (degree=4)\n",
    "mse = mean_squared_error(y_test, y_test_pred4)\n",
    "print(\"Mean squared error:\", mse)\n",
    "rmse_test = np.sqrt(mse)\n",
    "print(\"Root Mean Squared Error:\", rmse_test)\n",
    "mae_test=mean_absolute_error(y_test, y_test_pred4)\n",
    "print(\"Mean Absolute Error:\",mae_test)"
   ]
  },
  {
   "cell_type": "code",
   "execution_count": 63,
   "metadata": {},
   "outputs": [
    {
     "data": {
      "text/plain": [
       "<matplotlib.collections.PathCollection at 0x1997a6348d0>"
      ]
     },
     "execution_count": 63,
     "metadata": {},
     "output_type": "execute_result"
    },
    {
     "data": {
      "image/png": "[encoded data removed]",
      "text/plain": [
       "<Figure size 432x288 with 1 Axes>"
      ]
     },
     "metadata": {
      "needs_background": "light"
     },
     "output_type": "display_data"
    }
   ],
   "source": [
    "plt.scatter(y_test, y_test_pred4)"
   ]
  },
  {
   "cell_type": "code",
   "execution_count": 64,
   "metadata": {},
   "outputs": [],
   "source": [
    "poly = PolynomialFeatures(degree=5)\n",
    "X_train_poly = poly.fit_transform(X_train)\n",
    "X_val_poly = poly.transform(X_val)\n",
    "X_test_poly = poly.transform(X_test)"
   ]
  },
  {
   "cell_type": "code",
   "execution_count": 65,
   "metadata": {},
   "outputs": [
    {
     "data": {
      "text/plain": [
       "LinearRegression()"
      ]
     },
     "execution_count": 65,
     "metadata": {},
     "output_type": "execute_result"
    }
   ],
   "source": [
    "lr = LinearRegression()\n",
    "lr.fit(X_train_poly, y_train)"
   ]
  },
  {
   "cell_type": "code",
   "execution_count": 66,
   "metadata": {},
   "outputs": [
    {
     "name": "stdout",
     "output_type": "stream",
     "text": [
      "R-squared score: 0.8747955684963966\n",
      "Mean squared error: 0.006476453019255947\n",
      "Root Mean Squared Error: 0.08047641281304695\n",
      "Mean Absolute Error: 0.055821583807894884\n",
      "R-squared score: 0.8696872590504338\n",
      "Mean squared error: 0.00750466712309633\n",
      "Root Mean Squared Error: 0.08662948183555255\n",
      "Mean Absolute Error: 0.058800627059724664\n"
     ]
    }
   ],
   "source": [
    "# r2 of train and val\n",
    "y_val_pred5 = lr.predict(X_val_poly)\n",
    "r2 = r2_score(y_val, y_val_pred5)\n",
    "print(\"R-squared score:\", r2)\n",
    "# mse of train and val\n",
    "mse = mean_squared_error(y_val, y_val_pred5)\n",
    "print(\"Mean squared error:\", mse)\n",
    "rmse_test = np.sqrt(mse)\n",
    "print(\"Root Mean Squared Error:\", rmse_test)\n",
    "mae_test=mean_absolute_error(y_val, y_val_pred5)\n",
    "print(\"Mean Absolute Error:\",mae_test)\n",
    "# r2 of test and pred (degree=5)\n",
    "y_test_pred5 = lr.predict(X_test_poly)\n",
    "r2 = r2_score(y_test, y_test_pred5)\n",
    "print(\"R-squared score:\", r2)\n",
    "# mse of test and pred (degree=5)\n",
    "mse = mean_squared_error(y_test, y_test_pred5)\n",
    "print(\"Mean squared error:\", mse)\n",
    "rmse_test = np.sqrt(mse)\n",
    "print(\"Root Mean Squared Error:\", rmse_test)\n",
    "mae_test=mean_absolute_error(y_test, y_test_pred5)\n",
    "print(\"Mean Absolute Error:\",mae_test)"
   ]
  },
  {
   "cell_type": "code",
   "execution_count": 67,
   "metadata": {},
   "outputs": [
    {
     "data": {
      "text/plain": [
       "<matplotlib.collections.PathCollection at 0x1996f522a58>"
      ]
     },
     "execution_count": 67,
     "metadata": {},
     "output_type": "execute_result"
    },
    {
     "data": {
      "image/png": "[encoded data removed]",
      "text/plain": [
       "<Figure size 432x288 with 1 Axes>"
      ]
     },
     "metadata": {
      "needs_background": "light"
     },
     "output_type": "display_data"
    }
   ],
   "source": [
    "plt.scatter(y_test, y_test_pred5)"
   ]
  },
  {
   "cell_type": "code",
   "execution_count": 68,
   "metadata": {},
   "outputs": [
    {
     "data": {
      "text/html": [
       "<div>\n",
       "<style scoped>\n",
       "    .dataframe tbody tr th:only-of-type {\n",
       "        vertical-align: middle;\n",
       "    }\n",
       "\n",
       "    .dataframe tbody tr th {\n",
       "        vertical-align: top;\n",
       "    }\n",
       "\n",
       "    .dataframe thead th {\n",
       "        text-align: right;\n",
       "    }\n",
       "</style>\n",
       "<table border=\"1\" class=\"dataframe\">\n",
       "  <thead>\n",
       "    <tr style=\"text-align: right;\">\n",
       "      <th></th>\n",
       "      <th>Global_Sales</th>\n",
       "    </tr>\n",
       "  </thead>\n",
       "  <tbody>\n",
       "    <tr>\n",
       "      <th>3883</th>\n",
       "      <td>0.51</td>\n",
       "    </tr>\n",
       "    <tr>\n",
       "      <th>6228</th>\n",
       "      <td>0.28</td>\n",
       "    </tr>\n",
       "    <tr>\n",
       "      <th>12132</th>\n",
       "      <td>0.07</td>\n",
       "    </tr>\n",
       "    <tr>\n",
       "      <th>5860</th>\n",
       "      <td>0.30</td>\n",
       "    </tr>\n",
       "    <tr>\n",
       "      <th>4568</th>\n",
       "      <td>0.42</td>\n",
       "    </tr>\n",
       "    <tr>\n",
       "      <th>...</th>\n",
       "      <td>...</td>\n",
       "    </tr>\n",
       "    <tr>\n",
       "      <th>6395</th>\n",
       "      <td>0.27</td>\n",
       "    </tr>\n",
       "    <tr>\n",
       "      <th>4656</th>\n",
       "      <td>0.41</td>\n",
       "    </tr>\n",
       "    <tr>\n",
       "      <th>6603</th>\n",
       "      <td>0.25</td>\n",
       "    </tr>\n",
       "    <tr>\n",
       "      <th>8337</th>\n",
       "      <td>0.17</td>\n",
       "    </tr>\n",
       "    <tr>\n",
       "      <th>3777</th>\n",
       "      <td>0.53</td>\n",
       "    </tr>\n",
       "  </tbody>\n",
       "</table>\n",
       "<p>1742 rows × 1 columns</p>\n",
       "</div>"
      ],
      "text/plain": [
       "       Global_Sales\n",
       "3883           0.51\n",
       "6228           0.28\n",
       "12132          0.07\n",
       "5860           0.30\n",
       "4568           0.42\n",
       "...             ...\n",
       "6395           0.27\n",
       "4656           0.41\n",
       "6603           0.25\n",
       "8337           0.17\n",
       "3777           0.53\n",
       "\n",
       "[1742 rows x 1 columns]"
      ]
     },
     "execution_count": 68,
     "metadata": {},
     "output_type": "execute_result"
    }
   ],
   "source": [
    "y_test"
   ]
  },
  {
   "cell_type": "code",
   "execution_count": 69,
   "metadata": {},
   "outputs": [
    {
     "data": {
      "text/html": [
       "<div>\n",
       "<style scoped>\n",
       "    .dataframe tbody tr th:only-of-type {\n",
       "        vertical-align: middle;\n",
       "    }\n",
       "\n",
       "    .dataframe tbody tr th {\n",
       "        vertical-align: top;\n",
       "    }\n",
       "\n",
       "    .dataframe thead th {\n",
       "        text-align: right;\n",
       "    }\n",
       "</style>\n",
       "<table border=\"1\" class=\"dataframe\">\n",
       "  <thead>\n",
       "    <tr style=\"text-align: right;\">\n",
       "      <th></th>\n",
       "      <th>0</th>\n",
       "    </tr>\n",
       "  </thead>\n",
       "  <tbody>\n",
       "    <tr>\n",
       "      <th>0</th>\n",
       "      <td>0.541757</td>\n",
       "    </tr>\n",
       "    <tr>\n",
       "      <th>1</th>\n",
       "      <td>0.278085</td>\n",
       "    </tr>\n",
       "    <tr>\n",
       "      <th>2</th>\n",
       "      <td>0.074097</td>\n",
       "    </tr>\n",
       "    <tr>\n",
       "      <th>3</th>\n",
       "      <td>0.261241</td>\n",
       "    </tr>\n",
       "    <tr>\n",
       "      <th>4</th>\n",
       "      <td>0.166700</td>\n",
       "    </tr>\n",
       "    <tr>\n",
       "      <th>...</th>\n",
       "      <td>...</td>\n",
       "    </tr>\n",
       "    <tr>\n",
       "      <th>1737</th>\n",
       "      <td>0.219825</td>\n",
       "    </tr>\n",
       "    <tr>\n",
       "      <th>1738</th>\n",
       "      <td>0.457144</td>\n",
       "    </tr>\n",
       "    <tr>\n",
       "      <th>1739</th>\n",
       "      <td>0.252766</td>\n",
       "    </tr>\n",
       "    <tr>\n",
       "      <th>1740</th>\n",
       "      <td>0.160032</td>\n",
       "    </tr>\n",
       "    <tr>\n",
       "      <th>1741</th>\n",
       "      <td>0.464430</td>\n",
       "    </tr>\n",
       "  </tbody>\n",
       "</table>\n",
       "<p>1742 rows × 1 columns</p>\n",
       "</div>"
      ],
      "text/plain": [
       "             0\n",
       "0     0.541757\n",
       "1     0.278085\n",
       "2     0.074097\n",
       "3     0.261241\n",
       "4     0.166700\n",
       "...        ...\n",
       "1737  0.219825\n",
       "1738  0.457144\n",
       "1739  0.252766\n",
       "1740  0.160032\n",
       "1741  0.464430\n",
       "\n",
       "[1742 rows x 1 columns]"
      ]
     },
     "execution_count": 69,
     "metadata": {},
     "output_type": "execute_result"
    }
   ],
   "source": [
    "pd.DataFrame(y_test_pred5)"
   ]
  },
  {
   "cell_type": "code",
   "execution_count": 70,
   "metadata": {},
   "outputs": [],
   "source": [
    "##XGBOOST\n",
    "from xgboost import XGBRegressor\n",
    "import xgboost as xgb\n",
    "from sklearn import metrics"
   ]
  },
  {
   "cell_type": "code",
   "execution_count": 71,
   "metadata": {},
   "outputs": [],
   "source": [
    "poly = PolynomialFeatures(degree=1)\n",
    "X_train_poly = poly.fit_transform(X_train)\n",
    "X_val_poly=poly.fit_transform(X_val)\n",
    "X_test_poly = poly.transform(X_test)\n"
   ]
  },
  {
   "cell_type": "code",
   "execution_count": 72,
   "metadata": {},
   "outputs": [],
   "source": [
    "xgb_reg = xgb.XGBRegressor(objective='reg:squarederror', n_estimators=100, max_depth=3, learning_rate=0.1)"
   ]
  },
  {
   "cell_type": "code",
   "execution_count": 73,
   "metadata": {},
   "outputs": [
    {
     "data": {
      "text/plain": [
       "XGBRegressor(base_score=0.5, booster='gbtree', colsample_bylevel=1,\n",
       "             colsample_bynode=1, colsample_bytree=1, enable_categorical=False,\n",
       "             gamma=0, gpu_id=-1, importance_type=None,\n",
       "             interaction_constraints='', learning_rate=0.1, max_delta_step=0,\n",
       "             max_depth=3, min_child_weight=1, missing=nan,\n",
       "             monotone_constraints='()', n_estimators=100, n_jobs=8,\n",
       "             num_parallel_tree=1, predictor='auto', random_state=0, reg_alpha=0,\n",
       "             reg_lambda=1, scale_pos_weight=1, subsample=1, tree_method='exact',\n",
       "             validate_parameters=1, verbosity=None)"
      ]
     },
     "execution_count": 73,
     "metadata": {},
     "output_type": "execute_result"
    }
   ],
   "source": [
    "xgb_reg.fit(X_train_poly, y_train)"
   ]
  },
  {
   "cell_type": "code",
   "execution_count": 74,
   "metadata": {},
   "outputs": [],
   "source": [
    "y_pred = xgb_reg.predict(X_val_poly)"
   ]
  },
  {
   "cell_type": "code",
   "execution_count": 81,
   "metadata": {},
   "outputs": [
    {
     "name": "stdout",
     "output_type": "stream",
     "text": [
      "R Squared value =  0.9683361542208094\n",
      "Mean squared error: 0.001637876608161361\n",
      "Root Mean Squared Error: 0.040470688259051896\n",
      "Mean Absolute Error: 0.02746627220234579\n"
     ]
    }
   ],
   "source": [
    "r2_sales = metrics.r2_score(y_val, y_pred)\n",
    "print('R Squared value = ', r2_sales)\n",
    "mse = mean_squared_error(y_val, y_pred)\n",
    "print(\"Mean squared error:\", mse)\n",
    "rmse = np.sqrt(mse)\n",
    "print(\"Root Mean Squared Error:\", rmse)\n",
    "mae=mean_absolute_error(y_val, y_pred)\n",
    "print(\"Mean Absolute Error:\",mae)"
   ]
  },
  {
   "cell_type": "code",
   "execution_count": 76,
   "metadata": {},
   "outputs": [],
   "source": [
    "data_prediction =xgb_reg.predict(X_test_poly)"
   ]
  },
  {
   "cell_type": "code",
   "execution_count": 83,
   "metadata": {},
   "outputs": [
    {
     "name": "stdout",
     "output_type": "stream",
     "text": [
      "R Squared value =  0.9673390771175726\n",
      "Mean squared error: 0.0018809316140514637\n",
      "Root Mean Squared Error: 0.04336970848474156\n",
      "Mean Absolute Error: 0.02807052721428748\n"
     ]
    }
   ],
   "source": [
    "# R squared Value\n",
    "r2_data = metrics.r2_score(y_test, data_prediction)\n",
    "print('R Squared value = ', r2_data)\n",
    "mse = mean_squared_error(y_test, data_prediction)\n",
    "print(\"Mean squared error:\", mse)\n",
    "rmse_test = np.sqrt(mse)\n",
    "print(\"Root Mean Squared Error:\", rmse_test)\n",
    "mae_test=mean_absolute_error(y_test, data_prediction)\n",
    "print(\"Mean Absolute Error:\",mae_test)"
   ]
  },
  {
   "cell_type": "code",
   "execution_count": 78,
   "metadata": {},
   "outputs": [
    {
     "data": {
      "text/plain": [
       "<matplotlib.collections.PathCollection at 0x1996f654940>"
      ]
     },
     "execution_count": 78,
     "metadata": {},
     "output_type": "execute_result"
    },
    {
     "data": {
      "image/png": "[encoded data removed]",
      "text/plain": [
       "<Figure size 432x288 with 1 Axes>"
      ]
     },
     "metadata": {
      "needs_background": "light"
     },
     "output_type": "display_data"
    }
   ],
   "source": [
    "plt.scatter(y_test, data_prediction)"
   ]
  },
  {
   "cell_type": "code",
   "execution_count": 79,
   "metadata": {},
   "outputs": [
    {
     "data": {
      "text/html": [
       "<div>\n",
       "<style scoped>\n",
       "    .dataframe tbody tr th:only-of-type {\n",
       "        vertical-align: middle;\n",
       "    }\n",
       "\n",
       "    .dataframe tbody tr th {\n",
       "        vertical-align: top;\n",
       "    }\n",
       "\n",
       "    .dataframe thead th {\n",
       "        text-align: right;\n",
       "    }\n",
       "</style>\n",
       "<table border=\"1\" class=\"dataframe\">\n",
       "  <thead>\n",
       "    <tr style=\"text-align: right;\">\n",
       "      <th></th>\n",
       "      <th>Global_Sales</th>\n",
       "    </tr>\n",
       "  </thead>\n",
       "  <tbody>\n",
       "    <tr>\n",
       "      <th>3883</th>\n",
       "      <td>0.51</td>\n",
       "    </tr>\n",
       "    <tr>\n",
       "      <th>6228</th>\n",
       "      <td>0.28</td>\n",
       "    </tr>\n",
       "    <tr>\n",
       "      <th>12132</th>\n",
       "      <td>0.07</td>\n",
       "    </tr>\n",
       "    <tr>\n",
       "      <th>5860</th>\n",
       "      <td>0.30</td>\n",
       "    </tr>\n",
       "    <tr>\n",
       "      <th>4568</th>\n",
       "      <td>0.42</td>\n",
       "    </tr>\n",
       "    <tr>\n",
       "      <th>...</th>\n",
       "      <td>...</td>\n",
       "    </tr>\n",
       "    <tr>\n",
       "      <th>6395</th>\n",
       "      <td>0.27</td>\n",
       "    </tr>\n",
       "    <tr>\n",
       "      <th>4656</th>\n",
       "      <td>0.41</td>\n",
       "    </tr>\n",
       "    <tr>\n",
       "      <th>6603</th>\n",
       "      <td>0.25</td>\n",
       "    </tr>\n",
       "    <tr>\n",
       "      <th>8337</th>\n",
       "      <td>0.17</td>\n",
       "    </tr>\n",
       "    <tr>\n",
       "      <th>3777</th>\n",
       "      <td>0.53</td>\n",
       "    </tr>\n",
       "  </tbody>\n",
       "</table>\n",
       "<p>1742 rows × 1 columns</p>\n",
       "</div>"
      ],
      "text/plain": [
       "       Global_Sales\n",
       "3883           0.51\n",
       "6228           0.28\n",
       "12132          0.07\n",
       "5860           0.30\n",
       "4568           0.42\n",
       "...             ...\n",
       "6395           0.27\n",
       "4656           0.41\n",
       "6603           0.25\n",
       "8337           0.17\n",
       "3777           0.53\n",
       "\n",
       "[1742 rows x 1 columns]"
      ]
     },
     "execution_count": 79,
     "metadata": {},
     "output_type": "execute_result"
    }
   ],
   "source": [
    "y_test"
   ]
  }
 ],
 "metadata": {
  "kernelspec": {
   "display_name": "Python 3",
   "language": "python",
   "name": "python3"
  },
  "language_info": {
   "codemirror_mode": {
    "name": "ipython",
    "version": 3
   },
   "file_extension": ".py",
   "mimetype": "text/x-python",
   "name": "python",
   "nbconvert_exporter": "python",
   "pygments_lexer": "ipython3",
   "version": "3.6.5"
  }
 },
 "nbformat": 4,
 "nbformat_minor": 2
}
