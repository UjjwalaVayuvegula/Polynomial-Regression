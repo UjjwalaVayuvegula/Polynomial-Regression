{
  "cells": [
    {
      "cell_type": "markdown",
      "metadata": {
        "id": "view-in-github",
        "colab_type": "text"
      },
      "source": [
        "<a href=\"https://colab.research.google.com/github/UjjwalaVayuvegula/Polynomial-Regression/blob/main/forecasting_gold_price_using_arima_(1).ipynb\" target=\"_parent\"><img src=\"https://colab.research.google.com/assets/colab-badge.svg\" alt=\"Open In Colab\"/></a>"
      ]
    },
    {
      "cell_type": "code",
      "execution_count": null,
      "metadata": {
        "id": "g-4phZzuNMN4"
      },
      "outputs": [],
      "source": [
        "import pandas as pd\n",
        "import numpy as np\n",
        "import matplotlib.pyplot as plt\n",
        "import statsmodels.api as sm\n",
        "import seaborn as sns"
      ]
    },
    {
      "cell_type": "code",
      "execution_count": null,
      "metadata": {
        "id": "s1g2LGBwNMN5"
      },
      "outputs": [],
      "source": [
        "data=pd.read_csv(\"C:\\\\Users\\\\ushak\\\\Desktop\\\\ujjwala\\\\Book 18.csv\")"
      ]
    },
    {
      "cell_type": "code",
      "execution_count": null,
      "metadata": {
        "id": "TG9y0dC5NMN6"
      },
      "outputs": [],
      "source": [
        "data=pd.DataFrame(data)"
      ]
    },
    {
      "cell_type": "code",
      "execution_count": null,
      "metadata": {
        "id": "dU96mPPYNMN7"
      },
      "outputs": [],
      "source": [
        "data=data.drop(['Prices.1','Prices.2'],axis=1)"
      ]
    },
    {
      "cell_type": "code",
      "execution_count": null,
      "metadata": {
        "id": "qknVmVWANMN7",
        "outputId": "99f2eeb1-8cd5-4808-ac71-8a4febc7e301"
      },
      "outputs": [
        {
          "data": {
            "text/plain": [
              "(1229, 2)"
            ]
          },
          "execution_count": 5,
          "metadata": {},
          "output_type": "execute_result"
        }
      ],
      "source": [
        "data.shape"
      ]
    },
    {
      "cell_type": "code",
      "execution_count": null,
      "metadata": {
        "id": "7USStjx-NMN9",
        "outputId": "871b9a60-70d2-47f9-a9d9-7745f18fa962"
      },
      "outputs": [
        {
          "data": {
            "text/html": [
              "<div>\n",
              "<style scoped>\n",
              "    .dataframe tbody tr th:only-of-type {\n",
              "        vertical-align: middle;\n",
              "    }\n",
              "\n",
              "    .dataframe tbody tr th {\n",
              "        vertical-align: top;\n",
              "    }\n",
              "\n",
              "    .dataframe thead th {\n",
              "        text-align: right;\n",
              "    }\n",
              "</style>\n",
              "<table border=\"1\" class=\"dataframe\">\n",
              "  <thead>\n",
              "    <tr style=\"text-align: right;\">\n",
              "      <th></th>\n",
              "      <th>Date</th>\n",
              "      <th>Prices</th>\n",
              "    </tr>\n",
              "  </thead>\n",
              "  <tbody>\n",
              "    <tr>\n",
              "      <th>0</th>\n",
              "      <td>13-04-2022</td>\n",
              "      <td>52700.0</td>\n",
              "    </tr>\n",
              "    <tr>\n",
              "      <th>1</th>\n",
              "      <td>12-04-2022</td>\n",
              "      <td>52562.5</td>\n",
              "    </tr>\n",
              "    <tr>\n",
              "      <th>2</th>\n",
              "      <td>11-04-2022</td>\n",
              "      <td>52500.0</td>\n",
              "    </tr>\n",
              "    <tr>\n",
              "      <th>3</th>\n",
              "      <td>08-04-2022</td>\n",
              "      <td>52212.5</td>\n",
              "    </tr>\n",
              "    <tr>\n",
              "      <th>4</th>\n",
              "      <td>07-04-2022</td>\n",
              "      <td>51987.5</td>\n",
              "    </tr>\n",
              "  </tbody>\n",
              "</table>\n",
              "</div>"
            ],
            "text/plain": [
              "         Date   Prices\n",
              "0  13-04-2022  52700.0\n",
              "1  12-04-2022  52562.5\n",
              "2  11-04-2022  52500.0\n",
              "3  08-04-2022  52212.5\n",
              "4  07-04-2022  51987.5"
            ]
          },
          "execution_count": 6,
          "metadata": {},
          "output_type": "execute_result"
        }
      ],
      "source": [
        "# Getting top 5 rows of the data.\n",
        "data.head()"
      ]
    },
    {
      "cell_type": "code",
      "execution_count": null,
      "metadata": {
        "id": "nQtAh_-WNMN-",
        "outputId": "a93df91b-71b3-440a-c730-6562bd55b669"
      },
      "outputs": [
        {
          "name": "stdout",
          "output_type": "stream",
          "text": [
            "<class 'pandas.core.frame.DataFrame'>\n",
            "RangeIndex: 1229 entries, 0 to 1228\n",
            "Data columns (total 2 columns):\n",
            " #   Column  Non-Null Count  Dtype  \n",
            "---  ------  --------------  -----  \n",
            " 0   Date    1229 non-null   object \n",
            " 1   Prices  1229 non-null   float64\n",
            "dtypes: float64(1), object(1)\n",
            "memory usage: 19.3+ KB\n"
          ]
        }
      ],
      "source": [
        "# Getting info of data\n",
        "data.info()"
      ]
    },
    {
      "cell_type": "code",
      "execution_count": null,
      "metadata": {
        "id": "hgVeShveNMN-",
        "outputId": "836af36a-4577-49bd-9627-d7f6e190fba8"
      },
      "outputs": [
        {
          "data": {
            "text/plain": [
              "Date       object\n",
              "Prices    float64\n",
              "dtype: object"
            ]
          },
          "execution_count": 8,
          "metadata": {},
          "output_type": "execute_result"
        }
      ],
      "source": [
        "# Getting data types\n",
        "data.dtypes"
      ]
    },
    {
      "cell_type": "code",
      "execution_count": null,
      "metadata": {
        "id": "Isu3gWgONMN_"
      },
      "outputs": [],
      "source": [
        "# converting date into datetime format\n",
        "data['Date']=pd.to_datetime(data['Date'],format='%d-%m-%Y')"
      ]
    },
    {
      "cell_type": "code",
      "execution_count": null,
      "metadata": {
        "id": "b76hJWkNNMN_",
        "outputId": "d12ed603-0f59-403f-dcd5-d77d8a16dc2b"
      },
      "outputs": [
        {
          "name": "stderr",
          "output_type": "stream",
          "text": [
            "C:\\Users\\ushak\\programming\\New folder\\lib\\site-packages\\ipykernel_launcher.py:2: FutureWarning: Treating datetime data as categorical rather than numeric in `.describe` is deprecated and will be removed in a future version of pandas. Specify `datetime_is_numeric=True` to silence this warning and adopt the future behavior now.\n",
            "  \n"
          ]
        },
        {
          "data": {
            "text/html": [
              "<div>\n",
              "<style scoped>\n",
              "    .dataframe tbody tr th:only-of-type {\n",
              "        vertical-align: middle;\n",
              "    }\n",
              "\n",
              "    .dataframe tbody tr th {\n",
              "        vertical-align: top;\n",
              "    }\n",
              "\n",
              "    .dataframe thead th {\n",
              "        text-align: right;\n",
              "    }\n",
              "</style>\n",
              "<table border=\"1\" class=\"dataframe\">\n",
              "  <thead>\n",
              "    <tr style=\"text-align: right;\">\n",
              "      <th></th>\n",
              "      <th>Date</th>\n",
              "      <th>Prices</th>\n",
              "    </tr>\n",
              "  </thead>\n",
              "  <tbody>\n",
              "    <tr>\n",
              "      <th>count</th>\n",
              "      <td>1229</td>\n",
              "      <td>1229.000000</td>\n",
              "    </tr>\n",
              "    <tr>\n",
              "      <th>unique</th>\n",
              "      <td>1229</td>\n",
              "      <td>NaN</td>\n",
              "    </tr>\n",
              "    <tr>\n",
              "      <th>top</th>\n",
              "      <td>2017-10-30 00:00:00</td>\n",
              "      <td>NaN</td>\n",
              "    </tr>\n",
              "    <tr>\n",
              "      <th>freq</th>\n",
              "      <td>1</td>\n",
              "      <td>NaN</td>\n",
              "    </tr>\n",
              "    <tr>\n",
              "      <th>first</th>\n",
              "      <td>2017-01-02 00:00:00</td>\n",
              "      <td>NaN</td>\n",
              "    </tr>\n",
              "    <tr>\n",
              "      <th>last</th>\n",
              "      <td>2022-04-13 00:00:00</td>\n",
              "      <td>NaN</td>\n",
              "    </tr>\n",
              "    <tr>\n",
              "      <th>mean</th>\n",
              "      <td>NaN</td>\n",
              "      <td>37832.173230</td>\n",
              "    </tr>\n",
              "    <tr>\n",
              "      <th>std</th>\n",
              "      <td>NaN</td>\n",
              "      <td>9393.835797</td>\n",
              "    </tr>\n",
              "    <tr>\n",
              "      <th>min</th>\n",
              "      <td>NaN</td>\n",
              "      <td>26630.000000</td>\n",
              "    </tr>\n",
              "    <tr>\n",
              "      <th>25%</th>\n",
              "      <td>NaN</td>\n",
              "      <td>29201.000000</td>\n",
              "    </tr>\n",
              "    <tr>\n",
              "      <th>50%</th>\n",
              "      <td>NaN</td>\n",
              "      <td>34064.500000</td>\n",
              "    </tr>\n",
              "    <tr>\n",
              "      <th>75%</th>\n",
              "      <td>NaN</td>\n",
              "      <td>48482.500000</td>\n",
              "    </tr>\n",
              "    <tr>\n",
              "      <th>max</th>\n",
              "      <td>NaN</td>\n",
              "      <td>55950.000000</td>\n",
              "    </tr>\n",
              "  </tbody>\n",
              "</table>\n",
              "</div>"
            ],
            "text/plain": [
              "                       Date        Prices\n",
              "count                  1229   1229.000000\n",
              "unique                 1229           NaN\n",
              "top     2017-10-30 00:00:00           NaN\n",
              "freq                      1           NaN\n",
              "first   2017-01-02 00:00:00           NaN\n",
              "last    2022-04-13 00:00:00           NaN\n",
              "mean                    NaN  37832.173230\n",
              "std                     NaN   9393.835797\n",
              "min                     NaN  26630.000000\n",
              "25%                     NaN  29201.000000\n",
              "50%                     NaN  34064.500000\n",
              "75%                     NaN  48482.500000\n",
              "max                     NaN  55950.000000"
            ]
          },
          "execution_count": 10,
          "metadata": {},
          "output_type": "execute_result"
        }
      ],
      "source": [
        "# describe data\n",
        "data.describe(include='all')"
      ]
    },
    {
      "cell_type": "code",
      "execution_count": null,
      "metadata": {
        "id": "gDvrsUv2NMN_"
      },
      "outputs": [],
      "source": [
        "# arranging data in assending order\n",
        "data=data.sort_values('Date',ascending=True)"
      ]
    },
    {
      "cell_type": "code",
      "execution_count": null,
      "metadata": {
        "id": "ykPdasZLNMN_",
        "outputId": "ae133577-8101-49e0-a330-012dee294d6e"
      },
      "outputs": [
        {
          "data": {
            "text/html": [
              "<div>\n",
              "<style scoped>\n",
              "    .dataframe tbody tr th:only-of-type {\n",
              "        vertical-align: middle;\n",
              "    }\n",
              "\n",
              "    .dataframe tbody tr th {\n",
              "        vertical-align: top;\n",
              "    }\n",
              "\n",
              "    .dataframe thead th {\n",
              "        text-align: right;\n",
              "    }\n",
              "</style>\n",
              "<table border=\"1\" class=\"dataframe\">\n",
              "  <thead>\n",
              "    <tr style=\"text-align: right;\">\n",
              "      <th></th>\n",
              "      <th>Date</th>\n",
              "      <th>Prices</th>\n",
              "    </tr>\n",
              "  </thead>\n",
              "  <tbody>\n",
              "    <tr>\n",
              "      <th>1228</th>\n",
              "      <td>2017-01-02</td>\n",
              "      <td>27918.5</td>\n",
              "    </tr>\n",
              "    <tr>\n",
              "      <th>1227</th>\n",
              "      <td>2017-01-03</td>\n",
              "      <td>26676.0</td>\n",
              "    </tr>\n",
              "    <tr>\n",
              "      <th>1226</th>\n",
              "      <td>2017-01-04</td>\n",
              "      <td>27091.9</td>\n",
              "    </tr>\n",
              "    <tr>\n",
              "      <th>1225</th>\n",
              "      <td>2017-01-05</td>\n",
              "      <td>27078.6</td>\n",
              "    </tr>\n",
              "    <tr>\n",
              "      <th>1224</th>\n",
              "      <td>2017-01-06</td>\n",
              "      <td>27246.4</td>\n",
              "    </tr>\n",
              "  </tbody>\n",
              "</table>\n",
              "</div>"
            ],
            "text/plain": [
              "           Date   Prices\n",
              "1228 2017-01-02  27918.5\n",
              "1227 2017-01-03  26676.0\n",
              "1226 2017-01-04  27091.9\n",
              "1225 2017-01-05  27078.6\n",
              "1224 2017-01-06  27246.4"
            ]
          },
          "execution_count": 12,
          "metadata": {},
          "output_type": "execute_result"
        }
      ],
      "source": [
        "# getting top 5 rows of arranged data\n",
        "data.head()"
      ]
    },
    {
      "cell_type": "code",
      "execution_count": null,
      "metadata": {
        "id": "A9JI6EluNMOA",
        "outputId": "2cc0cbff-e363-45af-be58-8d4a03c0b688"
      },
      "outputs": [
        {
          "data": {
            "text/html": [
              "<div>\n",
              "<style scoped>\n",
              "    .dataframe tbody tr th:only-of-type {\n",
              "        vertical-align: middle;\n",
              "    }\n",
              "\n",
              "    .dataframe tbody tr th {\n",
              "        vertical-align: top;\n",
              "    }\n",
              "\n",
              "    .dataframe thead th {\n",
              "        text-align: right;\n",
              "    }\n",
              "</style>\n",
              "<table border=\"1\" class=\"dataframe\">\n",
              "  <thead>\n",
              "    <tr style=\"text-align: right;\">\n",
              "      <th></th>\n",
              "      <th>Date</th>\n",
              "      <th>Prices</th>\n",
              "    </tr>\n",
              "  </thead>\n",
              "  <tbody>\n",
              "    <tr>\n",
              "      <th>4</th>\n",
              "      <td>2022-04-07</td>\n",
              "      <td>51987.5</td>\n",
              "    </tr>\n",
              "    <tr>\n",
              "      <th>3</th>\n",
              "      <td>2022-04-08</td>\n",
              "      <td>52212.5</td>\n",
              "    </tr>\n",
              "    <tr>\n",
              "      <th>2</th>\n",
              "      <td>2022-04-11</td>\n",
              "      <td>52500.0</td>\n",
              "    </tr>\n",
              "    <tr>\n",
              "      <th>1</th>\n",
              "      <td>2022-04-12</td>\n",
              "      <td>52562.5</td>\n",
              "    </tr>\n",
              "    <tr>\n",
              "      <th>0</th>\n",
              "      <td>2022-04-13</td>\n",
              "      <td>52700.0</td>\n",
              "    </tr>\n",
              "  </tbody>\n",
              "</table>\n",
              "</div>"
            ],
            "text/plain": [
              "        Date   Prices\n",
              "4 2022-04-07  51987.5\n",
              "3 2022-04-08  52212.5\n",
              "2 2022-04-11  52500.0\n",
              "1 2022-04-12  52562.5\n",
              "0 2022-04-13  52700.0"
            ]
          },
          "execution_count": 13,
          "metadata": {},
          "output_type": "execute_result"
        }
      ],
      "source": [
        "# getting last 5 rows of arranged data\n",
        "data.tail()"
      ]
    },
    {
      "cell_type": "code",
      "execution_count": null,
      "metadata": {
        "id": "ePrI7OPHNMOA",
        "outputId": "a4352408-a2d0-40e8-f751-a2b4c1402e54"
      },
      "outputs": [
        {
          "name": "stdout",
          "output_type": "stream",
          "text": [
            "2017-01-02 00:00:00\n",
            "2022-04-13 00:00:00\n"
          ]
        }
      ],
      "source": [
        "# getting min date and max date \n",
        "mindate=min(data.Date)\n",
        "maxdate=max(data.Date)\n",
        "print(mindate)\n",
        "print(maxdate)"
      ]
    },
    {
      "cell_type": "markdown",
      "metadata": {
        "id": "_SuWgJEoNMOA"
      },
      "source": [
        "# filling missing dates"
      ]
    },
    {
      "cell_type": "code",
      "execution_count": null,
      "metadata": {
        "id": "B9PELlELNMOB"
      },
      "outputs": [],
      "source": [
        "seq=pd.DataFrame(pd.date_range(mindate,maxdate))"
      ]
    },
    {
      "cell_type": "code",
      "execution_count": null,
      "metadata": {
        "id": "XpGN6wNgNMOB",
        "outputId": "1c6b94b7-6598-48c7-940c-50fdddd9fbdd"
      },
      "outputs": [
        {
          "data": {
            "text/html": [
              "<div>\n",
              "<style scoped>\n",
              "    .dataframe tbody tr th:only-of-type {\n",
              "        vertical-align: middle;\n",
              "    }\n",
              "\n",
              "    .dataframe tbody tr th {\n",
              "        vertical-align: top;\n",
              "    }\n",
              "\n",
              "    .dataframe thead th {\n",
              "        text-align: right;\n",
              "    }\n",
              "</style>\n",
              "<table border=\"1\" class=\"dataframe\">\n",
              "  <thead>\n",
              "    <tr style=\"text-align: right;\">\n",
              "      <th></th>\n",
              "      <th>0</th>\n",
              "    </tr>\n",
              "  </thead>\n",
              "  <tbody>\n",
              "    <tr>\n",
              "      <th>0</th>\n",
              "      <td>2017-01-02</td>\n",
              "    </tr>\n",
              "    <tr>\n",
              "      <th>1</th>\n",
              "      <td>2017-01-03</td>\n",
              "    </tr>\n",
              "    <tr>\n",
              "      <th>2</th>\n",
              "      <td>2017-01-04</td>\n",
              "    </tr>\n",
              "    <tr>\n",
              "      <th>3</th>\n",
              "      <td>2017-01-05</td>\n",
              "    </tr>\n",
              "    <tr>\n",
              "      <th>4</th>\n",
              "      <td>2017-01-06</td>\n",
              "    </tr>\n",
              "    <tr>\n",
              "      <th>5</th>\n",
              "      <td>2017-01-07</td>\n",
              "    </tr>\n",
              "    <tr>\n",
              "      <th>6</th>\n",
              "      <td>2017-01-08</td>\n",
              "    </tr>\n",
              "    <tr>\n",
              "      <th>7</th>\n",
              "      <td>2017-01-09</td>\n",
              "    </tr>\n",
              "    <tr>\n",
              "      <th>8</th>\n",
              "      <td>2017-01-10</td>\n",
              "    </tr>\n",
              "    <tr>\n",
              "      <th>9</th>\n",
              "      <td>2017-01-11</td>\n",
              "    </tr>\n",
              "  </tbody>\n",
              "</table>\n",
              "</div>"
            ],
            "text/plain": [
              "           0\n",
              "0 2017-01-02\n",
              "1 2017-01-03\n",
              "2 2017-01-04\n",
              "3 2017-01-05\n",
              "4 2017-01-06\n",
              "5 2017-01-07\n",
              "6 2017-01-08\n",
              "7 2017-01-09\n",
              "8 2017-01-10\n",
              "9 2017-01-11"
            ]
          },
          "execution_count": 16,
          "metadata": {},
          "output_type": "execute_result"
        }
      ],
      "source": [
        "seq.head(10)"
      ]
    },
    {
      "cell_type": "code",
      "execution_count": null,
      "metadata": {
        "id": "yYFvY_XqNMOC",
        "outputId": "044416f4-a17c-419d-ca3a-74476ba75e46"
      },
      "outputs": [
        {
          "data": {
            "text/html": [
              "<div>\n",
              "<style scoped>\n",
              "    .dataframe tbody tr th:only-of-type {\n",
              "        vertical-align: middle;\n",
              "    }\n",
              "\n",
              "    .dataframe tbody tr th {\n",
              "        vertical-align: top;\n",
              "    }\n",
              "\n",
              "    .dataframe thead th {\n",
              "        text-align: right;\n",
              "    }\n",
              "</style>\n",
              "<table border=\"1\" class=\"dataframe\">\n",
              "  <thead>\n",
              "    <tr style=\"text-align: right;\">\n",
              "      <th></th>\n",
              "      <th>0</th>\n",
              "    </tr>\n",
              "  </thead>\n",
              "  <tbody>\n",
              "    <tr>\n",
              "      <th>1918</th>\n",
              "      <td>2022-04-04</td>\n",
              "    </tr>\n",
              "    <tr>\n",
              "      <th>1919</th>\n",
              "      <td>2022-04-05</td>\n",
              "    </tr>\n",
              "    <tr>\n",
              "      <th>1920</th>\n",
              "      <td>2022-04-06</td>\n",
              "    </tr>\n",
              "    <tr>\n",
              "      <th>1921</th>\n",
              "      <td>2022-04-07</td>\n",
              "    </tr>\n",
              "    <tr>\n",
              "      <th>1922</th>\n",
              "      <td>2022-04-08</td>\n",
              "    </tr>\n",
              "    <tr>\n",
              "      <th>1923</th>\n",
              "      <td>2022-04-09</td>\n",
              "    </tr>\n",
              "    <tr>\n",
              "      <th>1924</th>\n",
              "      <td>2022-04-10</td>\n",
              "    </tr>\n",
              "    <tr>\n",
              "      <th>1925</th>\n",
              "      <td>2022-04-11</td>\n",
              "    </tr>\n",
              "    <tr>\n",
              "      <th>1926</th>\n",
              "      <td>2022-04-12</td>\n",
              "    </tr>\n",
              "    <tr>\n",
              "      <th>1927</th>\n",
              "      <td>2022-04-13</td>\n",
              "    </tr>\n",
              "  </tbody>\n",
              "</table>\n",
              "</div>"
            ],
            "text/plain": [
              "              0\n",
              "1918 2022-04-04\n",
              "1919 2022-04-05\n",
              "1920 2022-04-06\n",
              "1921 2022-04-07\n",
              "1922 2022-04-08\n",
              "1923 2022-04-09\n",
              "1924 2022-04-10\n",
              "1925 2022-04-11\n",
              "1926 2022-04-12\n",
              "1927 2022-04-13"
            ]
          },
          "execution_count": 17,
          "metadata": {},
          "output_type": "execute_result"
        }
      ],
      "source": [
        "seq.tail(10)"
      ]
    },
    {
      "cell_type": "code",
      "execution_count": null,
      "metadata": {
        "id": "U2H80n2uNMOC"
      },
      "outputs": [],
      "source": [
        "seq.columns=['date']"
      ]
    },
    {
      "cell_type": "code",
      "execution_count": null,
      "metadata": {
        "id": "ayNtsiFvNMOC",
        "outputId": "06681cf6-fa31-44e0-95be-5a0745987e4b"
      },
      "outputs": [
        {
          "data": {
            "text/plain": [
              "Index(['Date', 'Prices'], dtype='object')"
            ]
          },
          "execution_count": 19,
          "metadata": {},
          "output_type": "execute_result"
        }
      ],
      "source": [
        "data.columns"
      ]
    },
    {
      "cell_type": "code",
      "execution_count": null,
      "metadata": {
        "id": "NNNh6BxsNMOC"
      },
      "outputs": [],
      "source": [
        "data.all=pd.merge(seq,data,how='outer',left_on=['date'],right_on=['Date'],sort=True)"
      ]
    },
    {
      "cell_type": "code",
      "execution_count": null,
      "metadata": {
        "id": "8CLgCo1sNMOD",
        "outputId": "2cbc14b1-ccb9-4dd1-bdf2-578e7d631466"
      },
      "outputs": [
        {
          "data": {
            "text/html": [
              "<div>\n",
              "<style scoped>\n",
              "    .dataframe tbody tr th:only-of-type {\n",
              "        vertical-align: middle;\n",
              "    }\n",
              "\n",
              "    .dataframe tbody tr th {\n",
              "        vertical-align: top;\n",
              "    }\n",
              "\n",
              "    .dataframe thead th {\n",
              "        text-align: right;\n",
              "    }\n",
              "</style>\n",
              "<table border=\"1\" class=\"dataframe\">\n",
              "  <thead>\n",
              "    <tr style=\"text-align: right;\">\n",
              "      <th></th>\n",
              "      <th>date</th>\n",
              "      <th>Date</th>\n",
              "      <th>Prices</th>\n",
              "    </tr>\n",
              "  </thead>\n",
              "  <tbody>\n",
              "    <tr>\n",
              "      <th>0</th>\n",
              "      <td>2017-01-02</td>\n",
              "      <td>2017-01-02</td>\n",
              "      <td>27918.5</td>\n",
              "    </tr>\n",
              "    <tr>\n",
              "      <th>1</th>\n",
              "      <td>2017-01-03</td>\n",
              "      <td>2017-01-03</td>\n",
              "      <td>26676.0</td>\n",
              "    </tr>\n",
              "    <tr>\n",
              "      <th>2</th>\n",
              "      <td>2017-01-04</td>\n",
              "      <td>2017-01-04</td>\n",
              "      <td>27091.9</td>\n",
              "    </tr>\n",
              "    <tr>\n",
              "      <th>3</th>\n",
              "      <td>2017-01-05</td>\n",
              "      <td>2017-01-05</td>\n",
              "      <td>27078.6</td>\n",
              "    </tr>\n",
              "    <tr>\n",
              "      <th>4</th>\n",
              "      <td>2017-01-06</td>\n",
              "      <td>2017-01-06</td>\n",
              "      <td>27246.4</td>\n",
              "    </tr>\n",
              "    <tr>\n",
              "      <th>5</th>\n",
              "      <td>2017-01-07</td>\n",
              "      <td>NaT</td>\n",
              "      <td>NaN</td>\n",
              "    </tr>\n",
              "    <tr>\n",
              "      <th>6</th>\n",
              "      <td>2017-01-08</td>\n",
              "      <td>NaT</td>\n",
              "      <td>NaN</td>\n",
              "    </tr>\n",
              "    <tr>\n",
              "      <th>7</th>\n",
              "      <td>2017-01-09</td>\n",
              "      <td>2017-01-09</td>\n",
              "      <td>27311.2</td>\n",
              "    </tr>\n",
              "    <tr>\n",
              "      <th>8</th>\n",
              "      <td>2017-01-10</td>\n",
              "      <td>2017-01-10</td>\n",
              "      <td>27441.5</td>\n",
              "    </tr>\n",
              "    <tr>\n",
              "      <th>9</th>\n",
              "      <td>2017-01-11</td>\n",
              "      <td>2017-01-11</td>\n",
              "      <td>27599.0</td>\n",
              "    </tr>\n",
              "    <tr>\n",
              "      <th>10</th>\n",
              "      <td>2017-01-12</td>\n",
              "      <td>2017-01-12</td>\n",
              "      <td>27877.6</td>\n",
              "    </tr>\n",
              "    <tr>\n",
              "      <th>11</th>\n",
              "      <td>2017-01-13</td>\n",
              "      <td>2017-01-13</td>\n",
              "      <td>27795.3</td>\n",
              "    </tr>\n",
              "    <tr>\n",
              "      <th>12</th>\n",
              "      <td>2017-01-14</td>\n",
              "      <td>NaT</td>\n",
              "      <td>NaN</td>\n",
              "    </tr>\n",
              "    <tr>\n",
              "      <th>13</th>\n",
              "      <td>2017-01-15</td>\n",
              "      <td>NaT</td>\n",
              "      <td>NaN</td>\n",
              "    </tr>\n",
              "    <tr>\n",
              "      <th>14</th>\n",
              "      <td>2017-01-16</td>\n",
              "      <td>2017-01-16</td>\n",
              "      <td>27927.7</td>\n",
              "    </tr>\n",
              "    <tr>\n",
              "      <th>15</th>\n",
              "      <td>2017-01-17</td>\n",
              "      <td>2017-01-17</td>\n",
              "      <td>28152.6</td>\n",
              "    </tr>\n",
              "    <tr>\n",
              "      <th>16</th>\n",
              "      <td>2017-01-18</td>\n",
              "      <td>2017-01-18</td>\n",
              "      <td>28080.1</td>\n",
              "    </tr>\n",
              "    <tr>\n",
              "      <th>17</th>\n",
              "      <td>2017-01-19</td>\n",
              "      <td>2017-01-19</td>\n",
              "      <td>27962.2</td>\n",
              "    </tr>\n",
              "    <tr>\n",
              "      <th>18</th>\n",
              "      <td>2017-01-20</td>\n",
              "      <td>2017-01-20</td>\n",
              "      <td>27892.1</td>\n",
              "    </tr>\n",
              "    <tr>\n",
              "      <th>19</th>\n",
              "      <td>2017-01-21</td>\n",
              "      <td>NaT</td>\n",
              "      <td>NaN</td>\n",
              "    </tr>\n",
              "  </tbody>\n",
              "</table>\n",
              "</div>"
            ],
            "text/plain": [
              "         date       Date   Prices\n",
              "0  2017-01-02 2017-01-02  27918.5\n",
              "1  2017-01-03 2017-01-03  26676.0\n",
              "2  2017-01-04 2017-01-04  27091.9\n",
              "3  2017-01-05 2017-01-05  27078.6\n",
              "4  2017-01-06 2017-01-06  27246.4\n",
              "5  2017-01-07        NaT      NaN\n",
              "6  2017-01-08        NaT      NaN\n",
              "7  2017-01-09 2017-01-09  27311.2\n",
              "8  2017-01-10 2017-01-10  27441.5\n",
              "9  2017-01-11 2017-01-11  27599.0\n",
              "10 2017-01-12 2017-01-12  27877.6\n",
              "11 2017-01-13 2017-01-13  27795.3\n",
              "12 2017-01-14        NaT      NaN\n",
              "13 2017-01-15        NaT      NaN\n",
              "14 2017-01-16 2017-01-16  27927.7\n",
              "15 2017-01-17 2017-01-17  28152.6\n",
              "16 2017-01-18 2017-01-18  28080.1\n",
              "17 2017-01-19 2017-01-19  27962.2\n",
              "18 2017-01-20 2017-01-20  27892.1\n",
              "19 2017-01-21        NaT      NaN"
            ]
          },
          "execution_count": 21,
          "metadata": {},
          "output_type": "execute_result"
        }
      ],
      "source": [
        "data.all.head(20)"
      ]
    },
    {
      "cell_type": "code",
      "execution_count": null,
      "metadata": {
        "id": "Fn5nkbYONMOD",
        "outputId": "1bec9a5f-8f1e-428f-a255-c47058a50717"
      },
      "outputs": [
        {
          "data": {
            "text/html": [
              "<div>\n",
              "<style scoped>\n",
              "    .dataframe tbody tr th:only-of-type {\n",
              "        vertical-align: middle;\n",
              "    }\n",
              "\n",
              "    .dataframe tbody tr th {\n",
              "        vertical-align: top;\n",
              "    }\n",
              "\n",
              "    .dataframe thead th {\n",
              "        text-align: right;\n",
              "    }\n",
              "</style>\n",
              "<table border=\"1\" class=\"dataframe\">\n",
              "  <thead>\n",
              "    <tr style=\"text-align: right;\">\n",
              "      <th></th>\n",
              "      <th>date</th>\n",
              "      <th>Date</th>\n",
              "      <th>Prices</th>\n",
              "    </tr>\n",
              "  </thead>\n",
              "  <tbody>\n",
              "    <tr>\n",
              "      <th>1908</th>\n",
              "      <td>2022-03-25</td>\n",
              "      <td>2022-03-25</td>\n",
              "      <td>51687.5</td>\n",
              "    </tr>\n",
              "    <tr>\n",
              "      <th>1909</th>\n",
              "      <td>2022-03-26</td>\n",
              "      <td>NaT</td>\n",
              "      <td>NaN</td>\n",
              "    </tr>\n",
              "    <tr>\n",
              "      <th>1910</th>\n",
              "      <td>2022-03-27</td>\n",
              "      <td>NaT</td>\n",
              "      <td>NaN</td>\n",
              "    </tr>\n",
              "    <tr>\n",
              "      <th>1911</th>\n",
              "      <td>2022-03-28</td>\n",
              "      <td>2022-03-28</td>\n",
              "      <td>51712.5</td>\n",
              "    </tr>\n",
              "    <tr>\n",
              "      <th>1912</th>\n",
              "      <td>2022-03-29</td>\n",
              "      <td>2022-03-29</td>\n",
              "      <td>51637.5</td>\n",
              "    </tr>\n",
              "    <tr>\n",
              "      <th>1913</th>\n",
              "      <td>2022-03-30</td>\n",
              "      <td>2022-03-30</td>\n",
              "      <td>51687.5</td>\n",
              "    </tr>\n",
              "    <tr>\n",
              "      <th>1914</th>\n",
              "      <td>2022-03-31</td>\n",
              "      <td>2022-03-31</td>\n",
              "      <td>51687.5</td>\n",
              "    </tr>\n",
              "    <tr>\n",
              "      <th>1915</th>\n",
              "      <td>2022-04-01</td>\n",
              "      <td>2022-04-01</td>\n",
              "      <td>51520.0</td>\n",
              "    </tr>\n",
              "    <tr>\n",
              "      <th>1916</th>\n",
              "      <td>2022-04-02</td>\n",
              "      <td>NaT</td>\n",
              "      <td>NaN</td>\n",
              "    </tr>\n",
              "    <tr>\n",
              "      <th>1917</th>\n",
              "      <td>2022-04-03</td>\n",
              "      <td>NaT</td>\n",
              "      <td>NaN</td>\n",
              "    </tr>\n",
              "    <tr>\n",
              "      <th>1918</th>\n",
              "      <td>2022-04-04</td>\n",
              "      <td>2022-04-04</td>\n",
              "      <td>51905.0</td>\n",
              "    </tr>\n",
              "    <tr>\n",
              "      <th>1919</th>\n",
              "      <td>2022-04-05</td>\n",
              "      <td>2022-04-05</td>\n",
              "      <td>51750.0</td>\n",
              "    </tr>\n",
              "    <tr>\n",
              "      <th>1920</th>\n",
              "      <td>2022-04-06</td>\n",
              "      <td>2022-04-06</td>\n",
              "      <td>51912.5</td>\n",
              "    </tr>\n",
              "    <tr>\n",
              "      <th>1921</th>\n",
              "      <td>2022-04-07</td>\n",
              "      <td>2022-04-07</td>\n",
              "      <td>51987.5</td>\n",
              "    </tr>\n",
              "    <tr>\n",
              "      <th>1922</th>\n",
              "      <td>2022-04-08</td>\n",
              "      <td>2022-04-08</td>\n",
              "      <td>52212.5</td>\n",
              "    </tr>\n",
              "    <tr>\n",
              "      <th>1923</th>\n",
              "      <td>2022-04-09</td>\n",
              "      <td>NaT</td>\n",
              "      <td>NaN</td>\n",
              "    </tr>\n",
              "    <tr>\n",
              "      <th>1924</th>\n",
              "      <td>2022-04-10</td>\n",
              "      <td>NaT</td>\n",
              "      <td>NaN</td>\n",
              "    </tr>\n",
              "    <tr>\n",
              "      <th>1925</th>\n",
              "      <td>2022-04-11</td>\n",
              "      <td>2022-04-11</td>\n",
              "      <td>52500.0</td>\n",
              "    </tr>\n",
              "    <tr>\n",
              "      <th>1926</th>\n",
              "      <td>2022-04-12</td>\n",
              "      <td>2022-04-12</td>\n",
              "      <td>52562.5</td>\n",
              "    </tr>\n",
              "    <tr>\n",
              "      <th>1927</th>\n",
              "      <td>2022-04-13</td>\n",
              "      <td>2022-04-13</td>\n",
              "      <td>52700.0</td>\n",
              "    </tr>\n",
              "  </tbody>\n",
              "</table>\n",
              "</div>"
            ],
            "text/plain": [
              "           date       Date   Prices\n",
              "1908 2022-03-25 2022-03-25  51687.5\n",
              "1909 2022-03-26        NaT      NaN\n",
              "1910 2022-03-27        NaT      NaN\n",
              "1911 2022-03-28 2022-03-28  51712.5\n",
              "1912 2022-03-29 2022-03-29  51637.5\n",
              "1913 2022-03-30 2022-03-30  51687.5\n",
              "1914 2022-03-31 2022-03-31  51687.5\n",
              "1915 2022-04-01 2022-04-01  51520.0\n",
              "1916 2022-04-02        NaT      NaN\n",
              "1917 2022-04-03        NaT      NaN\n",
              "1918 2022-04-04 2022-04-04  51905.0\n",
              "1919 2022-04-05 2022-04-05  51750.0\n",
              "1920 2022-04-06 2022-04-06  51912.5\n",
              "1921 2022-04-07 2022-04-07  51987.5\n",
              "1922 2022-04-08 2022-04-08  52212.5\n",
              "1923 2022-04-09        NaT      NaN\n",
              "1924 2022-04-10        NaT      NaN\n",
              "1925 2022-04-11 2022-04-11  52500.0\n",
              "1926 2022-04-12 2022-04-12  52562.5\n",
              "1927 2022-04-13 2022-04-13  52700.0"
            ]
          },
          "execution_count": 22,
          "metadata": {},
          "output_type": "execute_result"
        }
      ],
      "source": [
        "data.all.tail(20)"
      ]
    },
    {
      "cell_type": "code",
      "execution_count": null,
      "metadata": {
        "id": "AZJZCz-TNMOD"
      },
      "outputs": [],
      "source": [
        "data=data.all.drop(['Date'],axis=1)"
      ]
    },
    {
      "cell_type": "markdown",
      "metadata": {
        "id": "Ozwr8PZdNMOD"
      },
      "source": [
        "# filling nan using interpolate"
      ]
    },
    {
      "cell_type": "code",
      "execution_count": null,
      "metadata": {
        "id": "wCwxVrihNMOD",
        "outputId": "d271ef3a-3c41-4904-803b-48b00fbedd5d"
      },
      "outputs": [
        {
          "data": {
            "text/html": [
              "<div>\n",
              "<style scoped>\n",
              "    .dataframe tbody tr th:only-of-type {\n",
              "        vertical-align: middle;\n",
              "    }\n",
              "\n",
              "    .dataframe tbody tr th {\n",
              "        vertical-align: top;\n",
              "    }\n",
              "\n",
              "    .dataframe thead th {\n",
              "        text-align: right;\n",
              "    }\n",
              "</style>\n",
              "<table border=\"1\" class=\"dataframe\">\n",
              "  <thead>\n",
              "    <tr style=\"text-align: right;\">\n",
              "      <th></th>\n",
              "      <th>date</th>\n",
              "      <th>Prices</th>\n",
              "    </tr>\n",
              "  </thead>\n",
              "  <tbody>\n",
              "    <tr>\n",
              "      <th>0</th>\n",
              "      <td>2017-01-02</td>\n",
              "      <td>27918.5</td>\n",
              "    </tr>\n",
              "    <tr>\n",
              "      <th>1</th>\n",
              "      <td>2017-01-03</td>\n",
              "      <td>26676.0</td>\n",
              "    </tr>\n",
              "    <tr>\n",
              "      <th>2</th>\n",
              "      <td>2017-01-04</td>\n",
              "      <td>27091.9</td>\n",
              "    </tr>\n",
              "    <tr>\n",
              "      <th>3</th>\n",
              "      <td>2017-01-05</td>\n",
              "      <td>27078.6</td>\n",
              "    </tr>\n",
              "    <tr>\n",
              "      <th>4</th>\n",
              "      <td>2017-01-06</td>\n",
              "      <td>27246.4</td>\n",
              "    </tr>\n",
              "    <tr>\n",
              "      <th>5</th>\n",
              "      <td>2017-01-07</td>\n",
              "      <td>NaN</td>\n",
              "    </tr>\n",
              "    <tr>\n",
              "      <th>6</th>\n",
              "      <td>2017-01-08</td>\n",
              "      <td>NaN</td>\n",
              "    </tr>\n",
              "    <tr>\n",
              "      <th>7</th>\n",
              "      <td>2017-01-09</td>\n",
              "      <td>27311.2</td>\n",
              "    </tr>\n",
              "    <tr>\n",
              "      <th>8</th>\n",
              "      <td>2017-01-10</td>\n",
              "      <td>27441.5</td>\n",
              "    </tr>\n",
              "    <tr>\n",
              "      <th>9</th>\n",
              "      <td>2017-01-11</td>\n",
              "      <td>27599.0</td>\n",
              "    </tr>\n",
              "    <tr>\n",
              "      <th>10</th>\n",
              "      <td>2017-01-12</td>\n",
              "      <td>27877.6</td>\n",
              "    </tr>\n",
              "    <tr>\n",
              "      <th>11</th>\n",
              "      <td>2017-01-13</td>\n",
              "      <td>27795.3</td>\n",
              "    </tr>\n",
              "    <tr>\n",
              "      <th>12</th>\n",
              "      <td>2017-01-14</td>\n",
              "      <td>NaN</td>\n",
              "    </tr>\n",
              "    <tr>\n",
              "      <th>13</th>\n",
              "      <td>2017-01-15</td>\n",
              "      <td>NaN</td>\n",
              "    </tr>\n",
              "    <tr>\n",
              "      <th>14</th>\n",
              "      <td>2017-01-16</td>\n",
              "      <td>27927.7</td>\n",
              "    </tr>\n",
              "    <tr>\n",
              "      <th>15</th>\n",
              "      <td>2017-01-17</td>\n",
              "      <td>28152.6</td>\n",
              "    </tr>\n",
              "    <tr>\n",
              "      <th>16</th>\n",
              "      <td>2017-01-18</td>\n",
              "      <td>28080.1</td>\n",
              "    </tr>\n",
              "    <tr>\n",
              "      <th>17</th>\n",
              "      <td>2017-01-19</td>\n",
              "      <td>27962.2</td>\n",
              "    </tr>\n",
              "    <tr>\n",
              "      <th>18</th>\n",
              "      <td>2017-01-20</td>\n",
              "      <td>27892.1</td>\n",
              "    </tr>\n",
              "    <tr>\n",
              "      <th>19</th>\n",
              "      <td>2017-01-21</td>\n",
              "      <td>NaN</td>\n",
              "    </tr>\n",
              "  </tbody>\n",
              "</table>\n",
              "</div>"
            ],
            "text/plain": [
              "         date   Prices\n",
              "0  2017-01-02  27918.5\n",
              "1  2017-01-03  26676.0\n",
              "2  2017-01-04  27091.9\n",
              "3  2017-01-05  27078.6\n",
              "4  2017-01-06  27246.4\n",
              "5  2017-01-07      NaN\n",
              "6  2017-01-08      NaN\n",
              "7  2017-01-09  27311.2\n",
              "8  2017-01-10  27441.5\n",
              "9  2017-01-11  27599.0\n",
              "10 2017-01-12  27877.6\n",
              "11 2017-01-13  27795.3\n",
              "12 2017-01-14      NaN\n",
              "13 2017-01-15      NaN\n",
              "14 2017-01-16  27927.7\n",
              "15 2017-01-17  28152.6\n",
              "16 2017-01-18  28080.1\n",
              "17 2017-01-19  27962.2\n",
              "18 2017-01-20  27892.1\n",
              "19 2017-01-21      NaN"
            ]
          },
          "execution_count": 24,
          "metadata": {},
          "output_type": "execute_result"
        }
      ],
      "source": [
        "data.head(20)"
      ]
    },
    {
      "cell_type": "code",
      "execution_count": null,
      "metadata": {
        "id": "itZ0VtMlNMOE"
      },
      "outputs": [],
      "source": [
        "data['Prices']=data['Prices'].interpolate(method='linear',limit_direction='forward')"
      ]
    },
    {
      "cell_type": "code",
      "execution_count": null,
      "metadata": {
        "id": "cffRmh6FNMOE"
      },
      "outputs": [],
      "source": [
        "data_nomiss=data.copy()"
      ]
    },
    {
      "cell_type": "code",
      "execution_count": null,
      "metadata": {
        "id": "DXUfA3PGNMOE",
        "outputId": "f62dda5c-bcd1-490c-98c2-b5ac69cd0e6a"
      },
      "outputs": [
        {
          "data": {
            "text/html": [
              "<div>\n",
              "<style scoped>\n",
              "    .dataframe tbody tr th:only-of-type {\n",
              "        vertical-align: middle;\n",
              "    }\n",
              "\n",
              "    .dataframe tbody tr th {\n",
              "        vertical-align: top;\n",
              "    }\n",
              "\n",
              "    .dataframe thead th {\n",
              "        text-align: right;\n",
              "    }\n",
              "</style>\n",
              "<table border=\"1\" class=\"dataframe\">\n",
              "  <thead>\n",
              "    <tr style=\"text-align: right;\">\n",
              "      <th></th>\n",
              "      <th>date</th>\n",
              "      <th>Prices</th>\n",
              "    </tr>\n",
              "  </thead>\n",
              "  <tbody>\n",
              "    <tr>\n",
              "      <th>0</th>\n",
              "      <td>2017-01-02</td>\n",
              "      <td>27918.500000</td>\n",
              "    </tr>\n",
              "    <tr>\n",
              "      <th>1</th>\n",
              "      <td>2017-01-03</td>\n",
              "      <td>26676.000000</td>\n",
              "    </tr>\n",
              "    <tr>\n",
              "      <th>2</th>\n",
              "      <td>2017-01-04</td>\n",
              "      <td>27091.900000</td>\n",
              "    </tr>\n",
              "    <tr>\n",
              "      <th>3</th>\n",
              "      <td>2017-01-05</td>\n",
              "      <td>27078.600000</td>\n",
              "    </tr>\n",
              "    <tr>\n",
              "      <th>4</th>\n",
              "      <td>2017-01-06</td>\n",
              "      <td>27246.400000</td>\n",
              "    </tr>\n",
              "    <tr>\n",
              "      <th>5</th>\n",
              "      <td>2017-01-07</td>\n",
              "      <td>27268.000000</td>\n",
              "    </tr>\n",
              "    <tr>\n",
              "      <th>6</th>\n",
              "      <td>2017-01-08</td>\n",
              "      <td>27289.600000</td>\n",
              "    </tr>\n",
              "    <tr>\n",
              "      <th>7</th>\n",
              "      <td>2017-01-09</td>\n",
              "      <td>27311.200000</td>\n",
              "    </tr>\n",
              "    <tr>\n",
              "      <th>8</th>\n",
              "      <td>2017-01-10</td>\n",
              "      <td>27441.500000</td>\n",
              "    </tr>\n",
              "    <tr>\n",
              "      <th>9</th>\n",
              "      <td>2017-01-11</td>\n",
              "      <td>27599.000000</td>\n",
              "    </tr>\n",
              "    <tr>\n",
              "      <th>10</th>\n",
              "      <td>2017-01-12</td>\n",
              "      <td>27877.600000</td>\n",
              "    </tr>\n",
              "    <tr>\n",
              "      <th>11</th>\n",
              "      <td>2017-01-13</td>\n",
              "      <td>27795.300000</td>\n",
              "    </tr>\n",
              "    <tr>\n",
              "      <th>12</th>\n",
              "      <td>2017-01-14</td>\n",
              "      <td>27839.433333</td>\n",
              "    </tr>\n",
              "    <tr>\n",
              "      <th>13</th>\n",
              "      <td>2017-01-15</td>\n",
              "      <td>27883.566667</td>\n",
              "    </tr>\n",
              "    <tr>\n",
              "      <th>14</th>\n",
              "      <td>2017-01-16</td>\n",
              "      <td>27927.700000</td>\n",
              "    </tr>\n",
              "    <tr>\n",
              "      <th>15</th>\n",
              "      <td>2017-01-17</td>\n",
              "      <td>28152.600000</td>\n",
              "    </tr>\n",
              "    <tr>\n",
              "      <th>16</th>\n",
              "      <td>2017-01-18</td>\n",
              "      <td>28080.100000</td>\n",
              "    </tr>\n",
              "    <tr>\n",
              "      <th>17</th>\n",
              "      <td>2017-01-19</td>\n",
              "      <td>27962.200000</td>\n",
              "    </tr>\n",
              "    <tr>\n",
              "      <th>18</th>\n",
              "      <td>2017-01-20</td>\n",
              "      <td>27892.100000</td>\n",
              "    </tr>\n",
              "    <tr>\n",
              "      <th>19</th>\n",
              "      <td>2017-01-21</td>\n",
              "      <td>27953.300000</td>\n",
              "    </tr>\n",
              "  </tbody>\n",
              "</table>\n",
              "</div>"
            ],
            "text/plain": [
              "         date        Prices\n",
              "0  2017-01-02  27918.500000\n",
              "1  2017-01-03  26676.000000\n",
              "2  2017-01-04  27091.900000\n",
              "3  2017-01-05  27078.600000\n",
              "4  2017-01-06  27246.400000\n",
              "5  2017-01-07  27268.000000\n",
              "6  2017-01-08  27289.600000\n",
              "7  2017-01-09  27311.200000\n",
              "8  2017-01-10  27441.500000\n",
              "9  2017-01-11  27599.000000\n",
              "10 2017-01-12  27877.600000\n",
              "11 2017-01-13  27795.300000\n",
              "12 2017-01-14  27839.433333\n",
              "13 2017-01-15  27883.566667\n",
              "14 2017-01-16  27927.700000\n",
              "15 2017-01-17  28152.600000\n",
              "16 2017-01-18  28080.100000\n",
              "17 2017-01-19  27962.200000\n",
              "18 2017-01-20  27892.100000\n",
              "19 2017-01-21  27953.300000"
            ]
          },
          "execution_count": 27,
          "metadata": {},
          "output_type": "execute_result"
        }
      ],
      "source": [
        "data_nomiss.head(20)"
      ]
    },
    {
      "cell_type": "code",
      "execution_count": null,
      "metadata": {
        "id": "P4Yj6U6ANMOE",
        "outputId": "01ba0937-c659-48f0-a25a-8e33dc53b12b"
      },
      "outputs": [
        {
          "data": {
            "text/plain": [
              "date      0\n",
              "Prices    0\n",
              "dtype: int64"
            ]
          },
          "execution_count": 28,
          "metadata": {},
          "output_type": "execute_result"
        }
      ],
      "source": [
        "data_nomiss.isnull().sum()"
      ]
    },
    {
      "cell_type": "code",
      "execution_count": null,
      "metadata": {
        "id": "5uAXEujKNMOE",
        "outputId": "c36caf95-da27-4357-bdf9-621a6a3491dd"
      },
      "outputs": [
        {
          "data": {
            "text/plain": [
              "[<matplotlib.lines.Line2D at 0x25e2b39b0b8>]"
            ]
          },
          "execution_count": 29,
          "metadata": {},
          "output_type": "execute_result"
        },
        {
          "data": {
            "image/png": "[encoded data removed]",
            "text/plain": [
              "<Figure size 432x288 with 1 Axes>"
            ]
          },
          "metadata": {
            "needs_background": "light"
          },
          "output_type": "display_data"
        }
      ],
      "source": [
        "plt.plot(data_nomiss.Prices)"
      ]
    },
    {
      "cell_type": "code",
      "execution_count": null,
      "metadata": {
        "id": "uFDNz8oHNMOE"
      },
      "outputs": [],
      "source": [
        "data_nomiss['month']=data_nomiss['date'].dt.month\n",
        "data_nomiss['year']=data_nomiss['date'].dt.year"
      ]
    },
    {
      "cell_type": "code",
      "execution_count": null,
      "metadata": {
        "id": "ufyg5jqzNMOF",
        "outputId": "b12aa5fd-dba5-469e-a632-82d4816c9d53"
      },
      "outputs": [
        {
          "data": {
            "text/html": [
              "<div>\n",
              "<style scoped>\n",
              "    .dataframe tbody tr th:only-of-type {\n",
              "        vertical-align: middle;\n",
              "    }\n",
              "\n",
              "    .dataframe tbody tr th {\n",
              "        vertical-align: top;\n",
              "    }\n",
              "\n",
              "    .dataframe thead th {\n",
              "        text-align: right;\n",
              "    }\n",
              "</style>\n",
              "<table border=\"1\" class=\"dataframe\">\n",
              "  <thead>\n",
              "    <tr style=\"text-align: right;\">\n",
              "      <th></th>\n",
              "      <th>date</th>\n",
              "      <th>Prices</th>\n",
              "      <th>month</th>\n",
              "      <th>year</th>\n",
              "    </tr>\n",
              "  </thead>\n",
              "  <tbody>\n",
              "    <tr>\n",
              "      <th>0</th>\n",
              "      <td>2017-01-02</td>\n",
              "      <td>27918.5</td>\n",
              "      <td>1</td>\n",
              "      <td>2017</td>\n",
              "    </tr>\n",
              "    <tr>\n",
              "      <th>1</th>\n",
              "      <td>2017-01-03</td>\n",
              "      <td>26676.0</td>\n",
              "      <td>1</td>\n",
              "      <td>2017</td>\n",
              "    </tr>\n",
              "    <tr>\n",
              "      <th>2</th>\n",
              "      <td>2017-01-04</td>\n",
              "      <td>27091.9</td>\n",
              "      <td>1</td>\n",
              "      <td>2017</td>\n",
              "    </tr>\n",
              "    <tr>\n",
              "      <th>3</th>\n",
              "      <td>2017-01-05</td>\n",
              "      <td>27078.6</td>\n",
              "      <td>1</td>\n",
              "      <td>2017</td>\n",
              "    </tr>\n",
              "    <tr>\n",
              "      <th>4</th>\n",
              "      <td>2017-01-06</td>\n",
              "      <td>27246.4</td>\n",
              "      <td>1</td>\n",
              "      <td>2017</td>\n",
              "    </tr>\n",
              "  </tbody>\n",
              "</table>\n",
              "</div>"
            ],
            "text/plain": [
              "        date   Prices  month  year\n",
              "0 2017-01-02  27918.5      1  2017\n",
              "1 2017-01-03  26676.0      1  2017\n",
              "2 2017-01-04  27091.9      1  2017\n",
              "3 2017-01-05  27078.6      1  2017\n",
              "4 2017-01-06  27246.4      1  2017"
            ]
          },
          "execution_count": 31,
          "metadata": {},
          "output_type": "execute_result"
        }
      ],
      "source": [
        "data_nomiss.head()"
      ]
    },
    {
      "cell_type": "code",
      "execution_count": null,
      "metadata": {
        "id": "et5euGbnNMOF"
      },
      "outputs": [],
      "source": [
        "data_nomiss['time_seq']=np.arange(1,len(data_nomiss)+1)"
      ]
    },
    {
      "cell_type": "code",
      "execution_count": null,
      "metadata": {
        "id": "-0YO-J5LNMOF",
        "outputId": "5387cb2f-2813-43aa-b91d-b273e391bcac"
      },
      "outputs": [
        {
          "data": {
            "text/html": [
              "<div>\n",
              "<style scoped>\n",
              "    .dataframe tbody tr th:only-of-type {\n",
              "        vertical-align: middle;\n",
              "    }\n",
              "\n",
              "    .dataframe tbody tr th {\n",
              "        vertical-align: top;\n",
              "    }\n",
              "\n",
              "    .dataframe thead th {\n",
              "        text-align: right;\n",
              "    }\n",
              "</style>\n",
              "<table border=\"1\" class=\"dataframe\">\n",
              "  <thead>\n",
              "    <tr style=\"text-align: right;\">\n",
              "      <th></th>\n",
              "      <th>date</th>\n",
              "      <th>Prices</th>\n",
              "      <th>month</th>\n",
              "      <th>year</th>\n",
              "      <th>time_seq</th>\n",
              "    </tr>\n",
              "  </thead>\n",
              "  <tbody>\n",
              "    <tr>\n",
              "      <th>1923</th>\n",
              "      <td>2022-04-09</td>\n",
              "      <td>52308.333333</td>\n",
              "      <td>4</td>\n",
              "      <td>2022</td>\n",
              "      <td>1924</td>\n",
              "    </tr>\n",
              "    <tr>\n",
              "      <th>1924</th>\n",
              "      <td>2022-04-10</td>\n",
              "      <td>52404.166667</td>\n",
              "      <td>4</td>\n",
              "      <td>2022</td>\n",
              "      <td>1925</td>\n",
              "    </tr>\n",
              "    <tr>\n",
              "      <th>1925</th>\n",
              "      <td>2022-04-11</td>\n",
              "      <td>52500.000000</td>\n",
              "      <td>4</td>\n",
              "      <td>2022</td>\n",
              "      <td>1926</td>\n",
              "    </tr>\n",
              "    <tr>\n",
              "      <th>1926</th>\n",
              "      <td>2022-04-12</td>\n",
              "      <td>52562.500000</td>\n",
              "      <td>4</td>\n",
              "      <td>2022</td>\n",
              "      <td>1927</td>\n",
              "    </tr>\n",
              "    <tr>\n",
              "      <th>1927</th>\n",
              "      <td>2022-04-13</td>\n",
              "      <td>52700.000000</td>\n",
              "      <td>4</td>\n",
              "      <td>2022</td>\n",
              "      <td>1928</td>\n",
              "    </tr>\n",
              "  </tbody>\n",
              "</table>\n",
              "</div>"
            ],
            "text/plain": [
              "           date        Prices  month  year  time_seq\n",
              "1923 2022-04-09  52308.333333      4  2022      1924\n",
              "1924 2022-04-10  52404.166667      4  2022      1925\n",
              "1925 2022-04-11  52500.000000      4  2022      1926\n",
              "1926 2022-04-12  52562.500000      4  2022      1927\n",
              "1927 2022-04-13  52700.000000      4  2022      1928"
            ]
          },
          "execution_count": 33,
          "metadata": {},
          "output_type": "execute_result"
        }
      ],
      "source": [
        "data_nomiss.tail()"
      ]
    },
    {
      "cell_type": "code",
      "execution_count": null,
      "metadata": {
        "id": "PZZFmAxANMOF",
        "outputId": "345919d6-fe17-4072-befb-10776795a2f7"
      },
      "outputs": [
        {
          "data": {
            "text/html": [
              "<div>\n",
              "<style scoped>\n",
              "    .dataframe tbody tr th:only-of-type {\n",
              "        vertical-align: middle;\n",
              "    }\n",
              "\n",
              "    .dataframe tbody tr th {\n",
              "        vertical-align: top;\n",
              "    }\n",
              "\n",
              "    .dataframe thead th {\n",
              "        text-align: right;\n",
              "    }\n",
              "</style>\n",
              "<table border=\"1\" class=\"dataframe\">\n",
              "  <thead>\n",
              "    <tr style=\"text-align: right;\">\n",
              "      <th></th>\n",
              "      <th>date</th>\n",
              "      <th>Prices</th>\n",
              "      <th>month</th>\n",
              "      <th>year</th>\n",
              "      <th>time_seq</th>\n",
              "    </tr>\n",
              "  </thead>\n",
              "  <tbody>\n",
              "    <tr>\n",
              "      <th>0</th>\n",
              "      <td>2017-01-02</td>\n",
              "      <td>27918.5</td>\n",
              "      <td>1</td>\n",
              "      <td>2017</td>\n",
              "      <td>1</td>\n",
              "    </tr>\n",
              "    <tr>\n",
              "      <th>1</th>\n",
              "      <td>2017-01-03</td>\n",
              "      <td>26676.0</td>\n",
              "      <td>1</td>\n",
              "      <td>2017</td>\n",
              "      <td>2</td>\n",
              "    </tr>\n",
              "    <tr>\n",
              "      <th>2</th>\n",
              "      <td>2017-01-04</td>\n",
              "      <td>27091.9</td>\n",
              "      <td>1</td>\n",
              "      <td>2017</td>\n",
              "      <td>3</td>\n",
              "    </tr>\n",
              "    <tr>\n",
              "      <th>3</th>\n",
              "      <td>2017-01-05</td>\n",
              "      <td>27078.6</td>\n",
              "      <td>1</td>\n",
              "      <td>2017</td>\n",
              "      <td>4</td>\n",
              "    </tr>\n",
              "    <tr>\n",
              "      <th>4</th>\n",
              "      <td>2017-01-06</td>\n",
              "      <td>27246.4</td>\n",
              "      <td>1</td>\n",
              "      <td>2017</td>\n",
              "      <td>5</td>\n",
              "    </tr>\n",
              "  </tbody>\n",
              "</table>\n",
              "</div>"
            ],
            "text/plain": [
              "        date   Prices  month  year  time_seq\n",
              "0 2017-01-02  27918.5      1  2017         1\n",
              "1 2017-01-03  26676.0      1  2017         2\n",
              "2 2017-01-04  27091.9      1  2017         3\n",
              "3 2017-01-05  27078.6      1  2017         4\n",
              "4 2017-01-06  27246.4      1  2017         5"
            ]
          },
          "execution_count": 34,
          "metadata": {},
          "output_type": "execute_result"
        }
      ],
      "source": [
        "data_nomiss.head()"
      ]
    },
    {
      "cell_type": "code",
      "execution_count": null,
      "metadata": {
        "id": "2WSgMGOlNMOF",
        "outputId": "835279d5-e369-4d87-e6ff-8d6c4b73e5be"
      },
      "outputs": [
        {
          "data": {
            "text/plain": [
              "(1928, 5)"
            ]
          },
          "execution_count": 35,
          "metadata": {},
          "output_type": "execute_result"
        }
      ],
      "source": [
        "data_nomiss.shape"
      ]
    },
    {
      "cell_type": "code",
      "execution_count": null,
      "metadata": {
        "id": "sAm73QjNNMOF",
        "outputId": "342316da-fed1-4cfa-bcd3-0d62eb5bea96"
      },
      "outputs": [
        {
          "data": {
            "image/png": "[encoded data removed]",
            "text/plain": [
              "<Figure size 864x144 with 1 Axes>"
            ]
          },
          "metadata": {
            "needs_background": "light"
          },
          "output_type": "display_data"
        }
      ],
      "source": [
        "fig=plt.subplots(figsize=(12,2))\n",
        "ax=sns.boxplot(x=data_nomiss['Prices'],whis=1.5)         "
      ]
    },
    {
      "cell_type": "markdown",
      "metadata": {
        "id": "f9zQXjHdNMOF"
      },
      "source": [
        "# creating time sequence and splitting into train and test"
      ]
    },
    {
      "cell_type": "code",
      "execution_count": null,
      "metadata": {
        "id": "habWKgnPNMOF"
      },
      "outputs": [],
      "source": [
        "x=data_nomiss[['time_seq']]"
      ]
    },
    {
      "cell_type": "code",
      "execution_count": null,
      "metadata": {
        "id": "PuhpSwk1NMOG"
      },
      "outputs": [],
      "source": [
        "y=data_nomiss['Prices']"
      ]
    },
    {
      "cell_type": "code",
      "execution_count": null,
      "metadata": {
        "id": "N9G99guXNMOG"
      },
      "outputs": [],
      "source": [
        "data_nomiss.set_index('date',inplace=True)"
      ]
    },
    {
      "cell_type": "code",
      "execution_count": null,
      "metadata": {
        "id": "sZvklSQVNMOG"
      },
      "outputs": [],
      "source": [
        "train=data_nomiss.loc[data_nomiss.time_seq<1446,]\n",
        "test=data_nomiss.loc[data_nomiss.time_seq>=1446]"
      ]
    },
    {
      "cell_type": "code",
      "execution_count": null,
      "metadata": {
        "id": "63WgYcltNMOG",
        "outputId": "172ae01c-c74e-49ae-b01f-35853e5fb1b2"
      },
      "outputs": [
        {
          "name": "stdout",
          "output_type": "stream",
          "text": [
            "(1445, 4)\n",
            "(483, 4)\n"
          ]
        }
      ],
      "source": [
        "print(train.shape)\n",
        "print(test.shape)"
      ]
    },
    {
      "cell_type": "code",
      "execution_count": null,
      "metadata": {
        "id": "Pnac56DFNMOG",
        "outputId": "4b835947-0f14-47e3-82fe-8686f0ae84e9"
      },
      "outputs": [
        {
          "name": "stdout",
          "output_type": "stream",
          "text": [
            "2017-01-02 00:00:00\n",
            "2020-12-16 00:00:00\n",
            "2020-12-17 00:00:00\n",
            "2022-04-13 00:00:00\n"
          ]
        }
      ],
      "source": [
        "print(train.index.min())\n",
        "print(train.index.max())\n",
        "print(test.index.min())\n",
        "print(test.index.max())"
      ]
    },
    {
      "cell_type": "code",
      "execution_count": null,
      "metadata": {
        "id": "zHy_6t0pNMOG",
        "outputId": "00cac454-86fe-4372-bb7d-c69e2e8cde48"
      },
      "outputs": [
        {
          "name": "stderr",
          "output_type": "stream",
          "text": [
            "C:\\Users\\ushak\\programming\\New folder\\lib\\site-packages\\matplotlib\\cbook\\__init__.py:2062: FutureWarning: Support for multi-dimensional indexing (e.g. `obj[:, None]`) is deprecated and will be removed in a future version.  Convert to a numpy array before indexing instead.\n",
            "  x[:, None]\n",
            "C:\\Users\\ushak\\programming\\New folder\\lib\\site-packages\\matplotlib\\axes\\_base.py:248: FutureWarning: Support for multi-dimensional indexing (e.g. `obj[:, None]`) is deprecated and will be removed in a future version.  Convert to a numpy array before indexing instead.\n",
            "  x = x[:, np.newaxis]\n",
            "C:\\Users\\ushak\\programming\\New folder\\lib\\site-packages\\matplotlib\\axes\\_base.py:250: FutureWarning: Support for multi-dimensional indexing (e.g. `obj[:, None]`) is deprecated and will be removed in a future version.  Convert to a numpy array before indexing instead.\n",
            "  y = y[:, np.newaxis]\n"
          ]
        },
        {
          "data": {
            "image/png": "[encoded data removed]",
            "text/plain": [
              "<Figure size 432x288 with 1 Axes>"
            ]
          },
          "metadata": {
            "needs_background": "light"
          },
          "output_type": "display_data"
        },
        {
          "data": {
            "image/png": "[encoded data removed]",
            "text/plain": [
              "<Figure size 432x288 with 1 Axes>"
            ]
          },
          "metadata": {
            "needs_background": "light"
          },
          "output_type": "display_data"
        }
      ],
      "source": [
        "fig, ax = plt.subplots()\n",
        "lines = plt.plot(train.index, train.Prices, '-o')\n",
        "plt.setp(lines, linewidth=0.5)\n",
        "plt.xticks(rotation = 45)\n",
        "plt.title('daily Price (Train)')\n",
        "plt.xlabel('daily')\n",
        "plt.ylabel('Price')\n",
        "plt.legend(['Price'],loc = 'best')\n",
        "plt.show()\n",
        "fig, ax = plt.subplots()\n",
        "lines = plt.plot(test.index, test.Prices, '-o')\n",
        "plt.setp(lines, linewidth=0.5)\n",
        "plt.xticks(rotation = 45)\n",
        "plt.title('daily Price (test)')\n",
        "plt.xlabel('daily')\n",
        "plt.ylabel('Price')\n",
        "plt.legend([' Price'],loc = 'best')\n",
        "plt.show()"
      ]
    },
    {
      "cell_type": "markdown",
      "metadata": {
        "id": "8YHYkDrJNMOH"
      },
      "source": [
        "# decomposition "
      ]
    },
    {
      "cell_type": "code",
      "execution_count": null,
      "metadata": {
        "id": "D1oj08ksNMOH"
      },
      "outputs": [],
      "source": [
        "from statsmodels.tsa.seasonal import seasonal_decompose\n",
        "from statsmodels.graphics.tsaplots import plot_acf,plot_pacf"
      ]
    },
    {
      "cell_type": "code",
      "execution_count": null,
      "metadata": {
        "id": "VytXn-BmNMOH",
        "outputId": "612563b8-7167-41b8-dc57-eb8aab2bedc0"
      },
      "outputs": [
        {
          "name": "stderr",
          "output_type": "stream",
          "text": [
            "C:\\Users\\ushak\\programming\\New folder\\lib\\site-packages\\ipykernel_launcher.py:1: FutureWarning: the 'freq'' keyword is deprecated, use 'period' instead\n",
            "  \"\"\"Entry point for launching an IPython kernel.\n"
          ]
        }
      ],
      "source": [
        "decomposition = seasonal_decompose(train.Prices,freq=365)"
      ]
    },
    {
      "cell_type": "code",
      "execution_count": null,
      "metadata": {
        "id": "QIf9iMf0NMOH",
        "outputId": "6a261e79-9d39-436a-d07c-9c622484a7c2"
      },
      "outputs": [
        {
          "data": {
            "image/png": "[encoded data removed]",
            "text/plain": [
              "<Figure size 432x288 with 4 Axes>"
            ]
          },
          "metadata": {
            "needs_background": "light"
          },
          "output_type": "display_data"
        }
      ],
      "source": [
        "decomposition.plot()\n",
        "plt.show()"
      ]
    },
    {
      "cell_type": "markdown",
      "metadata": {
        "id": "SUSa3F6CNMOH"
      },
      "source": [
        "# ACF and PACF"
      ]
    },
    {
      "cell_type": "code",
      "execution_count": null,
      "metadata": {
        "id": "CTaKb0KiNMOH",
        "outputId": "08620408-fae0-4800-9e3f-27ea5f0d3dfa"
      },
      "outputs": [
        {
          "data": {
            "image/png": "[encoded data removed]",
            "text/plain": [
              "<Figure size 432x288 with 1 Axes>"
            ]
          },
          "metadata": {
            "needs_background": "light"
          },
          "output_type": "display_data"
        },
        {
          "data": {
            "image/png": "[encoded data removed]",
            "text/plain": [
              "<Figure size 432x288 with 1 Axes>"
            ]
          },
          "metadata": {
            "needs_background": "light"
          },
          "output_type": "display_data"
        }
      ],
      "source": [
        "\n",
        "#### ACF: n th lag of ACF is the correlation between a day and n days before that. \n",
        "#PACF: The same as ACF with all intermediate correlations removed.\n",
        "\n",
        "#ACF\n",
        "plot_acf(train.Prices, zero=True, lags=int(24*0.5))\n",
        "plt.axhline(y=-1.96/np.sqrt(len(train)), linestyle='--', color='gray')\n",
        "plt.axhline(y=1.96/np.sqrt(len(train)), linestyle='--',color='gray')\n",
        "\n",
        "#PACF\n",
        "plot_pacf(train.Prices,zero=True,lags=int(24*0.5))\n",
        "plt.axhline(y=-1.96/np.sqrt(len(train)),linestyle='--',color='gray')\n",
        "plt.axhline(y=1.96/np.sqrt(len(train)),linestyle='--',color='gray')\n",
        "plt.show()\n",
        "\n",
        "\n",
        "\n",
        "\n",
        "\n"
      ]
    },
    {
      "cell_type": "code",
      "execution_count": null,
      "metadata": {
        "id": "6SpgG_nANMOH",
        "outputId": "c9884284-e768-4544-d478-51860cfab6d4"
      },
      "outputs": [
        {
          "data": {
            "image/png": "[encoded data removed]",
            "text/plain": [
              "<Figure size 432x288 with 1 Axes>"
            ]
          },
          "metadata": {
            "needs_background": "light"
          },
          "output_type": "display_data"
        }
      ],
      "source": [
        "#### Looking at the Y scale in ACF we observe that both trend and seasonality is present.\n",
        "\n",
        "#### Stationarize by differencing\n",
        "\n",
        "# Before differencing\n",
        "plt.subplot(212)\n",
        "plt.plot(train.Prices)\n",
        "plt.xticks(rotation=30)\n",
        "plt.title(\"Original data\")\n",
        "plt.show()"
      ]
    },
    {
      "cell_type": "code",
      "execution_count": null,
      "metadata": {
        "id": "Q1H9cYGFNMOH",
        "outputId": "c78c6d98-f140-4ab5-ab4c-5d87409757d1"
      },
      "outputs": [
        {
          "data": {
            "image/png": "[encoded data removed]",
            "text/plain": [
              "<Figure size 432x288 with 1 Axes>"
            ]
          },
          "metadata": {
            "needs_background": "light"
          },
          "output_type": "display_data"
        }
      ],
      "source": [
        "# After differencing\n",
        "plt.subplot(212)\n",
        "plt.plot(train.Prices.diff(1))\n",
        "plt.xticks(rotation=365)\n",
        "plt.title(\"Seasonal Difference data\")\n",
        "plt.show()\n"
      ]
    },
    {
      "cell_type": "markdown",
      "metadata": {
        "id": "MiZ6EPQVNMOI"
      },
      "source": [
        "# acf and pacf after differencing with 1"
      ]
    },
    {
      "cell_type": "code",
      "execution_count": null,
      "metadata": {
        "id": "baX3l292NMOI",
        "outputId": "b029751d-5979-4cf7-8855-4ee2105aae57"
      },
      "outputs": [
        {
          "data": {
            "image/png": "[encoded data removed]",
            "text/plain": [
              "<Figure size 432x288 with 1 Axes>"
            ]
          },
          "metadata": {
            "needs_background": "light"
          },
          "output_type": "display_data"
        },
        {
          "data": {
            "image/png": "[encoded data removed]",
            "text/plain": [
              "<Figure size 432x288 with 1 Axes>"
            ]
          },
          "metadata": {
            "needs_background": "light"
          },
          "output_type": "display_data"
        }
      ],
      "source": [
        "plot_acf(train.Prices.diff(1).dropna(),zero=True,lags=12,title='Autocorrelation of differenced data')\n",
        "plt.axhline(y=-1.96/np.sqrt(len(train)),linestyle='--',color='gray')\n",
        "plt.axhline(y=1.96/np.sqrt(len(train)),linestyle='--',color='gray')\n",
        "\n",
        "plot_pacf(train.Prices.diff(1).dropna(),zero=True,lags=12,title='PartialAutocorrelation of differenced data')\n",
        "plt.axhline(y=-1.96/np.sqrt(len(train)),linestyle='--',color='gray')\n",
        "plt.axhline(y=1.96/np.sqrt(len(train)),linestyle='--',color='gray')\n",
        "\n",
        "plt.show()\n"
      ]
    },
    {
      "cell_type": "markdown",
      "metadata": {
        "id": "EYFoFZHiNMOI"
      },
      "source": [
        "# adf test (diff 1)"
      ]
    },
    {
      "cell_type": "code",
      "execution_count": null,
      "metadata": {
        "id": "_P3RIpz2NMOI",
        "outputId": "e6ef530d-9361-461f-f767-5a3c5b23f5f6"
      },
      "outputs": [
        {
          "name": "stdout",
          "output_type": "stream",
          "text": [
            "ADF Statistic: -9.654067\n",
            "p-value: 0.000000\n",
            "Critical Values:\n",
            "\t1%: -3.435\n",
            "\t5%: -2.864\n",
            "\t10%: -2.568\n"
          ]
        }
      ],
      "source": [
        "from statsmodels.tsa.stattools import adfuller\n",
        "result = adfuller(train.Prices.diff(1).dropna())\n",
        "print('ADF Statistic: %f' % result[0])\n",
        "print('p-value: %f' % result[1])\n",
        "print('Critical Values:')\n",
        "for key, value in result[4].items():\n",
        "\tprint('\\t%s: %.3f' % (key, value))"
      ]
    },
    {
      "cell_type": "markdown",
      "metadata": {
        "id": "SJXU0LS3NMOI"
      },
      "source": [
        "# plots after differencing with 2"
      ]
    },
    {
      "cell_type": "code",
      "execution_count": null,
      "metadata": {
        "id": "2MmwCFLRNMOI",
        "outputId": "f8ef06cb-220f-4906-e127-fa1ee1a31019"
      },
      "outputs": [
        {
          "data": {
            "image/png": "[encoded data removed]",
            "text/plain": [
              "<Figure size 432x288 with 1 Axes>"
            ]
          },
          "metadata": {
            "needs_background": "light"
          },
          "output_type": "display_data"
        }
      ],
      "source": [
        "# After differencing\n",
        "plt.subplot(212)\n",
        "plt.plot(train.Prices.diff(2))\n",
        "plt.xticks(rotation=365)\n",
        "plt.title(\"Seasonal Difference data\")\n",
        "plt.show()\n"
      ]
    },
    {
      "cell_type": "code",
      "execution_count": null,
      "metadata": {
        "id": "WBuT5bT9NMOI",
        "outputId": "ff914cc7-a0c0-4ba0-e203-096ec4d2a03b"
      },
      "outputs": [
        {
          "data": {
            "image/png": "[encoded data removed]",
            "text/plain": [
              "<Figure size 432x288 with 1 Axes>"
            ]
          },
          "metadata": {
            "needs_background": "light"
          },
          "output_type": "display_data"
        },
        {
          "data": {
            "image/png": "[encoded data removed]",
            "text/plain": [
              "<Figure size 432x288 with 1 Axes>"
            ]
          },
          "metadata": {
            "needs_background": "light"
          },
          "output_type": "display_data"
        }
      ],
      "source": [
        "plot_acf(train.Prices.diff(2).dropna(),zero=True,lags=12,title='Autocorrelation of differenced data')\n",
        "plt.axhline(y=-1.96/np.sqrt(len(train)),linestyle='--',color='gray')\n",
        "plt.axhline(y=1.96/np.sqrt(len(train)),linestyle='--',color='gray')\n",
        "\n",
        "plot_pacf(train.Prices.diff(2).dropna(),zero=True,lags=12,title='PartialAutocorrelation of differenced data')\n",
        "plt.axhline(y=-1.96/np.sqrt(len(train)),linestyle='--',color='gray')\n",
        "plt.axhline(y=1.96/np.sqrt(len(train)),linestyle='--',color='gray')\n",
        "\n",
        "plt.show()\n"
      ]
    },
    {
      "cell_type": "markdown",
      "metadata": {
        "id": "Gl9Yt6tJNMOI"
      },
      "source": [
        "# adf test (diff 2)"
      ]
    },
    {
      "cell_type": "code",
      "execution_count": null,
      "metadata": {
        "id": "tFo9V1SqNMOI",
        "outputId": "f512d4ca-b8f4-46a7-9247-66f0886c12a7"
      },
      "outputs": [
        {
          "name": "stdout",
          "output_type": "stream",
          "text": [
            "ADF Statistic: -8.067724\n",
            "p-value: 0.000000\n",
            "Critical Values:\n",
            "\t1%: -3.435\n",
            "\t5%: -2.864\n",
            "\t10%: -2.568\n"
          ]
        }
      ],
      "source": [
        "from statsmodels.tsa.stattools import adfuller\n",
        "result = adfuller(train.Prices.diff(2).dropna())\n",
        "print('ADF Statistic: %f' % result[0])\n",
        "print('p-value: %f' % result[1])\n",
        "print('Critical Values:')\n",
        "for key, value in result[4].items():\n",
        "\tprint('\\t%s: %.3f' % (key, value))"
      ]
    },
    {
      "cell_type": "markdown",
      "metadata": {
        "id": "2TtkGfIANMOJ"
      },
      "source": [
        "# ARIMA"
      ]
    },
    {
      "cell_type": "code",
      "execution_count": null,
      "metadata": {
        "id": "qSdtEMK1NMOJ",
        "outputId": "7f331bdf-e0b5-4d5c-c9c3-9c69f829ff20"
      },
      "outputs": [
        {
          "name": "stdout",
          "output_type": "stream",
          "text": [
            "\n",
            "The following command must be run outside of the IPython shell:\n",
            "\n",
            "    $ pip install statsmodels\n",
            "\n",
            "The Python package manager (pip) can only be used from outside of IPython.\n",
            "Please reissue the `pip` command in a separate terminal or command prompt.\n",
            "\n",
            "See the Python documentation for more information on how to install packages:\n",
            "\n",
            "    https://docs.python.org/3/installing/\n"
          ]
        }
      ],
      "source": [
        "pip install statsmodels"
      ]
    },
    {
      "cell_type": "code",
      "execution_count": null,
      "metadata": {
        "id": "NO7r88c-NMOJ"
      },
      "outputs": [],
      "source": [
        "from statsmodels.tsa.arima.model import ARIMA"
      ]
    },
    {
      "cell_type": "code",
      "execution_count": null,
      "metadata": {
        "id": "gDfz7AP3NMOJ",
        "outputId": "c0ce0981-5197-4e73-f3a0-5b0e08fb090c"
      },
      "outputs": [
        {
          "name": "stdout",
          "output_type": "stream",
          "text": [
            "                               SARIMAX Results                                \n",
            "==============================================================================\n",
            "Dep. Variable:                      y   No. Observations:                 1445\n",
            "Model:                 ARIMA(2, 1, 2)   Log Likelihood              -10142.946\n",
            "Date:                Thu, 27 Apr 2023   AIC                          20295.893\n",
            "Time:                        20:03:09   BIC                          20322.269\n",
            "Sample:                             0   HQIC                         20305.737\n",
            "                               - 1445                                         \n",
            "Covariance Type:                  opg                                         \n",
            "==============================================================================\n",
            "                 coef    std err          z      P>|z|      [0.025      0.975]\n",
            "------------------------------------------------------------------------------\n",
            "ar.L1         -0.2308      0.299     -0.773      0.440      -0.816       0.355\n",
            "ar.L2          0.6901      0.272      2.540      0.011       0.158       1.222\n",
            "ma.L1          0.1822      0.296      0.615      0.539      -0.399       0.763\n",
            "ma.L2         -0.6839      0.256     -2.670      0.008      -1.186      -0.182\n",
            "sigma2      7.402e+04   1230.469     60.156      0.000    7.16e+04    7.64e+04\n",
            "===================================================================================\n",
            "Ljung-Box (L1) (Q):                   0.17   Jarque-Bera (JB):              7294.17\n",
            "Prob(Q):                              0.68   Prob(JB):                         0.00\n",
            "Heteroskedasticity (H):               3.14   Skew:                            -0.43\n",
            "Prob(H) (two-sided):                  0.00   Kurtosis:                        13.98\n",
            "===================================================================================\n",
            "\n",
            "Warnings:\n",
            "[1] Covariance matrix calculated using the outer product of gradients (complex-step).\n"
          ]
        }
      ],
      "source": [
        "# we have took d as 1 after observing acf and pacf plots of both diff1 and diff2\n",
        "#model 2,1,2 (trial and error)\n",
        "model_arima = ARIMA(train['Prices'].values, order=(2,1,2))\n",
        "model_arima_fit = model_arima.fit()\n",
        "print(model_arima_fit.summary())"
      ]
    },
    {
      "cell_type": "code",
      "execution_count": null,
      "metadata": {
        "id": "eQhLCm3tNMOJ",
        "outputId": "35c4d7a7-a005-4da4-a0f0-d21ad365e27a"
      },
      "outputs": [
        {
          "name": "stderr",
          "output_type": "stream",
          "text": [
            "C:\\Users\\ushak\\programming\\New folder\\lib\\site-packages\\statsmodels\\tsa\\statespace\\sarimax.py:966: UserWarning: Non-stationary starting autoregressive parameters found. Using zeros as starting parameters.\n",
            "  warn('Non-stationary starting autoregressive parameters'\n",
            "C:\\Users\\ushak\\programming\\New folder\\lib\\site-packages\\statsmodels\\tsa\\statespace\\sarimax.py:978: UserWarning: Non-invertible starting MA parameters found. Using zeros as starting parameters.\n",
            "  warn('Non-invertible starting MA parameters found.'\n"
          ]
        },
        {
          "name": "stdout",
          "output_type": "stream",
          "text": [
            "                               SARIMAX Results                                \n",
            "==============================================================================\n",
            "Dep. Variable:                      y   No. Observations:                 1445\n",
            "Model:                 ARIMA(1, 1, 1)   Log Likelihood              -10143.412\n",
            "Date:                Thu, 27 Apr 2023   AIC                          20292.824\n",
            "Time:                        20:03:09   BIC                          20308.649\n",
            "Sample:                             0   HQIC                         20298.731\n",
            "                               - 1445                                         \n",
            "Covariance Type:                  opg                                         \n",
            "==============================================================================\n",
            "                 coef    std err          z      P>|z|      [0.025      0.975]\n",
            "------------------------------------------------------------------------------\n",
            "ar.L1         -0.9491      0.029    -32.442      0.000      -1.006      -0.892\n",
            "ma.L1          0.9151      0.036     25.336      0.000       0.844       0.986\n",
            "sigma2      7.405e+04   1161.480     63.757      0.000    7.18e+04    7.63e+04\n",
            "===================================================================================\n",
            "Ljung-Box (L1) (Q):                   0.01   Jarque-Bera (JB):              7611.03\n",
            "Prob(Q):                              0.91   Prob(JB):                         0.00\n",
            "Heteroskedasticity (H):               3.10   Skew:                            -0.46\n",
            "Prob(H) (two-sided):                  0.00   Kurtosis:                        14.21\n",
            "===================================================================================\n",
            "\n",
            "Warnings:\n",
            "[1] Covariance matrix calculated using the outer product of gradients (complex-step).\n"
          ]
        }
      ],
      "source": [
        "model_arima = ARIMA(train['Prices'].values, order=(1,1,1))\n",
        "model_arima_fit = model_arima.fit()\n",
        "print(model_arima_fit.summary())"
      ]
    },
    {
      "cell_type": "code",
      "execution_count": null,
      "metadata": {
        "id": "65z-7jV0NMOJ",
        "outputId": "fe2d3d8a-c17e-4fb7-ad0e-b99ae5552021"
      },
      "outputs": [
        {
          "name": "stdout",
          "output_type": "stream",
          "text": [
            "[50306.31877773 50321.67688965 50307.10001791 50320.93538979\n",
            " 50307.80379897 50320.26740883 50308.43780091 50319.66565746\n",
            " 50309.00894225 50319.12356907 50309.52345555 50318.63522816\n",
            " 50309.98695541 50318.19530572 50310.40449978 50317.79900111\n",
            " 50310.78064507 50317.44198966 50311.11949597 50317.12037552\n",
            " 50311.42475017 50316.83064906 50311.69973875 50316.56964867\n",
            " 50311.94746251 50316.33452618 50312.17062473 50316.12271582\n",
            " 50312.37166066 50315.93190624 50312.5527641  50315.76001521\n",
            " 50312.71591133 50315.605167   50312.86288269 50315.46567181\n",
            " 50312.995282   50315.34000742 50313.11455407 50315.22680252\n",
            " 50313.22200043 50315.12482176 50313.31879361 50315.03295228\n",
            " 50313.40598985 50314.95019156 50313.48454068 50314.87563647\n",
            " 50313.55530328 50314.80847344 50313.61904984 50314.74796955\n",
            " 50313.67647601 50314.69346456 50313.72820843 50314.64436368\n",
            " 50313.77481164 50314.60013109 50313.81679419 50314.56028412\n",
            " 50313.85461421 50314.52438793 50313.88868443 50314.49205081\n",
            " 50313.91937661 50314.46291988 50313.94702571 50314.43667725\n",
            " 50313.97193342 50314.41303655 50313.99437156 50314.39173979\n",
            " 50314.01458498 50314.37255459 50314.03279427 50314.35527158\n",
            " 50314.04919812 50314.33970216 50314.06397555 50314.32567643\n",
            " 50314.07728782 50314.31304134 50314.08928019 50314.301659\n",
            " 50314.10008352 50314.29140521 50314.10981572 50314.28216807\n",
            " 50314.11858298 50314.27384679 50314.12648098 50314.26635055\n",
            " 50314.1335959  50314.25959755 50314.14000538 50314.25351411\n",
            " 50314.14577937 50314.24803383 50314.15098088 50314.24309692\n",
            " 50314.15566666 50314.2386495  50314.15988785 50314.23464303\n",
            " 50314.16369051 50314.2310338  50314.16711615 50314.22778242\n",
            " 50314.17020213 50314.22485341 50314.17298215 50314.22221481\n",
            " 50314.17548653 50314.21983783 50314.1777426  50314.21769652\n",
            " 50314.17977499 50314.21576751 50314.18160586 50314.21402977\n",
            " 50314.18325521 50314.21246432 50314.18474103 50314.21105409\n",
            " 50314.18607953 50314.20978368 50314.18728531 50314.20863922\n",
            " 50314.18837155 50314.20760824 50314.18935009 50314.20667948\n",
            " 50314.1902316  50314.20584281 50314.19102572 50314.20508909\n",
            " 50314.1917411  50314.2044101  50314.19238555 50314.20379843\n",
            " 50314.1929661  50314.20324741 50314.19348909 50314.20275102\n",
            " 50314.19396023 50314.20230385 50314.19438466 50314.20190101\n",
            " 50314.194767   50314.20153812 50314.19511143 50314.20121121\n",
            " 50314.19542172 50314.2009167  50314.19570124 50314.2006514\n",
            " 50314.19595305 50314.20041241 50314.19617989 50314.2001971\n",
            " 50314.19638423 50314.20000315 50314.19656832 50314.19982843\n",
            " 50314.19673416 50314.19967103 50314.19688355 50314.19952923\n",
            " 50314.19701813 50314.1994015  50314.19713937 50314.19928643\n",
            " 50314.19724859 50314.19918277 50314.19734698 50314.19908938\n",
            " 50314.19743561 50314.19900526 50314.19751545 50314.19892947\n",
            " 50314.19758738 50314.1988612  50314.19765218 50314.1987997\n",
            " 50314.19771055 50314.1987443  50314.19776314 50314.19869439\n",
            " 50314.19781051 50314.19864943 50314.19785318 50314.19860892\n",
            " 50314.19789163 50314.19857244 50314.19792626 50314.19853957\n",
            " 50314.19795746 50314.19850996 50314.19798556 50314.19848328\n",
            " 50314.19801088 50314.19845925 50314.19803369 50314.1984376\n",
            " 50314.19805423 50314.1984181  50314.19807274 50314.19840053\n",
            " 50314.19808942 50314.19838471 50314.19810444 50314.19837045\n",
            " 50314.19811797 50314.19835761 50314.19813016 50314.19834604\n",
            " 50314.19814114 50314.19833561 50314.19815103 50314.19832623\n",
            " 50314.19815994 50314.19831777 50314.19816797 50314.19831015\n",
            " 50314.1981752  50314.19830328 50314.19818172 50314.1982971\n",
            " 50314.19818759 50314.19829153 50314.19819288 50314.19828651\n",
            " 50314.19819764 50314.19828199 50314.19820193 50314.19827792\n",
            " 50314.1982058  50314.19827425 50314.19820928 50314.19827094\n",
            " 50314.19821241 50314.19826797 50314.19821524 50314.19826528\n",
            " 50314.19821779 50314.19826287 50314.19822008 50314.19826069\n",
            " 50314.19822215 50314.19825873 50314.19822401 50314.19825696\n",
            " 50314.19822568 50314.19825537 50314.19822719 50314.19825394\n",
            " 50314.19822855 50314.19825265 50314.19822978 50314.19825149\n",
            " 50314.19823088 50314.19825044 50314.19823188 50314.19824949\n",
            " 50314.19823277 50314.19824864 50314.19823358 50314.19824788\n",
            " 50314.19823431 50314.19824719 50314.19823496 50314.19824656\n",
            " 50314.19823555 50314.198246   50314.19823609 50314.1982455\n",
            " 50314.19823656 50314.19824505 50314.198237   50314.19824464\n",
            " 50314.19823738 50314.19824427 50314.19823773 50314.19824393\n",
            " 50314.19823805 50314.19824364 50314.19823833 50314.19824337\n",
            " 50314.19823859 50314.19824312 50314.19823882 50314.1982429\n",
            " 50314.19823903 50314.19824271 50314.19823922 50314.19824253\n",
            " 50314.19823938 50314.19824237 50314.19823954 50314.19824222\n",
            " 50314.19823967 50314.1982421  50314.1982398  50314.19824198\n",
            " 50314.19823991 50314.19824187 50314.19824001 50314.19824178\n",
            " 50314.1982401  50314.19824169 50314.19824018 50314.19824162\n",
            " 50314.19824025 50314.19824155 50314.19824032 50314.19824148\n",
            " 50314.19824038 50314.19824143 50314.19824043 50314.19824138\n",
            " 50314.19824048 50314.19824133 50314.19824052 50314.19824129\n",
            " 50314.19824056 50314.19824125 50314.1982406  50314.19824122\n",
            " 50314.19824063 50314.19824119 50314.19824066 50314.19824116\n",
            " 50314.19824068 50314.19824114 50314.1982407  50314.19824112\n",
            " 50314.19824073 50314.1982411  50314.19824074 50314.19824108\n",
            " 50314.19824076 50314.19824106 50314.19824078 50314.19824105\n",
            " 50314.19824079 50314.19824103 50314.1982408  50314.19824102\n",
            " 50314.19824081 50314.19824101 50314.19824082 50314.198241\n",
            " 50314.19824083 50314.19824099 50314.19824084 50314.19824099\n",
            " 50314.19824085 50314.19824098 50314.19824086 50314.19824097\n",
            " 50314.19824086 50314.19824097 50314.19824087 50314.19824096\n",
            " 50314.19824087 50314.19824096 50314.19824088 50314.19824095\n",
            " 50314.19824088 50314.19824095 50314.19824088 50314.19824095\n",
            " 50314.19824089 50314.19824094 50314.19824089 50314.19824094\n",
            " 50314.19824089 50314.19824094 50314.19824089 50314.19824094\n",
            " 50314.1982409  50314.19824093 50314.1982409  50314.19824093\n",
            " 50314.1982409  50314.19824093 50314.1982409  50314.19824093\n",
            " 50314.1982409  50314.19824093 50314.1982409  50314.19824093\n",
            " 50314.19824091 50314.19824093 50314.19824091 50314.19824092\n",
            " 50314.19824091 50314.19824092 50314.19824091 50314.19824092\n",
            " 50314.19824091 50314.19824092 50314.19824091 50314.19824092\n",
            " 50314.19824091 50314.19824092 50314.19824091 50314.19824092\n",
            " 50314.19824091 50314.19824092 50314.19824091 50314.19824092\n",
            " 50314.19824091 50314.19824092 50314.19824091 50314.19824092\n",
            " 50314.19824091 50314.19824092 50314.19824091 50314.19824092\n",
            " 50314.19824091 50314.19824092 50314.19824091 50314.19824092\n",
            " 50314.19824091 50314.19824092 50314.19824091 50314.19824092\n",
            " 50314.19824091 50314.19824092 50314.19824091 50314.19824092\n",
            " 50314.19824091 50314.19824092 50314.19824091 50314.19824092\n",
            " 50314.19824091 50314.19824092 50314.19824091 50314.19824092\n",
            " 50314.19824091 50314.19824092 50314.19824091 50314.19824092\n",
            " 50314.19824091 50314.19824092 50314.19824091 50314.19824092\n",
            " 50314.19824091 50314.19824092 50314.19824091 50314.19824092\n",
            " 50314.19824091 50314.19824092 50314.19824091 50314.19824092\n",
            " 50314.19824091 50314.19824092 50314.19824091 50314.19824092\n",
            " 50314.19824092 50314.19824092 50314.19824092 50314.19824092\n",
            " 50314.19824092 50314.19824092 50314.19824092 50314.19824092\n",
            " 50314.19824092 50314.19824092 50314.19824092 50314.19824092\n",
            " 50314.19824092 50314.19824092 50314.19824092 50314.19824092\n",
            " 50314.19824092 50314.19824092 50314.19824092 50314.19824092\n",
            " 50314.19824092 50314.19824092 50314.19824092]\n"
          ]
        }
      ],
      "source": [
        "model_arima_forecast = model_arima_fit.forecast(steps = len(test))\n",
        "print(model_arima_forecast)"
      ]
    },
    {
      "cell_type": "code",
      "execution_count": null,
      "metadata": {
        "id": "uX7pWG72NMOJ",
        "outputId": "4e5e99c2-d67d-450c-b877-b5f5b32f6af3"
      },
      "outputs": [
        {
          "data": {
            "image/png": "[encoded data removed]",
            "text/plain": [
              "<Figure size 1152x576 with 1 Axes>"
            ]
          },
          "metadata": {
            "needs_background": "light"
          },
          "output_type": "display_data"
        }
      ],
      "source": [
        "model_forecast= test.copy()\n",
        "model_forecast['model_arima_forecast']=model_arima_forecast\n",
        "plt.figure(figsize=(16,8))\n",
        "plt.plot( train['Prices'], label='Train')\n",
        "plt.plot(test['Prices'], label='Test',color='green')\n",
        "plt.plot(model_forecast['model_arima_forecast'], label='ARIMA',color='red')\n",
        "plt.legend(loc='best')\n",
        "plt.show()"
      ]
    },
    {
      "cell_type": "code",
      "execution_count": null,
      "metadata": {
        "id": "NyRRiz7GNMOJ",
        "outputId": "5a4c77ab-a58b-4ccd-9554-31ac8613fa5b"
      },
      "outputs": [
        {
          "name": "stderr",
          "output_type": "stream",
          "text": [
            "C:\\Users\\ushak\\programming\\New folder\\lib\\site-packages\\statsmodels\\tsa\\statespace\\sarimax.py:966: UserWarning: Non-stationary starting autoregressive parameters found. Using zeros as starting parameters.\n",
            "  warn('Non-stationary starting autoregressive parameters'\n",
            "C:\\Users\\ushak\\programming\\New folder\\lib\\site-packages\\statsmodels\\tsa\\statespace\\sarimax.py:978: UserWarning: Non-invertible starting MA parameters found. Using zeros as starting parameters.\n",
            "  warn('Non-invertible starting MA parameters found.'\n"
          ]
        },
        {
          "name": "stdout",
          "output_type": "stream",
          "text": [
            "                               SARIMAX Results                                \n",
            "==============================================================================\n",
            "Dep. Variable:                      y   No. Observations:                 1445\n",
            "Model:                 ARIMA(2, 1, 1)   Log Likelihood              -10142.979\n",
            "Date:                Thu, 27 Apr 2023   AIC                          20293.959\n",
            "Time:                        20:03:09   BIC                          20315.059\n",
            "Sample:                             0   HQIC                         20301.835\n",
            "                               - 1445                                         \n",
            "Covariance Type:                  opg                                         \n",
            "==============================================================================\n",
            "                 coef    std err          z      P>|z|      [0.025      0.975]\n",
            "------------------------------------------------------------------------------\n",
            "ar.L1         -0.9881      0.041    -23.871      0.000      -1.069      -0.907\n",
            "ar.L2         -0.0267      0.018     -1.501      0.133      -0.062       0.008\n",
            "ma.L1          0.9334      0.040     23.393      0.000       0.855       1.012\n",
            "sigma2      7.406e+04   1178.869     62.820      0.000    7.17e+04    7.64e+04\n",
            "===================================================================================\n",
            "Ljung-Box (L1) (Q):                   0.48   Jarque-Bera (JB):              7395.26\n",
            "Prob(Q):                              0.49   Prob(JB):                         0.00\n",
            "Heteroskedasticity (H):               3.13   Skew:                            -0.43\n",
            "Prob(H) (two-sided):                  0.00   Kurtosis:                        14.05\n",
            "===================================================================================\n",
            "\n",
            "Warnings:\n",
            "[1] Covariance matrix calculated using the outer product of gradients (complex-step).\n"
          ]
        }
      ],
      "source": [
        "# model 2,1,1.(trial and error)\n",
        "model_arima = ARIMA(train['Prices'].values, order=(2,1,1))\n",
        "model_arima_fit = model_arima.fit()\n",
        "print(model_arima_fit.summary())"
      ]
    },
    {
      "cell_type": "code",
      "execution_count": null,
      "metadata": {
        "id": "a5v9ZJ6nNMOJ",
        "outputId": "e81b5961-b566-4535-b34f-cc6d1ecfb286"
      },
      "outputs": [
        {
          "name": "stdout",
          "output_type": "stream",
          "text": [
            "                               SARIMAX Results                                \n",
            "==============================================================================\n",
            "Dep. Variable:                      y   No. Observations:                 1445\n",
            "Model:                 ARIMA(1, 1, 1)   Log Likelihood              -10143.412\n",
            "Date:                Thu, 27 Apr 2023   AIC                          20292.824\n",
            "Time:                        20:03:10   BIC                          20308.649\n",
            "Sample:                             0   HQIC                         20298.731\n",
            "                               - 1445                                         \n",
            "Covariance Type:                  opg                                         \n",
            "==============================================================================\n",
            "                 coef    std err          z      P>|z|      [0.025      0.975]\n",
            "------------------------------------------------------------------------------\n",
            "ar.L1         -0.9491      0.029    -32.442      0.000      -1.006      -0.892\n",
            "ma.L1          0.9151      0.036     25.336      0.000       0.844       0.986\n",
            "sigma2      7.405e+04   1161.480     63.757      0.000    7.18e+04    7.63e+04\n",
            "===================================================================================\n",
            "Ljung-Box (L1) (Q):                   0.01   Jarque-Bera (JB):              7611.03\n",
            "Prob(Q):                              0.91   Prob(JB):                         0.00\n",
            "Heteroskedasticity (H):               3.10   Skew:                            -0.46\n",
            "Prob(H) (two-sided):                  0.00   Kurtosis:                        14.21\n",
            "===================================================================================\n",
            "\n",
            "Warnings:\n",
            "[1] Covariance matrix calculated using the outer product of gradients (complex-step).\n"
          ]
        },
        {
          "name": "stderr",
          "output_type": "stream",
          "text": [
            "C:\\Users\\ushak\\programming\\New folder\\lib\\site-packages\\statsmodels\\tsa\\statespace\\sarimax.py:966: UserWarning: Non-stationary starting autoregressive parameters found. Using zeros as starting parameters.\n",
            "  warn('Non-stationary starting autoregressive parameters'\n",
            "C:\\Users\\ushak\\programming\\New folder\\lib\\site-packages\\statsmodels\\tsa\\statespace\\sarimax.py:978: UserWarning: Non-invertible starting MA parameters found. Using zeros as starting parameters.\n",
            "  warn('Non-invertible starting MA parameters found.'\n"
          ]
        }
      ],
      "source": [
        "# model 1,1,1 (trial and error)\n",
        "model_arima = ARIMA(train['Prices'].values, order=(1,1,1))\n",
        "model_arima_fit = model_arima.fit()\n",
        "print(model_arima_fit.summary())"
      ]
    },
    {
      "cell_type": "code",
      "execution_count": null,
      "metadata": {
        "id": "0Vu_H72eNMOK",
        "outputId": "3c3af3a4-cc61-4dda-c4d7-f9b7153ac272"
      },
      "outputs": [
        {
          "name": "stdout",
          "output_type": "stream",
          "text": [
            "[50306.31877773 50321.67688965 50307.10001791 50320.93538979\n",
            " 50307.80379897 50320.26740883 50308.43780091 50319.66565746\n",
            " 50309.00894225 50319.12356907 50309.52345555 50318.63522816\n",
            " 50309.98695541 50318.19530572 50310.40449978 50317.79900111\n",
            " 50310.78064507 50317.44198966 50311.11949597 50317.12037552\n",
            " 50311.42475017 50316.83064906 50311.69973875 50316.56964867\n",
            " 50311.94746251 50316.33452618 50312.17062473 50316.12271582\n",
            " 50312.37166066 50315.93190624 50312.5527641  50315.76001521\n",
            " 50312.71591133 50315.605167   50312.86288269 50315.46567181\n",
            " 50312.995282   50315.34000742 50313.11455407 50315.22680252\n",
            " 50313.22200043 50315.12482176 50313.31879361 50315.03295228\n",
            " 50313.40598985 50314.95019156 50313.48454068 50314.87563647\n",
            " 50313.55530328 50314.80847344 50313.61904984 50314.74796955\n",
            " 50313.67647601 50314.69346456 50313.72820843 50314.64436368\n",
            " 50313.77481164 50314.60013109 50313.81679419 50314.56028412\n",
            " 50313.85461421 50314.52438793 50313.88868443 50314.49205081\n",
            " 50313.91937661 50314.46291988 50313.94702571 50314.43667725\n",
            " 50313.97193342 50314.41303655 50313.99437156 50314.39173979\n",
            " 50314.01458498 50314.37255459 50314.03279427 50314.35527158\n",
            " 50314.04919812 50314.33970216 50314.06397555 50314.32567643\n",
            " 50314.07728782 50314.31304134 50314.08928019 50314.301659\n",
            " 50314.10008352 50314.29140521 50314.10981572 50314.28216807\n",
            " 50314.11858298 50314.27384679 50314.12648098 50314.26635055\n",
            " 50314.1335959  50314.25959755 50314.14000538 50314.25351411\n",
            " 50314.14577937 50314.24803383 50314.15098088 50314.24309692\n",
            " 50314.15566666 50314.2386495  50314.15988785 50314.23464303\n",
            " 50314.16369051 50314.2310338  50314.16711615 50314.22778242\n",
            " 50314.17020213 50314.22485341 50314.17298215 50314.22221481\n",
            " 50314.17548653 50314.21983783 50314.1777426  50314.21769652\n",
            " 50314.17977499 50314.21576751 50314.18160586 50314.21402977\n",
            " 50314.18325521 50314.21246432 50314.18474103 50314.21105409\n",
            " 50314.18607953 50314.20978368 50314.18728531 50314.20863922\n",
            " 50314.18837155 50314.20760824 50314.18935009 50314.20667948\n",
            " 50314.1902316  50314.20584281 50314.19102572 50314.20508909\n",
            " 50314.1917411  50314.2044101  50314.19238555 50314.20379843\n",
            " 50314.1929661  50314.20324741 50314.19348909 50314.20275102\n",
            " 50314.19396023 50314.20230385 50314.19438466 50314.20190101\n",
            " 50314.194767   50314.20153812 50314.19511143 50314.20121121\n",
            " 50314.19542172 50314.2009167  50314.19570124 50314.2006514\n",
            " 50314.19595305 50314.20041241 50314.19617989 50314.2001971\n",
            " 50314.19638423 50314.20000315 50314.19656832 50314.19982843\n",
            " 50314.19673416 50314.19967103 50314.19688355 50314.19952923\n",
            " 50314.19701813 50314.1994015  50314.19713937 50314.19928643\n",
            " 50314.19724859 50314.19918277 50314.19734698 50314.19908938\n",
            " 50314.19743561 50314.19900526 50314.19751545 50314.19892947\n",
            " 50314.19758738 50314.1988612  50314.19765218 50314.1987997\n",
            " 50314.19771055 50314.1987443  50314.19776314 50314.19869439\n",
            " 50314.19781051 50314.19864943 50314.19785318 50314.19860892\n",
            " 50314.19789163 50314.19857244 50314.19792626 50314.19853957\n",
            " 50314.19795746 50314.19850996 50314.19798556 50314.19848328\n",
            " 50314.19801088 50314.19845925 50314.19803369 50314.1984376\n",
            " 50314.19805423 50314.1984181  50314.19807274 50314.19840053\n",
            " 50314.19808942 50314.19838471 50314.19810444 50314.19837045\n",
            " 50314.19811797 50314.19835761 50314.19813016 50314.19834604\n",
            " 50314.19814114 50314.19833561 50314.19815103 50314.19832623\n",
            " 50314.19815994 50314.19831777 50314.19816797 50314.19831015\n",
            " 50314.1981752  50314.19830328 50314.19818172 50314.1982971\n",
            " 50314.19818759 50314.19829153 50314.19819288 50314.19828651\n",
            " 50314.19819764 50314.19828199 50314.19820193 50314.19827792\n",
            " 50314.1982058  50314.19827425 50314.19820928 50314.19827094\n",
            " 50314.19821241 50314.19826797 50314.19821524 50314.19826528\n",
            " 50314.19821779 50314.19826287 50314.19822008 50314.19826069\n",
            " 50314.19822215 50314.19825873 50314.19822401 50314.19825696\n",
            " 50314.19822568 50314.19825537 50314.19822719 50314.19825394\n",
            " 50314.19822855 50314.19825265 50314.19822978 50314.19825149\n",
            " 50314.19823088 50314.19825044 50314.19823188 50314.19824949\n",
            " 50314.19823277 50314.19824864 50314.19823358 50314.19824788\n",
            " 50314.19823431 50314.19824719 50314.19823496 50314.19824656\n",
            " 50314.19823555 50314.198246   50314.19823609 50314.1982455\n",
            " 50314.19823656 50314.19824505 50314.198237   50314.19824464\n",
            " 50314.19823738 50314.19824427 50314.19823773 50314.19824393\n",
            " 50314.19823805 50314.19824364 50314.19823833 50314.19824337\n",
            " 50314.19823859 50314.19824312 50314.19823882 50314.1982429\n",
            " 50314.19823903 50314.19824271 50314.19823922 50314.19824253\n",
            " 50314.19823938 50314.19824237 50314.19823954 50314.19824222\n",
            " 50314.19823967 50314.1982421  50314.1982398  50314.19824198\n",
            " 50314.19823991 50314.19824187 50314.19824001 50314.19824178\n",
            " 50314.1982401  50314.19824169 50314.19824018 50314.19824162\n",
            " 50314.19824025 50314.19824155 50314.19824032 50314.19824148\n",
            " 50314.19824038 50314.19824143 50314.19824043 50314.19824138\n",
            " 50314.19824048 50314.19824133 50314.19824052 50314.19824129\n",
            " 50314.19824056 50314.19824125 50314.1982406  50314.19824122\n",
            " 50314.19824063 50314.19824119 50314.19824066 50314.19824116\n",
            " 50314.19824068 50314.19824114 50314.1982407  50314.19824112\n",
            " 50314.19824073 50314.1982411  50314.19824074 50314.19824108\n",
            " 50314.19824076 50314.19824106 50314.19824078 50314.19824105\n",
            " 50314.19824079 50314.19824103 50314.1982408  50314.19824102\n",
            " 50314.19824081 50314.19824101 50314.19824082 50314.198241\n",
            " 50314.19824083 50314.19824099 50314.19824084 50314.19824099\n",
            " 50314.19824085 50314.19824098 50314.19824086 50314.19824097\n",
            " 50314.19824086 50314.19824097 50314.19824087 50314.19824096\n",
            " 50314.19824087 50314.19824096 50314.19824088 50314.19824095\n",
            " 50314.19824088 50314.19824095 50314.19824088 50314.19824095\n",
            " 50314.19824089 50314.19824094 50314.19824089 50314.19824094\n",
            " 50314.19824089 50314.19824094 50314.19824089 50314.19824094\n",
            " 50314.1982409  50314.19824093 50314.1982409  50314.19824093\n",
            " 50314.1982409  50314.19824093 50314.1982409  50314.19824093\n",
            " 50314.1982409  50314.19824093 50314.1982409  50314.19824093\n",
            " 50314.19824091 50314.19824093 50314.19824091 50314.19824092\n",
            " 50314.19824091 50314.19824092 50314.19824091 50314.19824092\n",
            " 50314.19824091 50314.19824092 50314.19824091 50314.19824092\n",
            " 50314.19824091 50314.19824092 50314.19824091 50314.19824092\n",
            " 50314.19824091 50314.19824092 50314.19824091 50314.19824092\n",
            " 50314.19824091 50314.19824092 50314.19824091 50314.19824092\n",
            " 50314.19824091 50314.19824092 50314.19824091 50314.19824092\n",
            " 50314.19824091 50314.19824092 50314.19824091 50314.19824092\n",
            " 50314.19824091 50314.19824092 50314.19824091 50314.19824092\n",
            " 50314.19824091 50314.19824092 50314.19824091 50314.19824092\n",
            " 50314.19824091 50314.19824092 50314.19824091 50314.19824092\n",
            " 50314.19824091 50314.19824092 50314.19824091 50314.19824092\n",
            " 50314.19824091 50314.19824092 50314.19824091 50314.19824092\n",
            " 50314.19824091 50314.19824092 50314.19824091 50314.19824092\n",
            " 50314.19824091 50314.19824092 50314.19824091 50314.19824092\n",
            " 50314.19824091 50314.19824092 50314.19824091 50314.19824092\n",
            " 50314.19824091 50314.19824092 50314.19824091 50314.19824092\n",
            " 50314.19824092 50314.19824092 50314.19824092 50314.19824092\n",
            " 50314.19824092 50314.19824092 50314.19824092 50314.19824092\n",
            " 50314.19824092 50314.19824092 50314.19824092 50314.19824092\n",
            " 50314.19824092 50314.19824092 50314.19824092 50314.19824092\n",
            " 50314.19824092 50314.19824092 50314.19824092 50314.19824092\n",
            " 50314.19824092 50314.19824092 50314.19824092]\n"
          ]
        }
      ],
      "source": [
        "#(1,1,1) model fitting\n",
        "model_arima_forecast = model_arima_fit.forecast(steps = len(test))\n",
        "print(model_arima_forecast)"
      ]
    },
    {
      "cell_type": "code",
      "execution_count": null,
      "metadata": {
        "id": "Q6hrfP4dNMOK",
        "outputId": "d6d8387c-1e8f-4308-879e-fd3183cef06d"
      },
      "outputs": [
        {
          "data": {
            "image/png": "[encoded data removed]",
            "text/plain": [
              "<Figure size 1152x576 with 1 Axes>"
            ]
          },
          "metadata": {
            "needs_background": "light"
          },
          "output_type": "display_data"
        }
      ],
      "source": [
        "model_forecast= test.copy()\n",
        "model_forecast['model_arima_forecast']=model_arima_forecast\n",
        "plt.figure(figsize=(16,8))\n",
        "plt.plot( train['Prices'], label='Train')\n",
        "plt.plot(test['Prices'], label='Test',color='green')\n",
        "plt.plot(model_forecast['model_arima_forecast'], label='ARIMA',color='red')\n",
        "plt.legend(loc='best')\n",
        "plt.show()"
      ]
    },
    {
      "cell_type": "code",
      "execution_count": null,
      "metadata": {
        "id": "drIfIrO7NMOK"
      },
      "outputs": [],
      "source": [
        "from sklearn import metrics"
      ]
    },
    {
      "cell_type": "code",
      "execution_count": null,
      "metadata": {
        "id": "FK_bdjZSNMOK"
      },
      "outputs": [],
      "source": [
        "def error_metrics(train_act,train_pred,test_act,test_pred):\n",
        "        print('*** Error metrics Train data ***')\n",
        "        print('MAE Train:', metrics.mean_absolute_error(train_act, train_pred))\n",
        "        print('MSE Train:', metrics.mean_squared_error(train_act, train_pred))\n",
        "        print('RMSE Train:', np.sqrt(metrics.mean_squared_error(train_act, train_pred)))\n",
        "        print('MAPE Train:', metrics.mean_absolute_percentage_error(train_act, train_pred))\n",
        "\n",
        "        print('***\\n Error metrics Test Data ***')\n",
        "\n",
        "        print('MAE Test:', metrics.mean_absolute_error(test_act,test_pred))\n",
        "        print('MSE Test:', metrics.mean_squared_error(test_act,test_pred))\n",
        "        print('RMSE Test:', np.sqrt(metrics.mean_squared_error(test_act,test_pred)))\n",
        "        print('MAPE Test:', metrics.mean_absolute_percentage_error(test_act,test_pred))\n",
        "        "
      ]
    },
    {
      "cell_type": "code",
      "execution_count": null,
      "metadata": {
        "id": "DG-R-UafNMOK",
        "outputId": "4435910d-21b4-48f2-91c6-8da4e547f454"
      },
      "outputs": [
        {
          "name": "stdout",
          "output_type": "stream",
          "text": [
            "*** Error metrics Train data ***\n",
            "MAE Train: 15807.335965509914\n",
            "MSE Train: 306731347.3383153\n",
            "RMSE Train: 17513.74738136631\n",
            "MAPE Train: 0.5195615323382899\n",
            "***\n",
            " Error metrics Test Data ***\n",
            "MAE Test: 1898.4779229282512\n",
            "MSE Test: 4959653.091279791\n",
            "RMSE Test: 2227.0278604633104\n",
            "MAPE Test: 0.039568156937150684\n"
          ]
        }
      ],
      "source": [
        "error_metrics(train['Prices'], model_arima_fit.forecast(steps = len(train)),test['Prices'], \n",
        "              model_arima_fit.forecast(steps=len(test)))\n"
      ]
    },
    {
      "cell_type": "code",
      "execution_count": null,
      "metadata": {
        "id": "GbFGjj3jNMOK",
        "outputId": "18c0db7f-dc24-4ed5-97d5-5db7c17722d6"
      },
      "outputs": [
        {
          "data": {
            "text/html": [
              "<div>\n",
              "<style scoped>\n",
              "    .dataframe tbody tr th:only-of-type {\n",
              "        vertical-align: middle;\n",
              "    }\n",
              "\n",
              "    .dataframe tbody tr th {\n",
              "        vertical-align: top;\n",
              "    }\n",
              "\n",
              "    .dataframe thead th {\n",
              "        text-align: right;\n",
              "    }\n",
              "</style>\n",
              "<table border=\"1\" class=\"dataframe\">\n",
              "  <thead>\n",
              "    <tr style=\"text-align: right;\">\n",
              "      <th></th>\n",
              "      <th>Prices</th>\n",
              "      <th>month</th>\n",
              "      <th>year</th>\n",
              "      <th>time_seq</th>\n",
              "      <th>model_arima_forecast</th>\n",
              "    </tr>\n",
              "    <tr>\n",
              "      <th>date</th>\n",
              "      <th></th>\n",
              "      <th></th>\n",
              "      <th></th>\n",
              "      <th></th>\n",
              "      <th></th>\n",
              "    </tr>\n",
              "  </thead>\n",
              "  <tbody>\n",
              "    <tr>\n",
              "      <th>2020-12-17</th>\n",
              "      <td>50650.000000</td>\n",
              "      <td>12</td>\n",
              "      <td>2020</td>\n",
              "      <td>1446</td>\n",
              "      <td>50306.318778</td>\n",
              "    </tr>\n",
              "    <tr>\n",
              "      <th>2020-12-18</th>\n",
              "      <td>50792.500000</td>\n",
              "      <td>12</td>\n",
              "      <td>2020</td>\n",
              "      <td>1447</td>\n",
              "      <td>50321.676890</td>\n",
              "    </tr>\n",
              "    <tr>\n",
              "      <th>2020-12-19</th>\n",
              "      <td>50893.333333</td>\n",
              "      <td>12</td>\n",
              "      <td>2020</td>\n",
              "      <td>1448</td>\n",
              "      <td>50307.100018</td>\n",
              "    </tr>\n",
              "    <tr>\n",
              "      <th>2020-12-20</th>\n",
              "      <td>50994.166667</td>\n",
              "      <td>12</td>\n",
              "      <td>2020</td>\n",
              "      <td>1449</td>\n",
              "      <td>50320.935390</td>\n",
              "    </tr>\n",
              "    <tr>\n",
              "      <th>2020-12-21</th>\n",
              "      <td>51095.000000</td>\n",
              "      <td>12</td>\n",
              "      <td>2020</td>\n",
              "      <td>1450</td>\n",
              "      <td>50307.803799</td>\n",
              "    </tr>\n",
              "    <tr>\n",
              "      <th>...</th>\n",
              "      <td>...</td>\n",
              "      <td>...</td>\n",
              "      <td>...</td>\n",
              "      <td>...</td>\n",
              "      <td>...</td>\n",
              "    </tr>\n",
              "    <tr>\n",
              "      <th>2022-04-09</th>\n",
              "      <td>52308.333333</td>\n",
              "      <td>4</td>\n",
              "      <td>2022</td>\n",
              "      <td>1924</td>\n",
              "      <td>50314.198241</td>\n",
              "    </tr>\n",
              "    <tr>\n",
              "      <th>2022-04-10</th>\n",
              "      <td>52404.166667</td>\n",
              "      <td>4</td>\n",
              "      <td>2022</td>\n",
              "      <td>1925</td>\n",
              "      <td>50314.198241</td>\n",
              "    </tr>\n",
              "    <tr>\n",
              "      <th>2022-04-11</th>\n",
              "      <td>52500.000000</td>\n",
              "      <td>4</td>\n",
              "      <td>2022</td>\n",
              "      <td>1926</td>\n",
              "      <td>50314.198241</td>\n",
              "    </tr>\n",
              "    <tr>\n",
              "      <th>2022-04-12</th>\n",
              "      <td>52562.500000</td>\n",
              "      <td>4</td>\n",
              "      <td>2022</td>\n",
              "      <td>1927</td>\n",
              "      <td>50314.198241</td>\n",
              "    </tr>\n",
              "    <tr>\n",
              "      <th>2022-04-13</th>\n",
              "      <td>52700.000000</td>\n",
              "      <td>4</td>\n",
              "      <td>2022</td>\n",
              "      <td>1928</td>\n",
              "      <td>50314.198241</td>\n",
              "    </tr>\n",
              "  </tbody>\n",
              "</table>\n",
              "<p>483 rows × 5 columns</p>\n",
              "</div>"
            ],
            "text/plain": [
              "                  Prices  month  year  time_seq  model_arima_forecast\n",
              "date                                                                 \n",
              "2020-12-17  50650.000000     12  2020      1446          50306.318778\n",
              "2020-12-18  50792.500000     12  2020      1447          50321.676890\n",
              "2020-12-19  50893.333333     12  2020      1448          50307.100018\n",
              "2020-12-20  50994.166667     12  2020      1449          50320.935390\n",
              "2020-12-21  51095.000000     12  2020      1450          50307.803799\n",
              "...                  ...    ...   ...       ...                   ...\n",
              "2022-04-09  52308.333333      4  2022      1924          50314.198241\n",
              "2022-04-10  52404.166667      4  2022      1925          50314.198241\n",
              "2022-04-11  52500.000000      4  2022      1926          50314.198241\n",
              "2022-04-12  52562.500000      4  2022      1927          50314.198241\n",
              "2022-04-13  52700.000000      4  2022      1928          50314.198241\n",
              "\n",
              "[483 rows x 5 columns]"
            ]
          },
          "execution_count": 68,
          "metadata": {},
          "output_type": "execute_result"
        }
      ],
      "source": [
        "model_forecast"
      ]
    },
    {
      "cell_type": "markdown",
      "metadata": {
        "id": "QjEjOPVqNMOK"
      },
      "source": [
        "# auto arima"
      ]
    },
    {
      "cell_type": "code",
      "execution_count": null,
      "metadata": {
        "id": "G24kKM1kNMOK"
      },
      "outputs": [],
      "source": [
        "from pmdarima.arima import auto_arima"
      ]
    },
    {
      "cell_type": "code",
      "execution_count": null,
      "metadata": {
        "id": "PUi2z54qNMOK",
        "outputId": "704a4606-12dc-473f-8cb5-0f970af1ac80"
      },
      "outputs": [
        {
          "data": {
            "text/html": [
              "<table class=\"simpletable\">\n",
              "<caption>SARIMAX Results</caption>\n",
              "<tr>\n",
              "  <th>Dep. Variable:</th>           <td>y</td>        <th>  No. Observations:  </th>    <td>1445</td>   \n",
              "</tr>\n",
              "<tr>\n",
              "  <th>Model:</th>           <td>SARIMAX(1, 1, 1)</td> <th>  Log Likelihood     </th> <td>-10140.964</td>\n",
              "</tr>\n",
              "<tr>\n",
              "  <th>Date:</th>            <td>Thu, 27 Apr 2023</td> <th>  AIC                </th>  <td>20289.928</td>\n",
              "</tr>\n",
              "<tr>\n",
              "  <th>Time:</th>                <td>20:03:17</td>     <th>  BIC                </th>  <td>20311.028</td>\n",
              "</tr>\n",
              "<tr>\n",
              "  <th>Sample:</th>                  <td>0</td>        <th>  HQIC               </th>  <td>20297.803</td>\n",
              "</tr>\n",
              "<tr>\n",
              "  <th></th>                      <td> - 1445</td>     <th>                     </th>      <td> </td>    \n",
              "</tr>\n",
              "<tr>\n",
              "  <th>Covariance Type:</th>        <td>opg</td>       <th>                     </th>      <td> </td>    \n",
              "</tr>\n",
              "</table>\n",
              "<table class=\"simpletable\">\n",
              "<tr>\n",
              "      <td></td>         <th>coef</th>     <th>std err</th>      <th>z</th>      <th>P>|z|</th>  <th>[0.025</th>    <th>0.975]</th>  \n",
              "</tr>\n",
              "<tr>\n",
              "  <th>intercept</th> <td>   30.3004</td> <td>   13.876</td> <td>    2.184</td> <td> 0.029</td> <td>    3.104</td> <td>   57.497</td>\n",
              "</tr>\n",
              "<tr>\n",
              "  <th>ar.L1</th>     <td>   -0.9479</td> <td>    0.030</td> <td>  -31.956</td> <td> 0.000</td> <td>   -1.006</td> <td>   -0.890</td>\n",
              "</tr>\n",
              "<tr>\n",
              "  <th>ma.L1</th>     <td>    0.9132</td> <td>    0.037</td> <td>   25.019</td> <td> 0.000</td> <td>    0.842</td> <td>    0.985</td>\n",
              "</tr>\n",
              "<tr>\n",
              "  <th>sigma2</th>    <td>  7.38e+04</td> <td> 1156.861</td> <td>   63.792</td> <td> 0.000</td> <td> 7.15e+04</td> <td> 7.61e+04</td>\n",
              "</tr>\n",
              "</table>\n",
              "<table class=\"simpletable\">\n",
              "<tr>\n",
              "  <th>Ljung-Box (L1) (Q):</th>     <td>0.01</td> <th>  Jarque-Bera (JB):  </th> <td>7604.27</td>\n",
              "</tr>\n",
              "<tr>\n",
              "  <th>Prob(Q):</th>                <td>0.93</td> <th>  Prob(JB):          </th>  <td>0.00</td>  \n",
              "</tr>\n",
              "<tr>\n",
              "  <th>Heteroskedasticity (H):</th> <td>3.07</td> <th>  Skew:              </th>  <td>-0.46</td> \n",
              "</tr>\n",
              "<tr>\n",
              "  <th>Prob(H) (two-sided):</th>    <td>0.00</td> <th>  Kurtosis:          </th>  <td>14.21</td> \n",
              "</tr>\n",
              "</table><br/><br/>Warnings:<br/>[1] Covariance matrix calculated using the outer product of gradients (complex-step)."
            ],
            "text/plain": [
              "<class 'statsmodels.iolib.summary.Summary'>\n",
              "\"\"\"\n",
              "                               SARIMAX Results                                \n",
              "==============================================================================\n",
              "Dep. Variable:                      y   No. Observations:                 1445\n",
              "Model:               SARIMAX(1, 1, 1)   Log Likelihood              -10140.964\n",
              "Date:                Thu, 27 Apr 2023   AIC                          20289.928\n",
              "Time:                        20:03:17   BIC                          20311.028\n",
              "Sample:                             0   HQIC                         20297.803\n",
              "                               - 1445                                         \n",
              "Covariance Type:                  opg                                         \n",
              "==============================================================================\n",
              "                 coef    std err          z      P>|z|      [0.025      0.975]\n",
              "------------------------------------------------------------------------------\n",
              "intercept     30.3004     13.876      2.184      0.029       3.104      57.497\n",
              "ar.L1         -0.9479      0.030    -31.956      0.000      -1.006      -0.890\n",
              "ma.L1          0.9132      0.037     25.019      0.000       0.842       0.985\n",
              "sigma2       7.38e+04   1156.861     63.792      0.000    7.15e+04    7.61e+04\n",
              "===================================================================================\n",
              "Ljung-Box (L1) (Q):                   0.01   Jarque-Bera (JB):              7604.27\n",
              "Prob(Q):                              0.93   Prob(JB):                         0.00\n",
              "Heteroskedasticity (H):               3.07   Skew:                            -0.46\n",
              "Prob(H) (two-sided):                  0.00   Kurtosis:                        14.21\n",
              "===================================================================================\n",
              "\n",
              "Warnings:\n",
              "[1] Covariance matrix calculated using the outer product of gradients (complex-step).\n",
              "\"\"\""
            ]
          },
          "execution_count": 70,
          "metadata": {},
          "output_type": "execute_result"
        }
      ],
      "source": [
        "model = auto_arima(train.Prices, start_p=0, start_q=0)\n",
        "model.summary()"
      ]
    },
    {
      "cell_type": "markdown",
      "metadata": {
        "id": "HxkACCcNNMOL"
      },
      "source": [
        "# p=1,q=1,d=1 and P=1,D=0,Q=1,m=12"
      ]
    },
    {
      "cell_type": "code",
      "execution_count": null,
      "metadata": {
        "id": "FZ6fUhqFNMOL",
        "outputId": "8ad8d07b-c65c-4e9c-9c83-ecae3977abc1"
      },
      "outputs": [
        {
          "name": "stderr",
          "output_type": "stream",
          "text": [
            "C:\\Users\\ushak\\programming\\New folder\\lib\\site-packages\\statsmodels\\tsa\\statespace\\sarimax.py:966: UserWarning: Non-stationary starting autoregressive parameters found. Using zeros as starting parameters.\n",
            "  warn('Non-stationary starting autoregressive parameters'\n",
            "C:\\Users\\ushak\\programming\\New folder\\lib\\site-packages\\statsmodels\\tsa\\statespace\\sarimax.py:978: UserWarning: Non-invertible starting MA parameters found. Using zeros as starting parameters.\n",
            "  warn('Non-invertible starting MA parameters found.'\n"
          ]
        },
        {
          "name": "stdout",
          "output_type": "stream",
          "text": [
            "                                    SARIMAX Results                                     \n",
            "========================================================================================\n",
            "Dep. Variable:                                y   No. Observations:                 1445\n",
            "Model:             ARIMA(1, 1, 1)x(1, 0, 1, 12)   Log Likelihood              -10139.729\n",
            "Date:                          Thu, 27 Apr 2023   AIC                          20289.459\n",
            "Time:                                  20:03:19   BIC                          20315.834\n",
            "Sample:                                       0   HQIC                         20299.303\n",
            "                                         - 1445                                         \n",
            "Covariance Type:                            opg                                         \n",
            "==============================================================================\n",
            "                 coef    std err          z      P>|z|      [0.025      0.975]\n",
            "------------------------------------------------------------------------------\n",
            "ar.L1         -0.9423      0.036    -26.132      0.000      -1.013      -0.872\n",
            "ma.L1          0.9096      0.043     21.310      0.000       0.826       0.993\n",
            "ar.S.L12      -0.4941      0.234     -2.111      0.035      -0.953      -0.035\n",
            "ma.S.L12       0.5566      0.223      2.493      0.013       0.119       0.994\n",
            "sigma2      7.343e+04   1226.249     59.883      0.000     7.1e+04    7.58e+04\n",
            "===================================================================================\n",
            "Ljung-Box (L1) (Q):                   0.03   Jarque-Bera (JB):              7008.39\n",
            "Prob(Q):                              0.86   Prob(JB):                         0.00\n",
            "Heteroskedasticity (H):               3.09   Skew:                            -0.41\n",
            "Prob(H) (two-sided):                  0.00   Kurtosis:                        13.76\n",
            "===================================================================================\n",
            "\n",
            "Warnings:\n",
            "[1] Covariance matrix calculated using the outer product of gradients (complex-step).\n"
          ]
        }
      ],
      "source": [
        "model_sarima=ARIMA(train['Prices'].values,order=(1,1,1),seasonal_order=(1,0,1,12))\n",
        "model_sarima_fit=model_sarima.fit()\n",
        "print(model_sarima_fit.summary())"
      ]
    },
    {
      "cell_type": "markdown",
      "metadata": {
        "id": "VgCifvrlNMOL"
      },
      "source": [
        "# p=1,q=1,d=1 and P=1,D=1,Q=1,m=12"
      ]
    },
    {
      "cell_type": "code",
      "execution_count": null,
      "metadata": {
        "id": "bpVBDV26NMOL",
        "outputId": "ecd133fa-1888-4f22-d30b-a728750ead3d"
      },
      "outputs": [
        {
          "name": "stderr",
          "output_type": "stream",
          "text": [
            "C:\\Users\\ushak\\programming\\New folder\\lib\\site-packages\\statsmodels\\tsa\\statespace\\sarimax.py:966: UserWarning: Non-stationary starting autoregressive parameters found. Using zeros as starting parameters.\n",
            "  warn('Non-stationary starting autoregressive parameters'\n",
            "C:\\Users\\ushak\\programming\\New folder\\lib\\site-packages\\statsmodels\\tsa\\statespace\\sarimax.py:978: UserWarning: Non-invertible starting MA parameters found. Using zeros as starting parameters.\n",
            "  warn('Non-invertible starting MA parameters found.'\n"
          ]
        },
        {
          "name": "stdout",
          "output_type": "stream",
          "text": [
            "                                    SARIMAX Results                                     \n",
            "========================================================================================\n",
            "Dep. Variable:                                y   No. Observations:                 1445\n",
            "Model:             ARIMA(1, 1, 1)x(1, 1, 1, 12)   Log Likelihood              -10109.100\n",
            "Date:                          Thu, 27 Apr 2023   AIC                          20228.200\n",
            "Time:                                  20:03:26   BIC                          20254.534\n",
            "Sample:                                       0   HQIC                         20238.033\n",
            "                                         - 1445                                         \n",
            "Covariance Type:                            opg                                         \n",
            "==============================================================================\n",
            "                 coef    std err          z      P>|z|      [0.025      0.975]\n",
            "------------------------------------------------------------------------------\n",
            "ar.L1         -0.9998      0.738     -1.354      0.176      -2.447       0.448\n",
            "ma.L1          0.9997      0.581      1.721      0.085      -0.139       2.138\n",
            "ar.S.L12       0.0986      0.016      6.137      0.000       0.067       0.130\n",
            "ma.S.L12      -1.0000      0.156     -6.403      0.000      -1.306      -0.694\n",
            "sigma2      7.784e+04   1.67e-06   4.67e+10      0.000    7.78e+04    7.78e+04\n",
            "===================================================================================\n",
            "Ljung-Box (L1) (Q):                   3.53   Jarque-Bera (JB):              6137.50\n",
            "Prob(Q):                              0.06   Prob(JB):                         0.00\n",
            "Heteroskedasticity (H):               2.64   Skew:                            -0.41\n",
            "Prob(H) (two-sided):                  0.00   Kurtosis:                        13.11\n",
            "===================================================================================\n",
            "\n",
            "Warnings:\n",
            "[1] Covariance matrix calculated using the outer product of gradients (complex-step).\n",
            "[2] Covariance matrix is singular or near-singular, with condition number 1.61e+27. Standard errors may be unstable.\n"
          ]
        }
      ],
      "source": [
        "model_sarima=ARIMA(train['Prices'].values,order=(1,1,1),seasonal_order=(1,1,1,12))\n",
        "model_sarima_fit=model_sarima.fit()\n",
        "print(model_sarima_fit.summary())"
      ]
    },
    {
      "cell_type": "markdown",
      "metadata": {
        "id": "0Y9XhyTtNMOL"
      },
      "source": [
        "# p=2,q=1,d=2 and P=1,D=0,Q=1,m=12"
      ]
    },
    {
      "cell_type": "code",
      "execution_count": null,
      "metadata": {
        "id": "NOSKPBdeNMOL",
        "outputId": "02de51aa-ef07-497b-88cf-c452c3113d8f"
      },
      "outputs": [
        {
          "name": "stdout",
          "output_type": "stream",
          "text": [
            "                                     SARIMAX Results                                      \n",
            "==========================================================================================\n",
            "Dep. Variable:                                  y   No. Observations:                 1445\n",
            "Model:             ARIMA(2, 1, 2)x(1, 0, [1], 12)   Log Likelihood              -10139.102\n",
            "Date:                            Thu, 27 Apr 2023   AIC                          20292.204\n",
            "Time:                                    20:03:28   BIC                          20329.130\n",
            "Sample:                                         0   HQIC                         20305.987\n",
            "                                           - 1445                                         \n",
            "Covariance Type:                              opg                                         \n",
            "==============================================================================\n",
            "                 coef    std err          z      P>|z|      [0.025      0.975]\n",
            "------------------------------------------------------------------------------\n",
            "ar.L1         -0.1853      0.233     -0.794      0.427      -0.643       0.272\n",
            "ar.L2          0.7288      0.202      3.605      0.000       0.332       1.125\n",
            "ma.L1          0.1377      0.231      0.597      0.550      -0.314       0.590\n",
            "ma.L2         -0.7244      0.189     -3.835      0.000      -1.095      -0.354\n",
            "ar.S.L12      -0.4914      0.238     -2.064      0.039      -0.958      -0.025\n",
            "ma.S.L12       0.5556      0.226      2.457      0.014       0.112       0.999\n",
            "sigma2      7.361e+04   1293.408     56.909      0.000    7.11e+04    7.61e+04\n",
            "===================================================================================\n",
            "Ljung-Box (L1) (Q):                   0.12   Jarque-Bera (JB):              6676.04\n",
            "Prob(Q):                              0.73   Prob(JB):                         0.00\n",
            "Heteroskedasticity (H):               3.13   Skew:                            -0.38\n",
            "Prob(H) (two-sided):                  0.00   Kurtosis:                        13.51\n",
            "===================================================================================\n",
            "\n",
            "Warnings:\n",
            "[1] Covariance matrix calculated using the outer product of gradients (complex-step).\n"
          ]
        }
      ],
      "source": [
        "model_sarima=ARIMA(train['Prices'].values,order=(2,1,2),seasonal_order=(1,0,1,12))\n",
        "model_sarima_fit=model_sarima.fit()\n",
        "print(model_sarima_fit.summary())"
      ]
    },
    {
      "cell_type": "markdown",
      "metadata": {
        "id": "GXYcq82BNMOL"
      },
      "source": [
        "# (1,1,1)(1,1,1,12) model fitting sarima"
      ]
    },
    {
      "cell_type": "code",
      "execution_count": null,
      "metadata": {
        "id": "0naARM0PNMOL",
        "outputId": "182190df-4123-4624-c333-f51d14619553"
      },
      "outputs": [
        {
          "name": "stdout",
          "output_type": "stream",
          "text": [
            "[50300.010785   50340.60135726 50346.46429443 50388.2005\n",
            " 50360.1435488  50343.10205976 50334.25896773 50330.10898635\n",
            " 50324.37599743 50293.97878654 50277.21927525 50338.54638568\n",
            " 50330.32709478 50319.82713834 50301.15077335 50290.45179969\n",
            " 50290.91136892 50308.9068471  50301.75653512 50312.93723923\n",
            " 50305.68289532 50329.14951186 50328.46580762 50306.19447783\n",
            " 50302.27535712 50314.6438591  50316.68683015 50328.52011456\n",
            " 50321.87584422 50319.01313141 50316.74138031 50316.67751846\n",
            " 50315.01991252 50308.41284875 50304.03005999 50319.43914376\n",
            " 50317.09918119 50315.06429462 50310.20213731 50308.04839391\n",
            " 50307.82354962 50312.54562109 50310.50429578 50313.5367822\n",
            " 50311.49406366 50317.45761914 50317.02585203 50311.91191255\n",
            " 50310.72193929 50313.94743984 50314.21931241 50317.29197386\n",
            " 50315.48601376 50314.98834992 50314.25712594 50314.41671709\n",
            " 50313.85090718 50312.4133705  50311.20493984 50315.06961469\n",
            " 50314.36871681 50314.00666592 50312.70944738 50312.30636174\n",
            " 50312.14079077 50313.38721259 50312.79347333 50313.62175175\n",
            " 50313.03723025 50314.56430941 50314.37751662 50313.22091192\n",
            " 50312.85882904 50313.70890993 50313.70698235 50314.51340012\n",
            " 50314.01605106 50313.95405489 50313.72208493 50313.81330182\n",
            " 50313.62653991 50313.32701569 50312.98980589 50313.96634651\n",
            " 50313.75602256 50313.70762583 50313.35717579 50313.29516035\n",
            " 50313.2215536  50313.55457192 50313.38074627 50313.60973731\n",
            " 50313.44102722 50313.83604414 50313.76600854 50313.51037353\n",
            " 50313.40036842 50313.62713735 50313.60625894 50313.8204447\n",
            " 50313.68185039 50313.68445239 50313.61170691 50313.64964397\n",
            " 50313.58940494 50313.53145956 50313.43632131 50313.68520447\n",
            " 50313.62201228 50313.62211497 50313.52625651 50313.52195025\n",
            " 50313.49402034 50313.58410935 50313.53293864 50313.59698576\n",
            " 50313.54792311 50313.65123877 50313.6267977  50313.57221643\n",
            " 50313.53883661 50313.60008579 50313.58887871 50313.64647345\n",
            " 50313.60742098 50313.61335702 50313.59073821 50313.60470436\n",
            " 50313.5855856  50313.57593802 50313.54882436 50313.61286927\n",
            " 50313.59386398 50313.59744971 50313.57091031 50313.57309303\n",
            " 50313.56328146 50313.58795652 50313.57282296 50313.59093139\n",
            " 50313.57657048 50313.60391238 50313.59573657 50313.58471628\n",
            " 50313.5745974  50313.59134719 50313.58677882 50313.60246015\n",
            " 50313.59134334 50313.59437987 50313.58739212 50313.59221587\n",
            " 50313.58621825 50313.58520105 50313.57740356 50313.59405992\n",
            " 50313.58833937 50313.59028077 50313.58284792 50313.58434835\n",
            " 50313.58105276 50313.58789312 50313.5834001  50313.58857083\n",
            " 50313.584344   50313.5916691  50313.58900811 50313.58699945\n",
            " 50313.58393434 50313.58857072 50313.58690516 50313.59122736\n",
            " 50313.58803362 50313.58925105 50313.58710287 50313.58870599\n",
            " 50313.58684068 50313.58699149 50313.58473105 50313.58911273\n",
            " 50313.58738973 50313.58818337 50313.58607924 50313.58673554\n",
            " 50313.58565998 50313.58757806 50313.58623985 50313.58772943\n",
            " 50313.58647954 50313.58846658 50313.58761662 50313.58732868\n",
            " 50313.5864008  50313.58769904 50313.587127   50313.58833241\n",
            " 50313.5874074  50313.58784761 50313.58718972 50313.5877092\n",
            " 50313.58713283 50313.58728899 50313.58662914 50313.58779577\n",
            " 50313.58727654 50313.58756629 50313.5869648  50313.58721207\n",
            " 50313.58686786 50313.58741145 50313.58701182 50313.58744429\n",
            " 50313.58707325 50313.58761896 50313.58735108 50313.58734109\n",
            " 50313.58706033 50313.58742778 50313.58723835 50313.58757826\n",
            " 50313.58730845 50313.58745891 50313.58725802 50313.58742344\n",
            " 50313.58724622 50313.5873201  50313.58712633 50313.58744082\n",
            " 50313.58728429 50313.58738388 50313.58721044 50313.58729696\n",
            " 50313.58718833 50313.58734387 50313.58722428 50313.58735068\n",
            " 50313.58724018 50313.58739185 50313.58730825 50313.58732382\n",
            " 50313.5872389  50313.58734393 50313.58728269 50313.58737952\n",
            " 50313.58730034 50313.58735001 50313.58728881 50313.58734082\n",
            " 50313.58728655 50313.58731531 50313.58725812 50313.58734396\n",
            " 50313.58729675 50313.58732975 50313.58727935 50313.58730834\n",
            " 50313.5872744  50313.5873193  50313.58728344 50313.5873206\n",
            " 50313.58728761 50313.58733024 50313.58730434 50313.58731353\n",
            " 50313.58728785 50313.58731813 50313.58729867 50313.5873265\n",
            " 50313.58730315 50313.58731917 50313.58730056 50313.58731676\n",
            " 50313.58730019 50313.58731043 50313.58729348 50313.5873172\n",
            " 50313.58730296 50313.58731363 50313.58729889 50313.58730834\n",
            " 50313.58729781 50313.58731087 50313.5873001  50313.58731108\n",
            " 50313.58730121 50313.58731332 50313.58730534 50313.5873092\n",
            " 50313.58730143 50313.58731023 50313.58730412 50313.58731218\n",
            " 50313.58730527 50313.58731035 50313.5873047  50313.58730971\n",
            " 50313.58730466 50313.58730813 50313.58730309 50313.58730972\n",
            " 50313.58730543 50313.58730882 50313.58730448 50313.5873075\n",
            " 50313.58730426 50313.58730808 50313.58730484 50313.5873081\n",
            " 50313.58730514 50313.58730861 50313.58730616 50313.58730759\n",
            " 50313.58730525 50313.58730782 50313.58730592 50313.58730827\n",
            " 50313.58730621 50313.58730781 50313.58730609 50313.58730764\n",
            " 50313.5873061  50313.58730724 50313.58730574 50313.58730761\n",
            " 50313.58730631 50313.58730738 50313.5873061  50313.58730705\n",
            " 50313.58730605 50313.58730718 50313.58730621 50313.58730717\n",
            " 50313.58730629 50313.58730729 50313.58730654 50313.58730704\n",
            " 50313.58730633 50313.58730708 50313.58730649 50313.58730719\n",
            " 50313.58730657 50313.58730707 50313.58730655 50313.58730702\n",
            " 50313.58730656 50313.58730692 50313.58730647 50313.58730701\n",
            " 50313.58730662 50313.58730695 50313.58730657 50313.58730686\n",
            " 50313.58730656 50313.58730689 50313.5873066  50313.58730689\n",
            " 50313.58730662 50313.58730691 50313.58730669 50313.58730685\n",
            " 50313.58730664 50313.58730686 50313.58730668 50313.58730688\n",
            " 50313.5873067  50313.58730685 50313.5873067  50313.58730684\n",
            " 50313.5873067  50313.58730681 50313.58730668 50313.58730683\n",
            " 50313.58730672 50313.58730682 50313.5873067  50313.5873068\n",
            " 50313.5873067  50313.5873068  50313.58730671 50313.5873068\n",
            " 50313.58730672 50313.58730681 50313.58730674 50313.58730679\n",
            " 50313.58730673 50313.58730679 50313.58730674 50313.5873068\n",
            " 50313.58730674 50313.58730679 50313.58730674 50313.58730679\n",
            " 50313.58730674 50313.58730678 50313.58730674 50313.58730678\n",
            " 50313.58730675 50313.58730678 50313.58730674 50313.58730677\n",
            " 50313.58730675 50313.58730677 50313.58730675 50313.58730677\n",
            " 50313.58730675 50313.58730677 50313.58730675 50313.58730677\n",
            " 50313.58730675 50313.58730677 50313.58730675 50313.58730677\n",
            " 50313.58730676 50313.58730677 50313.58730676 50313.58730677\n",
            " 50313.58730676 50313.58730677 50313.58730676 50313.58730677\n",
            " 50313.58730676 50313.58730677 50313.58730676 50313.58730677\n",
            " 50313.58730676 50313.58730677 50313.58730676 50313.58730677\n",
            " 50313.58730676 50313.58730677 50313.58730676 50313.58730676\n",
            " 50313.58730676 50313.58730676 50313.58730676 50313.58730676\n",
            " 50313.58730676 50313.58730676 50313.58730676 50313.58730676\n",
            " 50313.58730676 50313.58730676 50313.58730676 50313.58730676\n",
            " 50313.58730676 50313.58730676 50313.58730676 50313.58730676\n",
            " 50313.58730676 50313.58730676 50313.58730676 50313.58730676\n",
            " 50313.58730676 50313.58730676 50313.58730676 50313.58730676\n",
            " 50313.58730676 50313.58730676 50313.58730676 50313.58730676\n",
            " 50313.58730676 50313.58730676 50313.58730676 50313.58730676\n",
            " 50313.58730676 50313.58730676 50313.58730676 50313.58730676\n",
            " 50313.58730676 50313.58730676 50313.58730676 50313.58730676\n",
            " 50313.58730676 50313.58730676 50313.58730676 50313.58730676\n",
            " 50313.58730676 50313.58730676 50313.58730676 50313.58730676\n",
            " 50313.58730676 50313.58730676 50313.58730676]\n"
          ]
        }
      ],
      "source": [
        "model_sarima_forecast = model_sarima_fit.forecast(steps = len(test))\n",
        "print(model_sarima_forecast)"
      ]
    },
    {
      "cell_type": "code",
      "execution_count": null,
      "metadata": {
        "id": "WskobMDxNMOL",
        "outputId": "7a88a7b5-5313-4d65-e34c-fd1f3ef7a903"
      },
      "outputs": [
        {
          "data": {
            "image/png": "[encoded data removed]",
            "text/plain": [
              "<Figure size 1152x576 with 1 Axes>"
            ]
          },
          "metadata": {
            "needs_background": "light"
          },
          "output_type": "display_data"
        }
      ],
      "source": [
        "model_forecast= test.copy()\n",
        "model_forecast['SARIMA'] = model_sarima_forecast\n",
        "plt.figure(figsize=(16,8))\n",
        "plt.plot( train['Prices'], label='Train')\n",
        "plt.plot(test['Prices'], label='Test')\n",
        "plt.plot(model_forecast['SARIMA'], label='SARIMA')\n",
        "plt.legend()\n",
        "plt.show()"
      ]
    },
    {
      "cell_type": "code",
      "execution_count": null,
      "metadata": {
        "id": "m84xTGG-NMOM",
        "outputId": "6ba35748-4c22-44f7-ac45-4e08c84d0ded"
      },
      "outputs": [
        {
          "name": "stdout",
          "output_type": "stream",
          "text": [
            "*** Error metrics Train data ***\n",
            "MAE Train: 15806.95631533715\n",
            "MSE Train: 306718622.0695234\n",
            "RMSE Train: 17513.38408388063\n",
            "MAPE Train: 0.5195499989623429\n",
            "***\n",
            " Error metrics Test Data ***\n",
            "MAE Test: 1897.724151277003\n",
            "MSE Test: 4957427.087335462\n",
            "RMSE Test: 2226.5280342577007\n",
            "MAPE Test: 0.03955279279670232\n"
          ]
        }
      ],
      "source": [
        "error_metrics(train['Prices'], model_sarima_fit.forecast(steps=len(train)),test['Prices'], \n",
        "              model_sarima_fit.forecast(steps=len(test)))"
      ]
    },
    {
      "cell_type": "code",
      "execution_count": null,
      "metadata": {
        "id": "GvxkbSF9NMOM",
        "outputId": "31366dd3-2365-4f8d-cc80-708a91a33894"
      },
      "outputs": [
        {
          "data": {
            "image/png": "[encoded data removed]",
            "text/plain": [
              "<Figure size 432x288 with 2 Axes>"
            ]
          },
          "metadata": {
            "needs_background": "light"
          },
          "output_type": "display_data"
        }
      ],
      "source": [
        "# Plot residual errors\n",
        "residuals = pd.DataFrame(model_sarima_fit.resid)\n",
        "fig, ax = plt.subplots(1,2)\n",
        "residuals.plot(title=\"Residuals\", ax=ax[0])\n",
        "residuals.plot(kind='kde', title='Density', ax=ax[1])\n",
        "plt.show()\n"
      ]
    },
    {
      "cell_type": "code",
      "execution_count": null,
      "metadata": {
        "id": "G5uLNRv8NMOM",
        "outputId": "c4a6c7cc-3eac-4d54-fffc-b5521f8ffc9c"
      },
      "outputs": [
        {
          "data": {
            "text/html": [
              "<div>\n",
              "<style scoped>\n",
              "    .dataframe tbody tr th:only-of-type {\n",
              "        vertical-align: middle;\n",
              "    }\n",
              "\n",
              "    .dataframe tbody tr th {\n",
              "        vertical-align: top;\n",
              "    }\n",
              "\n",
              "    .dataframe thead th {\n",
              "        text-align: right;\n",
              "    }\n",
              "</style>\n",
              "<table border=\"1\" class=\"dataframe\">\n",
              "  <thead>\n",
              "    <tr style=\"text-align: right;\">\n",
              "      <th></th>\n",
              "      <th>Prices</th>\n",
              "      <th>month</th>\n",
              "      <th>year</th>\n",
              "      <th>time_seq</th>\n",
              "      <th>SARIMA</th>\n",
              "    </tr>\n",
              "    <tr>\n",
              "      <th>date</th>\n",
              "      <th></th>\n",
              "      <th></th>\n",
              "      <th></th>\n",
              "      <th></th>\n",
              "      <th></th>\n",
              "    </tr>\n",
              "  </thead>\n",
              "  <tbody>\n",
              "    <tr>\n",
              "      <th>2020-12-17</th>\n",
              "      <td>50650.000000</td>\n",
              "      <td>12</td>\n",
              "      <td>2020</td>\n",
              "      <td>1446</td>\n",
              "      <td>50300.010785</td>\n",
              "    </tr>\n",
              "    <tr>\n",
              "      <th>2020-12-18</th>\n",
              "      <td>50792.500000</td>\n",
              "      <td>12</td>\n",
              "      <td>2020</td>\n",
              "      <td>1447</td>\n",
              "      <td>50340.601357</td>\n",
              "    </tr>\n",
              "    <tr>\n",
              "      <th>2020-12-19</th>\n",
              "      <td>50893.333333</td>\n",
              "      <td>12</td>\n",
              "      <td>2020</td>\n",
              "      <td>1448</td>\n",
              "      <td>50346.464294</td>\n",
              "    </tr>\n",
              "    <tr>\n",
              "      <th>2020-12-20</th>\n",
              "      <td>50994.166667</td>\n",
              "      <td>12</td>\n",
              "      <td>2020</td>\n",
              "      <td>1449</td>\n",
              "      <td>50388.200500</td>\n",
              "    </tr>\n",
              "    <tr>\n",
              "      <th>2020-12-21</th>\n",
              "      <td>51095.000000</td>\n",
              "      <td>12</td>\n",
              "      <td>2020</td>\n",
              "      <td>1450</td>\n",
              "      <td>50360.143549</td>\n",
              "    </tr>\n",
              "    <tr>\n",
              "      <th>...</th>\n",
              "      <td>...</td>\n",
              "      <td>...</td>\n",
              "      <td>...</td>\n",
              "      <td>...</td>\n",
              "      <td>...</td>\n",
              "    </tr>\n",
              "    <tr>\n",
              "      <th>2022-04-09</th>\n",
              "      <td>52308.333333</td>\n",
              "      <td>4</td>\n",
              "      <td>2022</td>\n",
              "      <td>1924</td>\n",
              "      <td>50313.587307</td>\n",
              "    </tr>\n",
              "    <tr>\n",
              "      <th>2022-04-10</th>\n",
              "      <td>52404.166667</td>\n",
              "      <td>4</td>\n",
              "      <td>2022</td>\n",
              "      <td>1925</td>\n",
              "      <td>50313.587307</td>\n",
              "    </tr>\n",
              "    <tr>\n",
              "      <th>2022-04-11</th>\n",
              "      <td>52500.000000</td>\n",
              "      <td>4</td>\n",
              "      <td>2022</td>\n",
              "      <td>1926</td>\n",
              "      <td>50313.587307</td>\n",
              "    </tr>\n",
              "    <tr>\n",
              "      <th>2022-04-12</th>\n",
              "      <td>52562.500000</td>\n",
              "      <td>4</td>\n",
              "      <td>2022</td>\n",
              "      <td>1927</td>\n",
              "      <td>50313.587307</td>\n",
              "    </tr>\n",
              "    <tr>\n",
              "      <th>2022-04-13</th>\n",
              "      <td>52700.000000</td>\n",
              "      <td>4</td>\n",
              "      <td>2022</td>\n",
              "      <td>1928</td>\n",
              "      <td>50313.587307</td>\n",
              "    </tr>\n",
              "  </tbody>\n",
              "</table>\n",
              "<p>483 rows × 5 columns</p>\n",
              "</div>"
            ],
            "text/plain": [
              "                  Prices  month  year  time_seq        SARIMA\n",
              "date                                                         \n",
              "2020-12-17  50650.000000     12  2020      1446  50300.010785\n",
              "2020-12-18  50792.500000     12  2020      1447  50340.601357\n",
              "2020-12-19  50893.333333     12  2020      1448  50346.464294\n",
              "2020-12-20  50994.166667     12  2020      1449  50388.200500\n",
              "2020-12-21  51095.000000     12  2020      1450  50360.143549\n",
              "...                  ...    ...   ...       ...           ...\n",
              "2022-04-09  52308.333333      4  2022      1924  50313.587307\n",
              "2022-04-10  52404.166667      4  2022      1925  50313.587307\n",
              "2022-04-11  52500.000000      4  2022      1926  50313.587307\n",
              "2022-04-12  52562.500000      4  2022      1927  50313.587307\n",
              "2022-04-13  52700.000000      4  2022      1928  50313.587307\n",
              "\n",
              "[483 rows x 5 columns]"
            ]
          },
          "execution_count": 78,
          "metadata": {},
          "output_type": "execute_result"
        }
      ],
      "source": [
        "model_forecast"
      ]
    },
    {
      "cell_type": "code",
      "execution_count": null,
      "metadata": {
        "id": "nwBjASkINMOM",
        "outputId": "cbc2409d-7538-473a-a197-8812f0115c99"
      },
      "outputs": [
        {
          "name": "stdout",
          "output_type": "stream",
          "text": [
            "Performing stepwise search to minimize aic\n",
            " ARIMA(1,1,1)(0,1,1)[12]             : AIC=inf, Time=8.00 sec\n",
            " ARIMA(0,1,0)(0,1,0)[12]             : AIC=21014.117, Time=0.04 sec\n",
            " ARIMA(1,1,0)(1,1,0)[12]             : AIC=20734.804, Time=1.07 sec\n",
            " ARIMA(0,1,1)(0,1,1)[12]             : AIC=inf, Time=2.76 sec\n",
            " ARIMA(1,1,0)(0,1,0)[12]             : AIC=21014.826, Time=0.12 sec\n",
            " ARIMA(1,1,0)(2,1,0)[12]             : AIC=20568.589, Time=2.46 sec\n",
            " ARIMA(1,1,0)(2,1,1)[12]             : AIC=inf, Time=10.98 sec\n",
            " ARIMA(1,1,0)(1,1,1)[12]             : AIC=inf, Time=4.15 sec\n",
            " ARIMA(0,1,0)(2,1,0)[12]             : AIC=20570.241, Time=0.96 sec\n",
            " ARIMA(2,1,0)(2,1,0)[12]             : AIC=20568.614, Time=2.98 sec\n",
            " ARIMA(1,1,1)(2,1,0)[12]             : AIC=inf, Time=7.75 sec\n",
            " ARIMA(0,1,1)(2,1,0)[12]             : AIC=20568.823, Time=2.35 sec\n",
            " ARIMA(2,1,1)(2,1,0)[12]             : AIC=inf, Time=9.75 sec\n",
            " ARIMA(1,1,0)(2,1,0)[12] intercept   : AIC=20570.563, Time=9.81 sec\n",
            "\n",
            "Best model:  ARIMA(1,1,0)(2,1,0)[12]          \n",
            "Total fit time: 63.174 seconds\n",
            "20568.58930376109\n"
          ]
        }
      ],
      "source": [
        "from pmdarima.arima import auto_arima\n",
        "stepwise_model = auto_arima(train.Prices,start_p=1,start_q=1,\n",
        "                           max_p=3, max_q=3, m=12,\n",
        "                           start_P=0,seasonal=True,\n",
        "                           d=1, D=1,trace=True,\n",
        "                           error_action='ignore',  \n",
        "                           suppress_warnings=True, \n",
        "                           stepwise=True)\n",
        "print(stepwise_model.aic())"
      ]
    },
    {
      "cell_type": "code",
      "execution_count": null,
      "metadata": {
        "id": "M55kc2nbNMOM",
        "outputId": "ff74b369-03a6-4ffd-bb03-9f4da12923bb"
      },
      "outputs": [
        {
          "name": "stdout",
          "output_type": "stream",
          "text": [
            "                                    SARIMAX Results                                     \n",
            "========================================================================================\n",
            "Dep. Variable:                                y   No. Observations:                 1445\n",
            "Model:             ARIMA(1, 1, 0)x(2, 1, 0, 12)   Log Likelihood              -10280.295\n",
            "Date:                          Thu, 27 Apr 2023   AIC                          20568.589\n",
            "Time:                                  20:04:34   BIC                          20589.657\n",
            "Sample:                                       0   HQIC                         20576.456\n",
            "                                         - 1445                                         \n",
            "Covariance Type:                            opg                                         \n",
            "==============================================================================\n",
            "                 coef    std err          z      P>|z|      [0.025      0.975]\n",
            "------------------------------------------------------------------------------\n",
            "ar.L1         -0.0488      0.014     -3.425      0.001      -0.077      -0.021\n",
            "ar.S.L12      -0.5607      0.013    -42.504      0.000      -0.587      -0.535\n",
            "ar.S.L24      -0.3269      0.015    -22.192      0.000      -0.356      -0.298\n",
            "sigma2      9.827e+04   1803.091     54.503      0.000    9.47e+04    1.02e+05\n",
            "===================================================================================\n",
            "Ljung-Box (L1) (Q):                   0.30   Jarque-Bera (JB):              2458.04\n",
            "Prob(Q):                              0.58   Prob(JB):                         0.00\n",
            "Heteroskedasticity (H):               3.17   Skew:                            -0.10\n",
            "Prob(H) (two-sided):                  0.00   Kurtosis:                         9.42\n",
            "===================================================================================\n",
            "\n",
            "Warnings:\n",
            "[1] Covariance matrix calculated using the outer product of gradients (complex-step).\n"
          ]
        }
      ],
      "source": [
        "model_sarima=ARIMA(train['Prices'].values,order=(1,1,0),seasonal_order=(2,1,0,12))\n",
        "model_sarima_fit=model_sarima.fit()\n",
        "print(model_sarima_fit.summary())"
      ]
    },
    {
      "cell_type": "code",
      "execution_count": null,
      "metadata": {
        "id": "QvjfTj1kNMOM",
        "outputId": "58828d5e-3e73-4600-8b91-09261cffc54d"
      },
      "outputs": [
        {
          "name": "stdout",
          "output_type": "stream",
          "text": [
            "[50268.20496683 50008.64837928 50112.15645611 50328.08083685\n",
            " 50201.15388923 49935.25419574 49841.76846504 49657.1974282\n",
            " 49502.86332861 49633.79282366 49795.43930757 50045.5562951\n",
            " 50023.13942788 49580.4023878  49481.83971041 49690.83161406\n",
            " 49563.67184081 49275.29835984 49154.44472313 48994.3594035\n",
            " 48847.55630209 49120.87144436 49384.18083562 49617.06871478\n",
            " 49588.53221379 49327.36217232 49302.27814183 49629.26515048\n",
            " 49475.89774188 49138.31175236 49042.93288211 48910.11062661\n",
            " 48790.1935615  48921.52924497 49097.05817511 49445.80655628\n",
            " 49410.28098963 49107.18020829 49106.94865224 49370.03854543\n",
            " 49231.44261797 48928.79785742 48828.08073414 48671.9672622\n",
            " 48534.51264802 48698.91644387 48890.4342377  49179.84825924\n",
            " 49150.24208384 48811.30139735 48773.11521829 49033.46313377\n",
            " 48895.15131671 48589.00087631 48482.94972517 48330.98439839\n",
            " 48194.57492788 48386.84755368 48598.09411948 48882.90546651\n",
            " 48852.26474483 48547.12708617 48522.09923298 48804.87171435\n",
            " 48661.57200088 48345.96550396 48244.65029457 48097.9725518\n",
            " 47966.70981512 48132.54609101 48327.50363518 48634.2913941\n",
            " 48602.29580723 48289.91937651 48269.92009977 48541.01479667\n",
            " 48400.4190683  48091.26081082 47989.03364089 47838.03502814\n",
            " 47703.54472737 47875.09469882 48072.73690962 48368.70641227\n",
            " 48337.80871572 48018.44154229 47991.32132834 48261.63382199\n",
            " 48121.15236407 47811.46944424 47708.20552463 47557.90131158\n",
            " 47423.53840444 47600.52621032 47801.98770145 48096.83953389\n",
            " 48065.76910491 47752.68809353 47727.91702329 48002.48542278\n",
            " 47861.05599579 47549.55943124 47447.17495391 47297.89380208\n",
            " 47164.51450657 47336.58543653 47535.02776808 47834.04264475\n",
            " 47802.71018704 47488.38951866 47464.6289494  47737.06663141\n",
            " 47596.13140451 47285.82330731 47183.2846002  47033.20279916\n",
            " 46899.23032119 47072.28073377 47271.16752626 47568.21341501\n",
            " 47537.08434812 47221.40393385 47196.30884593 47468.5500872\n",
            " 47327.64762576 47017.26597551 46914.52627226 46764.55899403\n",
            " 46630.59760182 46804.70604733 47004.33053822 47301.11965496\n",
            " 47269.96219447 46955.44945505 46930.77235164 47203.82024418\n",
            " 47062.7378632  46752.00896315 46649.43237974 46499.66260614\n",
            " 46365.88890076 46539.08389785 46738.14945209 47035.72618248\n",
            " 47004.51815753 46689.79515092 46665.3199068  46937.9797005\n",
            " 46796.98749501 46486.47735134 46383.87500474 46233.95704874\n",
            " 46100.07447819 46273.43581609 46472.57363902 46769.79266695\n",
            " 46738.6222764  46423.63547631 46398.91041069 46671.5241397\n",
            " 46530.54018336 46220.02088774 46117.37966574 45967.48023841\n",
            " 45833.59735952 46007.16401868 46206.44402694 46503.60616918\n",
            " 46472.43120475 46157.6610546  46133.01008613 46405.77650894\n",
            " 46264.75844998 45954.17277776 45851.56177594 45701.70039777\n",
            " 45567.85327826 45741.25043344 45940.42709069 46237.73805823\n",
            " 46206.55335635 45891.74795471 45867.13710094 46139.83296184\n",
            " 45998.83132867 45688.28586736 45585.67062803 45435.78185785\n",
            " 45301.91478782 45475.33987214 45674.52800291 45971.77411495\n",
            " 45940.59636828 45625.73991337 45601.08234483 45873.76785838\n",
            " 45732.76816246 45422.22185131 45319.59910952 45169.7132611\n",
            " 45035.84568866 45209.31052076 45408.52600198 45705.75983148\n",
            " 45674.58136786 45359.76506319 45335.12057604 45607.83495733\n",
            " 45466.82880578 45156.26982679 45053.65267702 44903.77414435\n",
            " 44769.91337516 44943.3467899  45142.54318441 45439.80510143\n",
            " 45408.62476626 45093.80263679 45069.16608492 45341.86766165\n",
            " 45200.8644967  44890.31289873 44787.6950658  44637.81147589\n",
            " 44503.94705616 44677.38509453 44876.58325103 45173.83343356\n",
            " 45142.65438218 44827.8223943  44803.17711677 45075.87643693\n",
            " 44934.87370756 44624.32211178 44521.70283397 44371.81968838\n",
            " 44237.95509172 44411.40080738 44610.60421506 44907.85179604\n",
            " 44876.67263659 44561.84808064 44537.20510191 44809.90987302\n",
            " 44668.90592314 44358.35191337 44255.73366907 44105.85192747\n",
            " 43971.98862334 44145.42852272 44344.62840994 44641.88128552\n",
            " 44610.70176702 44295.87626635 44271.23485091 44543.93730315\n",
            " 44402.93389526 44092.38123837 43989.76288686 43839.88021277\n",
            " 43706.01624171 43879.45689285 44078.65703755 44375.90779471\n",
            " 44344.72851287 44029.90111254 44005.25806907 44277.96003973\n",
            " 44136.9567269  43826.40410051 43723.78547127 43573.90286111\n",
            " 43440.03884151 43613.48097238 43812.68212349 44109.93233778\n",
            " 44078.7530406  43763.92701428 43739.28437268 44011.98737138\n",
            " 43870.98382808 43560.43074235 43457.81230389 43307.9299627\n",
            " 43174.06618833 43347.50724373 43546.70774635 43843.95895752\n",
            " 43812.77959158 43497.95341579 43473.31108103 43746.0136607\n",
            " 43605.01021555 43294.45737742 43191.83892277 43041.95640986\n",
            " 42908.09251385 43081.53368859 43280.73422586 43577.98505551\n",
            " 43546.80573314 43231.97919202 43207.33655384 43480.03903242\n",
            " 43339.03560757 43028.48278076 42925.86427282 42775.98176828\n",
            " 42642.11786031 42815.55931969 43014.76004952 43312.01076723\n",
            " 43280.8314429  42966.00515549 42941.36258715 43214.06525939\n",
            " 43073.06179107 42762.50887698 42659.89040421 42510.00795111\n",
            " 42376.14408961 42549.58535037 42748.7859609  43046.03686609\n",
            " 43014.85752862 42700.03121837 42675.38871005 42948.09130675\n",
            " 42807.08785617 42496.53498731 42393.91651224 42244.03402756\n",
            " 42110.17014392 42283.611423   42482.81203748 42780.06287414\n",
            " 42748.88354468 42434.0571643  42409.41459949 42682.11717525\n",
            " 42541.11372893 42230.56086324 42127.94237796 41978.05989418\n",
            " 41844.19600776 42017.6373415  42216.83799275 42514.08880656\n",
            " 42482.9094769  42168.08314331 42143.44059056 42416.14320275\n",
            " 42275.13974824 41964.58686599 41861.96838719 41712.08591323\n",
            " 41578.2220356  41751.6633327  41950.86396205 42248.11481107\n",
            " 42216.9354789  41902.109142   41877.46660095 42150.16919956\n",
            " 42009.16574825 41698.61287425 41595.99439516 41446.11191539\n",
            " 41312.24803374 41485.68933353 41684.88996313 41982.14079988\n",
            " 41950.96146918 41636.13511884 41611.49256729 41884.19516161\n",
            " 41743.19171118 41432.63883797 41330.02035692 41180.1378772\n",
            " 41046.27399493 41219.71530519 41418.91594181 41716.16677393\n",
            " 41684.98744323 41370.1611015  41345.51855201 41618.22115318\n",
            " 41477.21770121 41166.66482486 41064.046345   40914.16386715\n",
            " 40780.29998655 40953.74129006 41152.94192266 41450.19276139\n",
            " 41419.01343021 41104.18708804 41079.54454083 41352.24713956\n",
            " 41211.24368817 40900.69081332 40798.07233343 40648.18985452\n",
            " 40514.32597318 40687.76727705 40886.96790961 41184.21874615\n",
            " 41153.03941524 40838.21307051 40813.57052134 41086.2731192\n",
            " 40945.26966799 40634.71679332 40532.09831306 40382.21583413\n",
            " 40248.35195266 40421.79325854 40620.99389244 40918.24472804\n",
            " 40887.06539714 40572.23905399 40547.59650517 40820.29910431\n",
            " 40679.29565281 40368.74277755 40266.12429752 40116.24181894\n",
            " 39982.37793779 40155.81924242 40355.01987558 40652.27071242\n",
            " 40621.09138143 40306.26503823 40281.62248986 40554.32508856\n",
            " 40413.32163717 40102.76876218 40000.15028214 39850.26780337\n",
            " 39716.40392208 39889.84522675 40089.04585989 40386.29669635\n",
            " 40355.1173654  40040.29102171 40015.64847298 40288.35107151\n",
            " 40147.34762015 39836.7947452  39734.17626509 39584.29378631\n",
            " 39450.429905   39623.87121005 39823.07184345 40120.32267971\n",
            " 40089.14334877 39774.31700537 39749.6744567  40022.37705547\n",
            " 39881.37360405 39570.82072899 39468.20224892 39318.31977022\n",
            " 39184.45588896 39357.89719378 39557.09782704 39854.34866354\n",
            " 39823.16933258 39508.34298918 39483.70044059 39756.40303928\n",
            " 39615.39958789 39304.84671288 39202.22823281 39052.34575406\n",
            " 38918.48187278 39091.92317761 39291.12381087 39588.37464729\n",
            " 39557.19531634 39242.36897285 39217.72642419]\n"
          ]
        }
      ],
      "source": [
        "model_sarima_forecast = model_sarima_fit.forecast(steps = len(test))\n",
        "print(model_sarima_forecast)"
      ]
    },
    {
      "cell_type": "code",
      "execution_count": null,
      "metadata": {
        "id": "_JqRBtT3NMOM",
        "outputId": "a9f6fb2b-644f-4c8e-d33e-c4873779311e"
      },
      "outputs": [
        {
          "data": {
            "image/png": "[encoded data removed]",
            "text/plain": [
              "<Figure size 1152x576 with 1 Axes>"
            ]
          },
          "metadata": {
            "needs_background": "light"
          },
          "output_type": "display_data"
        }
      ],
      "source": [
        "model_forecast= test.copy()\n",
        "model_forecast['SARIMA'] = model_sarima_forecast\n",
        "plt.figure(figsize=(16,8))\n",
        "plt.plot( train['Prices'], label='Train')\n",
        "plt.plot(test['Prices'], label='Test')\n",
        "plt.plot(model_forecast['SARIMA'], label='SARIMA')\n",
        "plt.legend()\n",
        "plt.show()"
      ]
    },
    {
      "cell_type": "code",
      "execution_count": null,
      "metadata": {
        "id": "Yrc8GKIkNMOM"
      },
      "outputs": [],
      "source": [
        "from sklearn import metrics"
      ]
    },
    {
      "cell_type": "code",
      "execution_count": null,
      "metadata": {
        "id": "3eZSskyzNMOM"
      },
      "outputs": [],
      "source": [
        "def error_metrics(train_act,train_pred,test_act,test_pred):\n",
        "        print('*** Error metrics Train data ***')\n",
        "        print('MAE Train:', metrics.mean_absolute_error(train_act, train_pred))\n",
        "        print('MSE Train:', metrics.mean_squared_error(train_act, train_pred))\n",
        "        print('RMSE Train:', np.sqrt(metrics.mean_squared_error(train_act, train_pred)))\n",
        "        print('MAPE Train:', metrics.mean_absolute_percentage_error(train_act, train_pred))\n",
        "\n",
        "        print('***\\n Error metrics Test Data ***')\n",
        "\n",
        "        print('MAE Test:', metrics.mean_absolute_error(test_act,test_pred))\n",
        "        print('MSE Test:', metrics.mean_squared_error(test_act,test_pred))\n",
        "        print('RMSE Test:', np.sqrt(metrics.mean_squared_error(test_act,test_pred)))\n",
        "        print('MAPE Test:', metrics.mean_absolute_percentage_error(test_act,test_pred))"
      ]
    },
    {
      "cell_type": "code",
      "execution_count": null,
      "metadata": {
        "id": "gP0IRExTNMOM",
        "outputId": "04d998d9-4dc2-4e56-b0e6-142bced2cd4b"
      },
      "outputs": [
        {
          "name": "stdout",
          "output_type": "stream",
          "text": [
            "*** Error metrics Train data ***\n",
            "MAE Train: 14258.30025154943\n",
            "MSE Train: 284354468.9267415\n",
            "RMSE Train: 16862.813197291296\n",
            "MAPE Train: 0.40088439905827794\n",
            "***\n",
            " Error metrics Test Data ***\n",
            "MAE Test: 4719.108048691688\n",
            "MSE Test: 34492905.49410287\n",
            "RMSE Test: 5873.066106736997\n",
            "MAPE Test: 0.09539357277172272\n"
          ]
        }
      ],
      "source": [
        "error_metrics(train['Prices'], model_sarima_fit.forecast(steps = len(train)),test['Prices'], \n",
        "              model_sarima_fit.forecast(steps=len(test)))\n"
      ]
    },
    {
      "cell_type": "code",
      "execution_count": null,
      "metadata": {
        "id": "y8DnKbPBNMON",
        "outputId": "2f216447-cd56-47e9-c90c-b990c1d2416a"
      },
      "outputs": [
        {
          "data": {
            "text/html": [
              "<div>\n",
              "<style scoped>\n",
              "    .dataframe tbody tr th:only-of-type {\n",
              "        vertical-align: middle;\n",
              "    }\n",
              "\n",
              "    .dataframe tbody tr th {\n",
              "        vertical-align: top;\n",
              "    }\n",
              "\n",
              "    .dataframe thead th {\n",
              "        text-align: right;\n",
              "    }\n",
              "</style>\n",
              "<table border=\"1\" class=\"dataframe\">\n",
              "  <thead>\n",
              "    <tr style=\"text-align: right;\">\n",
              "      <th></th>\n",
              "      <th>Prices</th>\n",
              "      <th>month</th>\n",
              "      <th>year</th>\n",
              "      <th>time_seq</th>\n",
              "      <th>SARIMA</th>\n",
              "    </tr>\n",
              "    <tr>\n",
              "      <th>date</th>\n",
              "      <th></th>\n",
              "      <th></th>\n",
              "      <th></th>\n",
              "      <th></th>\n",
              "      <th></th>\n",
              "    </tr>\n",
              "  </thead>\n",
              "  <tbody>\n",
              "    <tr>\n",
              "      <th>2020-12-17</th>\n",
              "      <td>50650.000000</td>\n",
              "      <td>12</td>\n",
              "      <td>2020</td>\n",
              "      <td>1446</td>\n",
              "      <td>50268.204967</td>\n",
              "    </tr>\n",
              "    <tr>\n",
              "      <th>2020-12-18</th>\n",
              "      <td>50792.500000</td>\n",
              "      <td>12</td>\n",
              "      <td>2020</td>\n",
              "      <td>1447</td>\n",
              "      <td>50008.648379</td>\n",
              "    </tr>\n",
              "    <tr>\n",
              "      <th>2020-12-19</th>\n",
              "      <td>50893.333333</td>\n",
              "      <td>12</td>\n",
              "      <td>2020</td>\n",
              "      <td>1448</td>\n",
              "      <td>50112.156456</td>\n",
              "    </tr>\n",
              "    <tr>\n",
              "      <th>2020-12-20</th>\n",
              "      <td>50994.166667</td>\n",
              "      <td>12</td>\n",
              "      <td>2020</td>\n",
              "      <td>1449</td>\n",
              "      <td>50328.080837</td>\n",
              "    </tr>\n",
              "    <tr>\n",
              "      <th>2020-12-21</th>\n",
              "      <td>51095.000000</td>\n",
              "      <td>12</td>\n",
              "      <td>2020</td>\n",
              "      <td>1450</td>\n",
              "      <td>50201.153889</td>\n",
              "    </tr>\n",
              "    <tr>\n",
              "      <th>...</th>\n",
              "      <td>...</td>\n",
              "      <td>...</td>\n",
              "      <td>...</td>\n",
              "      <td>...</td>\n",
              "      <td>...</td>\n",
              "    </tr>\n",
              "    <tr>\n",
              "      <th>2022-04-09</th>\n",
              "      <td>52308.333333</td>\n",
              "      <td>4</td>\n",
              "      <td>2022</td>\n",
              "      <td>1924</td>\n",
              "      <td>39291.123811</td>\n",
              "    </tr>\n",
              "    <tr>\n",
              "      <th>2022-04-10</th>\n",
              "      <td>52404.166667</td>\n",
              "      <td>4</td>\n",
              "      <td>2022</td>\n",
              "      <td>1925</td>\n",
              "      <td>39588.374647</td>\n",
              "    </tr>\n",
              "    <tr>\n",
              "      <th>2022-04-11</th>\n",
              "      <td>52500.000000</td>\n",
              "      <td>4</td>\n",
              "      <td>2022</td>\n",
              "      <td>1926</td>\n",
              "      <td>39557.195316</td>\n",
              "    </tr>\n",
              "    <tr>\n",
              "      <th>2022-04-12</th>\n",
              "      <td>52562.500000</td>\n",
              "      <td>4</td>\n",
              "      <td>2022</td>\n",
              "      <td>1927</td>\n",
              "      <td>39242.368973</td>\n",
              "    </tr>\n",
              "    <tr>\n",
              "      <th>2022-04-13</th>\n",
              "      <td>52700.000000</td>\n",
              "      <td>4</td>\n",
              "      <td>2022</td>\n",
              "      <td>1928</td>\n",
              "      <td>39217.726424</td>\n",
              "    </tr>\n",
              "  </tbody>\n",
              "</table>\n",
              "<p>483 rows × 5 columns</p>\n",
              "</div>"
            ],
            "text/plain": [
              "                  Prices  month  year  time_seq        SARIMA\n",
              "date                                                         \n",
              "2020-12-17  50650.000000     12  2020      1446  50268.204967\n",
              "2020-12-18  50792.500000     12  2020      1447  50008.648379\n",
              "2020-12-19  50893.333333     12  2020      1448  50112.156456\n",
              "2020-12-20  50994.166667     12  2020      1449  50328.080837\n",
              "2020-12-21  51095.000000     12  2020      1450  50201.153889\n",
              "...                  ...    ...   ...       ...           ...\n",
              "2022-04-09  52308.333333      4  2022      1924  39291.123811\n",
              "2022-04-10  52404.166667      4  2022      1925  39588.374647\n",
              "2022-04-11  52500.000000      4  2022      1926  39557.195316\n",
              "2022-04-12  52562.500000      4  2022      1927  39242.368973\n",
              "2022-04-13  52700.000000      4  2022      1928  39217.726424\n",
              "\n",
              "[483 rows x 5 columns]"
            ]
          },
          "execution_count": 86,
          "metadata": {},
          "output_type": "execute_result"
        }
      ],
      "source": [
        "model_forecast"
      ]
    },
    {
      "cell_type": "code",
      "execution_count": null,
      "metadata": {
        "id": "w2GjrNSBNMON",
        "outputId": "59ac8b67-eabd-40ce-f96f-bbca8a8117ba"
      },
      "outputs": [
        {
          "name": "stdout",
          "output_type": "stream",
          "text": [
            "Performing stepwise search to minimize aic\n",
            " ARIMA(1,1,1)(0,1,1)[12]             : AIC=inf, Time=10.16 sec\n",
            " ARIMA(0,1,0)(0,1,0)[12]             : AIC=28450.879, Time=0.09 sec\n",
            " ARIMA(1,1,0)(1,1,0)[12]             : AIC=28030.771, Time=1.15 sec\n",
            " ARIMA(0,1,1)(0,1,1)[12]             : AIC=inf, Time=3.22 sec\n",
            " ARIMA(1,1,0)(0,1,0)[12]             : AIC=28446.400, Time=0.17 sec\n",
            " ARIMA(1,1,0)(2,1,0)[12]             : AIC=27790.930, Time=2.76 sec\n",
            " ARIMA(1,1,0)(2,1,1)[12]             : AIC=inf, Time=12.33 sec\n",
            " ARIMA(1,1,0)(1,1,1)[12]             : AIC=inf, Time=4.58 sec\n",
            " ARIMA(0,1,0)(2,1,0)[12]             : AIC=27797.116, Time=0.96 sec\n",
            " ARIMA(2,1,0)(2,1,0)[12]             : AIC=27789.109, Time=2.94 sec\n",
            " ARIMA(2,1,0)(1,1,0)[12]             : AIC=28028.821, Time=1.48 sec\n",
            " ARIMA(2,1,0)(2,1,1)[12]             : AIC=inf, Time=22.25 sec\n",
            " ARIMA(2,1,0)(1,1,1)[12]             : AIC=inf, Time=7.11 sec\n",
            " ARIMA(3,1,0)(2,1,0)[12]             : AIC=27785.764, Time=4.04 sec\n",
            " ARIMA(3,1,0)(1,1,0)[12]             : AIC=28021.892, Time=2.05 sec\n",
            " ARIMA(3,1,0)(2,1,1)[12]             : AIC=inf, Time=24.29 sec\n",
            " ARIMA(3,1,0)(1,1,1)[12]             : AIC=inf, Time=10.47 sec\n",
            " ARIMA(3,1,1)(2,1,0)[12]             : AIC=inf, Time=17.21 sec\n",
            " ARIMA(2,1,1)(2,1,0)[12]             : AIC=inf, Time=12.50 sec\n",
            " ARIMA(3,1,0)(2,1,0)[12] intercept   : AIC=27787.759, Time=19.32 sec\n",
            "\n",
            "Best model:  ARIMA(3,1,0)(2,1,0)[12]          \n",
            "Total fit time: 159.098 seconds\n",
            "27785.763710068262\n"
          ]
        }
      ],
      "source": [
        "from pmdarima.arima import auto_arima\n",
        "stepwise_model = auto_arima(y,start_p=1,start_q=1,\n",
        "                           max_p=3, max_q=3, m=12,\n",
        "                           start_P=0,seasonal=True,\n",
        "                           d=1, D=1,trace=True,\n",
        "                           error_action='ignore',  \n",
        "                           suppress_warnings=True, \n",
        "                           stepwise=True)\n",
        "print(stepwise_model.aic())"
      ]
    },
    {
      "cell_type": "code",
      "execution_count": null,
      "metadata": {
        "id": "wPuvi9waNMON",
        "outputId": "b56c7e75-b3ab-4ec2-bc3c-07623f4f815b"
      },
      "outputs": [
        {
          "name": "stdout",
          "output_type": "stream",
          "text": [
            "                                    SARIMAX Results                                     \n",
            "========================================================================================\n",
            "Dep. Variable:                                y   No. Observations:                 1928\n",
            "Model:             ARIMA(3, 1, 0)x(2, 1, 0, 12)   Log Likelihood              -13886.882\n",
            "Date:                          Thu, 27 Apr 2023   AIC                          27785.764\n",
            "Time:                                  20:07:18   BIC                          27819.109\n",
            "Sample:                                       0   HQIC                         27798.034\n",
            "                                         - 1928                                         \n",
            "Covariance Type:                            opg                                         \n",
            "==============================================================================\n",
            "                 coef    std err          z      P>|z|      [0.025      0.975]\n",
            "------------------------------------------------------------------------------\n",
            "ar.L1         -0.0587      0.013     -4.367      0.000      -0.085      -0.032\n",
            "ar.L2          0.0410      0.018      2.247      0.025       0.005       0.077\n",
            "ar.L3         -0.0517      0.019     -2.714      0.007      -0.089      -0.014\n",
            "ar.S.L12      -0.5892      0.013    -46.697      0.000      -0.614      -0.564\n",
            "ar.S.L24      -0.3344      0.014    -24.255      0.000      -0.361      -0.307\n",
            "sigma2      1.139e+05   2063.733     55.205      0.000     1.1e+05    1.18e+05\n",
            "===================================================================================\n",
            "Ljung-Box (L1) (Q):                   0.09   Jarque-Bera (JB):              1969.11\n",
            "Prob(Q):                              0.76   Prob(JB):                         0.00\n",
            "Heteroskedasticity (H):               4.38   Skew:                             0.05\n",
            "Prob(H) (two-sided):                  0.00   Kurtosis:                         7.97\n",
            "===================================================================================\n",
            "\n",
            "Warnings:\n",
            "[1] Covariance matrix calculated using the outer product of gradients (complex-step).\n"
          ]
        }
      ],
      "source": [
        "model_sarima=ARIMA(y.values,order=(3,1,0),seasonal_order=(2,1,0,12))\n",
        "model_sarima_fit=model_sarima.fit()\n",
        "print(model_sarima_fit.summary())"
      ]
    },
    {
      "cell_type": "code",
      "execution_count": null,
      "metadata": {
        "id": "GRtFTmaUNMON",
        "outputId": "138556b2-6c94-4dc2-9a87-693159a2e03b"
      },
      "outputs": [
        {
          "name": "stdout",
          "output_type": "stream",
          "text": [
            "[52777.26881232 52464.73471851 52521.70002788 52445.32146656\n",
            " 52500.82271839 52514.0778853  52493.15248785 52478.68967955\n",
            " 52498.91762419 52548.94422573 52572.52323059 52584.23705109\n",
            " 52646.58752541 52575.98576855 52673.8875438  52611.37721069\n",
            " 52688.12309706 52715.4656183  52766.98895096 52788.25396989\n",
            " 52795.90204283 52857.59179035 52883.20328469 52867.03833723\n",
            " 52955.25531624 52889.53199198 52987.17925847 52890.20592802\n",
            " 52990.21526314 53029.90518885 53120.97969132 53158.0770742\n",
            " 53198.42043235 53268.55615304 53305.98553542 53348.31108377\n",
            " 53426.27585537 53276.77411601 53360.88188801 53279.57713739\n",
            " 53358.77486815 53386.4785662  53430.02141971 53445.84244068\n",
            " 53471.12795085 53532.38691045 53562.17330133 53579.35806355\n",
            " 53654.71367039 53552.94429523 53645.11489035 53566.10261095\n",
            " 53649.7834445  53680.42058035 53738.74373333 53761.80671007\n",
            " 53785.03103079 53848.69594195 53879.03373202 53891.47224481\n",
            " 53971.79363207 53869.9156089  53961.86315038 53876.26041726\n",
            " 53964.25927981 53997.17626417 54062.68553246 54088.59639079\n",
            " 54118.07065662 54183.28639215 54215.85516054 54239.49751281\n",
            " 54317.7654969  54199.98943703 54289.3721383  54206.88599971\n",
            " 54290.84141937 54321.43411281 54377.76655183 54399.5776238\n",
            " 54426.05858657 54489.55598058 54520.6258245  54539.25385393\n",
            " 54617.07114654 54508.69882833 54599.66737033 54517.54877448\n",
            " 54602.44268268 54633.64249198 54692.97899387 54716.25338107\n",
            " 54742.40802414 54806.39928878 54837.60627035 54855.44218251\n",
            " 54934.21170378 54825.6149525  54916.50679009 54833.12941929\n",
            " 54918.82251025 54950.44185597 55011.0771093  55034.86028362\n",
            " 55062.20818271 55126.48307595 55158.11050493 55178.0899733\n",
            " 55256.44913888 55144.83994715 55235.24666354 55152.48807656\n",
            " 55237.3964372  55268.56556051 55327.4309854  55350.42502982\n",
            " 55377.17896472 55441.12158492 55472.45541889 55491.43675526\n",
            " 55569.71927751 55459.96012191 55550.67833095 55467.97608904\n",
            " 55553.07957428 55584.37368066 55643.84760823 55667.13648002\n",
            " 55693.84135569 55757.88490964 55789.25113437 55808.10376707\n",
            " 55886.56867491 55776.72682704 55867.42372711 55784.48135981\n",
            " 55869.73229373 55901.10331552 55960.81054604 55984.18959109\n",
            " 56011.12199934 56075.21719586 56106.66251571 56125.92476561\n",
            " 56204.30783868 56093.89604888 56184.50133914 56101.68161583\n",
            " 56186.78041923 56218.06432582 56277.43060228 56300.65792317\n",
            " 56327.47267091 56391.50368571 56422.89156958 56441.95550512\n",
            " 56520.32580563 56410.27748876 56500.94388304 56418.13219538\n",
            " 56503.2713289  56534.58084425 56594.06999875 56617.35656364\n",
            " 56644.16455049 56708.21611266 56739.61138885 56758.65519577\n",
            " 56837.06038825 56726.98849937 56817.64952506 56734.7920896\n",
            " 56819.95833346 56851.28189163 56910.81266173 56934.11505666\n",
            " 56960.96637369 57025.02729183 57056.43741934 57075.55940419\n",
            " 57153.94830893 57043.76876108 57134.4125164  57051.57934919\n",
            " 57136.71613246 57168.02285259 57227.4880107  57250.76126666\n",
            " 57277.58931367 57341.63784791 57373.03675271 57392.11940487\n",
            " 57470.50623851 57360.39800791 57451.05373455 57368.22156645\n",
            " 57453.36664253 57484.67858791 57544.16848922 57567.4536207\n",
            " 57594.2808889  57658.33359125 57689.73414228 57708.81382669\n",
            " 57787.2073274  57677.09307735 57767.74752561 57684.90665333\n",
            " 57770.05669498 57801.37119232 57860.86845562 57884.15633412\n",
            " 57910.99184287 57975.04623056 58006.44956456 58025.54415076\n",
            " 58103.93441571 57993.79986341 58084.45106162 58001.61498389\n",
            " 58086.75932655 58118.07057288 58177.55522405 58200.8375127\n",
            " 58227.6684264  58291.72042721 58323.12157092 58342.20836917\n",
            " 58420.59831116 58310.47773426 58401.13127496 58318.29528294\n",
            " 58403.44132302 58434.75363151 58494.24325207 58517.52791574\n",
            " 58544.35878122 58608.41162483 58639.81312846 58658.89953224\n",
            " 58737.29074659 58627.16872435 58717.82197165 58634.9843258\n",
            " 58720.13127151 58751.44404132 58810.93495142 58834.22008497\n",
            " 58861.05251548 58925.10566069 58956.50768469 58975.59692525\n",
            " 59053.9874979  58943.86165381 59034.51429064 58951.67759059\n",
            " 59036.82343506 59068.13557785 59127.62406634 59150.9081288\n",
            " 59177.73965329 59241.79233896 59273.19393599 59292.28163697\n",
            " 59370.67216224 59260.54905339 59351.20214803 59268.36544375\n",
            " 59353.51163424 59384.82399222 59444.31347633 59467.59801276\n",
            " 59494.42954774 59558.48240332 59589.88407791 59608.9717374\n",
            " 59687.36250518 59577.23906273 59667.89209177 59585.05507369\n",
            " 59670.20142857 59701.51386943 59761.00357671 59784.28819205\n",
            " 59811.12002383 59875.17293297 59906.57470464 59925.66290343\n",
            " 60004.05354416 59893.92938358 59984.58229818 59901.74546642\n",
            " 59986.89160872 60018.20392879 60077.69317162 60100.97758197\n",
            " 60127.80923537 60191.86205612 60223.26374466 60242.35163956\n",
            " 60320.74227405 60210.61864817 60301.27165213 60218.43481553\n",
            " 60303.58102811 60334.89339163 60394.3828335  60417.66733824\n",
            " 60444.4989975  60508.55185242 60539.95355747 60559.04145109\n",
            " 60637.43213174 60527.30843095 60617.96142053 60535.12452447\n",
            " 60620.27076673 60651.58314504 60711.07262495 60734.35714263\n",
            " 60761.18885808 60825.24172243 60856.64344555 60875.73144154\n",
            " 60954.12209708 60843.99826163 60934.6512298  60851.81437039\n",
            " 60936.96057166 60968.27292673 61027.76231766 61051.04679615\n",
            " 61077.87847653 61141.9313239  61173.33303085 61192.42096695\n",
            " 61270.81162185 61160.68789079 61251.34087639 61168.50401527\n",
            " 61253.65023077 61284.96259458 61344.45202522 61367.73652248\n",
            " 61394.56820473 61458.62105895 61490.02276939 61509.11070654\n",
            " 61587.50137021 61477.37762268 61568.03060516 61485.1937328\n",
            " 61570.33995362 61601.65232005 61661.14175705 61684.42625635\n",
            " 61711.25794923 61775.31080509 61806.71251889 61825.80047545\n",
            " 61904.19113416 61794.06736142 61884.72033992 61801.88347475\n",
            " 61887.02968768 61918.34204964 61977.83146961 62001.11596144\n",
            " 62027.94764743 62092.00050003 62123.40221068 62142.49015545\n",
            " 62220.88081416 62110.75706178 62201.41004366 62118.57317801\n",
            " 62203.71939382 62235.03175754 62294.52118541 62317.80568096\n",
            " 62344.63736745 62408.69022143 62440.09193281 62459.17987804\n",
            " 62537.57053841 62427.44678246 62518.09976368 62435.26289591\n",
            " 62520.40911266 62551.72147684 62611.21090575 62634.4954016\n",
            " 62661.3270901  62725.37994436 62756.78165636 62775.86960526\n",
            " 62854.26026465 62744.136504   62834.78948448 62751.95261812\n",
            " 62837.09883335 62868.41119667 62927.90062233 62951.18511676\n",
            " 62978.01680391 63042.06965754 63073.47136893 63092.55931552\n",
            " 63170.94997493 63060.82621824 63151.47919938 63068.64233289\n",
            " 63153.7885487  63185.10091238 63244.59033961 63267.87483477\n",
            " 63294.70652205 63358.75937595 63390.1610875  63409.24903422\n",
            " 63487.63969394 63377.51593649 63468.16891749 63385.33205061\n",
            " 63470.47826658 63501.79063034 63561.28005773 63584.56455294\n",
            " 63611.39624059 63675.44909454 63706.8508062  63725.93875362\n",
            " 63804.32941315 63694.20565482 63784.85863568 63702.02176908\n",
            " 63787.16798476 63818.48034835 63877.96977512 63901.25427006\n",
            " 63928.08595744 63992.13881128 64023.54052282 64042.62846978\n",
            " 64121.01912932 64010.89537177 64101.54835275 64018.71148612\n",
            " 64103.85770192 64135.17006558 64194.65949266 64217.94398774\n",
            " 64244.77567516 64308.82852905 64340.23024062 64359.31818762\n",
            " 64437.70884722 64327.5850895  64418.23807046 64335.40120375\n",
            " 64420.54741958 64451.85978325 64511.34921036 64534.63370544\n",
            " 64561.46539293 64625.51824683 64656.91995842 64676.00790555\n",
            " 64754.39856511 64644.27480723 64734.92778817 64652.09092151\n",
            " 64737.23713728 64768.54950092 64828.03892791 64851.32342294\n",
            " 64878.15511038 64942.20796426 64973.60967583 64992.69762286\n",
            " 65071.08828243 64960.9645247  65051.61750566]\n"
          ]
        }
      ],
      "source": [
        "model_sarima_forecast = model_sarima_fit.forecast(steps = len(test))\n",
        "print(model_sarima_forecast)"
      ]
    },
    {
      "cell_type": "code",
      "execution_count": null,
      "metadata": {
        "id": "c7w-WcUzNMON",
        "outputId": "79cf5837-a1ff-4277-ecd5-593c71527a0e"
      },
      "outputs": [
        {
          "data": {
            "image/png": "[encoded data removed]",
            "text/plain": [
              "<Figure size 1152x576 with 1 Axes>"
            ]
          },
          "metadata": {
            "needs_background": "light"
          },
          "output_type": "display_data"
        }
      ],
      "source": [
        "model_forecast= test.copy()\n",
        "model_forecast['SARIMA'] = model_sarima_forecast\n",
        "plt.figure(figsize=(16,8))\n",
        "plt.plot( train['Prices'], label='Train')\n",
        "plt.plot(test['Prices'], label='Test')\n",
        "plt.plot(model_forecast['SARIMA'], label='SARIMA')\n",
        "plt.legend()\n",
        "plt.show()"
      ]
    },
    {
      "cell_type": "code",
      "execution_count": null,
      "metadata": {
        "id": "peo-z5-MNMON",
        "outputId": "f4b7ee75-17f8-45c9-a060-6477b2dd4659"
      },
      "outputs": [
        {
          "name": "stdout",
          "output_type": "stream",
          "text": [
            "Performing stepwise search to minimize aic\n",
            " ARIMA(1,1,1)(0,1,1)[12]             : AIC=inf, Time=10.96 sec\n",
            " ARIMA(0,1,0)(0,1,0)[12]             : AIC=28450.879, Time=0.99 sec\n",
            " ARIMA(1,1,0)(1,1,0)[12]             : AIC=28030.771, Time=1.14 sec\n",
            " ARIMA(0,1,1)(0,1,1)[12]             : AIC=inf, Time=3.27 sec\n",
            " ARIMA(1,1,0)(0,1,0)[12]             : AIC=28446.400, Time=0.12 sec\n",
            " ARIMA(1,1,0)(2,1,0)[12]             : AIC=27790.930, Time=3.06 sec\n",
            " ARIMA(1,1,0)(2,1,1)[12]             : AIC=inf, Time=13.18 sec\n",
            " ARIMA(1,1,0)(1,1,1)[12]             : AIC=inf, Time=4.87 sec\n",
            " ARIMA(0,1,0)(2,1,0)[12]             : AIC=27797.116, Time=1.10 sec\n",
            " ARIMA(2,1,0)(2,1,0)[12]             : AIC=27789.109, Time=3.69 sec\n",
            " ARIMA(2,1,0)(1,1,0)[12]             : AIC=28028.821, Time=1.57 sec\n",
            " ARIMA(2,1,0)(2,1,1)[12]             : AIC=inf, Time=21.17 sec\n",
            " ARIMA(2,1,0)(1,1,1)[12]             : AIC=inf, Time=7.18 sec\n",
            " ARIMA(3,1,0)(2,1,0)[12]             : AIC=27785.764, Time=4.60 sec\n",
            " ARIMA(3,1,0)(1,1,0)[12]             : AIC=28021.892, Time=1.70 sec\n",
            " ARIMA(3,1,0)(2,1,1)[12]             : AIC=inf, Time=22.89 sec\n",
            " ARIMA(3,1,0)(1,1,1)[12]             : AIC=inf, Time=9.60 sec\n",
            " ARIMA(3,1,1)(2,1,0)[12]             : AIC=inf, Time=17.11 sec\n",
            " ARIMA(2,1,1)(2,1,0)[12]             : AIC=inf, Time=12.37 sec\n",
            " ARIMA(3,1,0)(2,1,0)[12] intercept   : AIC=27787.759, Time=18.38 sec\n",
            "\n",
            "Best model:  ARIMA(3,1,0)(2,1,0)[12]          \n",
            "Total fit time: 158.981 seconds\n",
            "27785.763710068262\n"
          ]
        }
      ],
      "source": [
        "from pmdarima.arima import auto_arima\n",
        "stepwise_model = auto_arima(data_nomiss['Prices'],start_p=1,start_q=1,\n",
        "                           max_p=3, max_q=3, m=12,\n",
        "                           start_P=0,seasonal=True,\n",
        "                           d=1, D=1,trace=True,\n",
        "                           error_action='ignore',  \n",
        "                           suppress_warnings=True, \n",
        "                           stepwise=True)\n",
        "print(stepwise_model.aic())"
      ]
    },
    {
      "cell_type": "code",
      "execution_count": null,
      "metadata": {
        "id": "JWpyuuMvNMON"
      },
      "outputs": [],
      "source": [
        "data_nomiss=data_nomiss.drop(['month','year','time_seq'],axis=1)"
      ]
    },
    {
      "cell_type": "code",
      "execution_count": null,
      "metadata": {
        "id": "qDF1MmnsNMON"
      },
      "outputs": [],
      "source": [
        "train = data_nomiss.loc['2017-01-02':'2020-12-16']\n",
        "test = data_nomiss.loc['2020-12-17':]"
      ]
    },
    {
      "cell_type": "code",
      "execution_count": null,
      "metadata": {
        "id": "p6AkW2tgNMON",
        "outputId": "4dfafe6b-23cf-429f-e8ac-8f78d74043de"
      },
      "outputs": [
        {
          "data": {
            "text/plain": [
              "ARIMA(order=(3, 1, 0), scoring_args={}, seasonal_order=(2, 1, 0, 12),\n",
              "      suppress_warnings=True, with_intercept=False)"
            ]
          },
          "execution_count": 100,
          "metadata": {},
          "output_type": "execute_result"
        }
      ],
      "source": [
        "stepwise_model.fit(train)"
      ]
    },
    {
      "cell_type": "code",
      "execution_count": null,
      "metadata": {
        "id": "shKPIaxNNMON",
        "outputId": "f4b41605-b44b-49b7-e3eb-6b095c5fc6c6"
      },
      "outputs": [
        {
          "name": "stdout",
          "output_type": "stream",
          "text": [
            "[50283.09878328 50067.67984439 50112.55048039 50334.09399141\n",
            " 50202.64624495 49940.18735909 49845.87968808 49661.60531214\n",
            " 49506.9574686  49639.06038248 49801.41079978 50050.89918889\n",
            " 50035.02452055 49612.35074765 49488.16476379 49700.27362673\n",
            " 49570.98419293 49283.8035009  49162.68748905 49002.92699072\n",
            " 48856.15065965 49129.41760352 49392.71057837 49625.94768626\n",
            " 49603.73380131 49361.81155492 49311.9613824  49641.47398921\n",
            " 49486.14874996 49150.0099611  49054.33521518 48921.63940183\n",
            " 48801.60632769 48933.14581229 49108.77640357 49457.38922282\n",
            " 49431.05726928 49155.24783241 49118.82035953 49385.46227554\n",
            " 49244.05786784 48943.48988516 48842.27403405 48686.37364526\n",
            " 48548.74860966 48713.82596972 48905.7522837  49194.85857921\n",
            " 49172.90901718 48857.13814144 48788.90747353 49052.54575552\n",
            " 48911.81955427 48607.24998188 48500.84277023 48349.14338187\n",
            " 48212.67144163 48405.16903754 48616.55436051 48901.42918956\n",
            " 48878.3620059  48596.09974565 48541.35298407 48827.19946841\n",
            " 48681.5485437  48367.6165319  48265.93411773 48119.44882367\n",
            " 47988.07114901 48154.21901682 48349.35456178 48656.02925179\n",
            " 48632.15946942 48344.11752801 48292.17688209 48566.52855753\n",
            " 48423.42267141 48116.05601419 48013.41395762 47862.62850485\n",
            " 47728.01281779 47900.01238649 48097.92464437 48393.73466999\n",
            " 48370.68052874 48074.94806709 48017.02998216 48290.58998866\n",
            " 48147.66188354 47839.66310996 47736.01795067 47585.94618427\n",
            " 47451.48664755 47628.79962474 47830.45601272 48125.25367557\n",
            " 48102.00332527 47812.47740528 47757.00116136 48034.75777553\n",
            " 47890.89910535 47581.11248874 47478.34403701 47329.27493441\n",
            " 47195.78456694 47368.20280946 47566.84965997 47865.76222392\n",
            " 47842.35586706 47551.8536764  47496.95678907 47772.61440909\n",
            " 47629.22044515 47320.64445034 47217.71093058 47067.84564684\n",
            " 46933.75989276 47107.19340152 47306.30874253 47603.24024431\n",
            " 47579.98556476 47288.00597193 47231.98662285 47507.45355817\n",
            " 47364.10228679 47055.42979026 46952.3028388  46802.5575316\n",
            " 46668.48989272 46842.95072554 47042.7852084  47339.48644756\n",
            " 47316.19748552 47025.36645976 46969.78853862 47246.04769892\n",
            " 47102.52076574 46793.50733184 46690.54291641 46540.99008675\n",
            " 46407.10660563 46580.65896926 46779.93656781 47077.41377147\n",
            " 47054.09455985 46763.10056321 46707.64104587 46983.51742258\n",
            " 46840.0752305  46531.28481219 46428.29223005 46278.59211817\n",
            " 46144.59927584 46318.32664339 46517.68233769 46814.7988101\n",
            " 46791.5077806  46500.23043947 46444.56032845 46720.39314764\n",
            " 46576.96068913 46268.15627618 46165.12646472 46015.44626234\n",
            " 45881.45474341 46055.38032827 46254.87391983 46551.93975449\n",
            " 46528.64276746 46237.57778529 46181.98732584 46457.96955323\n",
            " 46314.50396757 46005.63462382 45902.63491908 45752.99160559\n",
            " 45619.03503866 45792.79215617 45992.18279519 46289.39481742\n",
            " 46266.09197833 45975.00018948 45919.43372433 46195.34624059\n",
            " 46051.89608668 45743.06778488 45640.06331966 45490.39278584\n",
            " 45356.41615308 45530.20320713 45729.60666895 46026.75310018\n",
            " 46003.45549295 45712.30944862 45656.70350675 45932.60641568\n",
            " 45789.15840585 45480.32824258 45377.3166247  45227.64934107\n",
            " 45093.67257174 45267.49779691 45466.92765932 45764.06321999\n",
            " 45740.76458393 45449.65776665 45394.06616864 45669.99722803\n",
            " 45526.54297688 45217.70046321 45114.69441706 44965.03419237\n",
            " 44831.06404923 45004.85806096 45204.26890781 45501.43198373\n",
            " 45478.13221794 45187.02107428 45131.43430395 45407.35268598\n",
            " 45263.90124099 44955.06627259 44852.05943121 44702.39418038\n",
            " 44568.42035964 44742.21944612 44941.6323576  45238.7835253\n",
            " 45215.48472993 44924.36321288 44868.76904884 45144.68536393\n",
            " 45001.23437978 44692.39920407 44589.3909908  44439.72625931\n",
            " 44305.75234163 44479.55876548 44678.97672384 44976.12559988\n",
            " 44952.82662813 44661.71235034 44606.12076387 44882.04237793\n",
            " 44738.59021897 44429.75269695 44326.74551388 44177.08213119\n",
            " 44043.10946833 44216.91011411 44416.32456355 44713.47861374\n",
            " 44690.17942432 44399.06446583 44343.47384474 44619.39315681\n",
            " 44475.94150737 44167.10537103 44064.09805704 43914.43374717\n",
            " 43780.46041107 43954.2619077  44153.67668093 44450.8285726\n",
            " 44427.52956303 44136.41262402 44080.82061933 44356.73949493\n",
            " 44213.28794273 43904.45179384 43801.44421713 43651.77998785\n",
            " 43517.80662036 43691.60952499 43891.02526165 44188.176677\n",
            " 44164.87763745 43873.76203315 43818.17049058 44094.09036274\n",
            " 43950.63858961 43641.80199548 43538.79460908 43389.13063716\n",
            " 43255.15750705 43428.95934303 43628.37443281 43925.52682027\n",
            " 43902.22773886 43611.11203124 43555.52068069 43831.44013551\n",
            " 43687.98845474 43379.15211481 43276.14470727 43126.48056447\n",
            " 42992.50731126 43166.30928797 43365.72442667 43662.87642353\n",
            " 43639.57737541 43348.46129019 43292.86968093 43568.78904491\n",
            " 43425.33738437 43116.50104698 43013.49358919 42863.82945838\n",
            " 42729.85619684 42903.65844331 43103.07376566 43400.22566464\n",
            " 43376.92661149 43085.8107721  43030.2192455  43306.13879672\n",
            " 43162.68709467 42853.85067288 42750.84325022 42601.17916845\n",
            " 42467.20595177 42641.00800077 42840.42320399 43137.57528545\n",
            " 43114.27622425 42823.16037002 42767.56888143 43043.48835712\n",
            " 42900.03667179 42591.20029658 42488.19287059 42338.52875735\n",
            " 42204.5555182  42378.35759007 42577.77280027 42874.92481117\n",
            " 42851.62575613 42560.50983    42504.91829308 42780.83775008\n",
            " 42637.38606891 42328.54969508 42225.5422595  42075.87814793\n",
            " 41941.90490676 42115.70703023 42315.1222754  42612.27426637\n",
            " 42588.9752105  42297.8593296  42242.26780742 42518.18729958\n",
            " 42374.73561061 42065.8992208  41962.8917917  41813.22768946\n",
            " 41679.25445676 41853.05654378 42052.47176702 42349.62379222\n",
            " 42326.32473481 42035.20885197 41979.61733728 42255.53681579\n",
            " 42112.08512985 41803.24874856 41700.24131895 41550.57721093\n",
            " 41416.60397412 41590.40606478 41789.82128893 42086.9733014\n",
            " 42063.67424513 41772.55834862 41716.96682491 41992.88629961\n",
            " 41849.43461451 41540.59823365 41437.59080221 41287.92669439\n",
            " 41153.95345713 41327.75555764 41527.17078844 41824.32279689\n",
            " 41801.02374048 41509.90785228 41454.31633119 41730.23581249\n",
            " 41586.78412593 41277.94774205 41174.9403118  41025.27620575\n",
            " 40891.30297009 41065.10506388 41264.52029064 41561.67230551\n",
            " 41538.3732488  41247.2573604  41191.66584078 41467.58531962\n",
            " 41324.1336336  41015.29725128 40912.28982096 40762.62571385\n",
            " 40628.65247744 40802.45457179 41001.86979864 41299.02181122\n",
            " 41275.72275473 40984.60686373 40929.01534243 41204.93482049\n",
            " 41061.48313465 40752.64675244 40649.63932176 40499.97521467\n",
            " 40366.00197816 40539.80407439 40739.21930251 41036.37131428\n",
            " 41013.07225776 40721.95636829 40666.36484745 40942.28432675\n",
            " 40798.83264064 40489.99625786 40386.9888274  40237.32472065\n",
            " 40103.35148444 40277.15357943 40476.56880681 40773.72081978\n",
            " 40750.42176321 40459.30587372 40403.71435318 40679.63383203\n",
            " 40536.18214601 40227.34576352 40124.33833305 39974.6742261\n",
            " 39840.70098976 40014.50308483 40213.91831221 40511.07032477\n",
            " 40487.77126824 40196.65537826 40141.0638574  40416.9833361\n",
            " 40273.53165012 39964.69526765 39861.68783712 39712.02373017\n",
            " 39578.0504938  39751.85258923 39951.26781686 40248.41982925\n",
            " 40225.12077272 39934.00488302 39878.41336224 40154.33284117\n",
            " 40010.88115514 39702.04477256 39599.03734207 39449.37323519\n",
            " 39315.39999887 39489.20209408 39688.61732156 39985.76933419\n",
            " 39962.47027764 39671.35438795 39615.76286722 39891.68234608\n",
            " 39748.23066006 39439.39427753 39336.38684704 39186.72274012\n",
            " 39052.74950378 39226.551599   39425.96682649 39723.11883903\n",
            " 39699.81978249 39408.70389271 39353.11237193]\n"
          ]
        }
      ],
      "source": [
        "future_forecast = stepwise_model.predict(n_periods=483)\n",
        "\n",
        "print(future_forecast)"
      ]
    },
    {
      "cell_type": "code",
      "execution_count": null,
      "metadata": {
        "id": "SoYavMjbNMOO"
      },
      "outputs": [],
      "source": [
        "future_forecast = pd.DataFrame(future_forecast,index = test.index,columns=[\"Predictions\"])\n"
      ]
    },
    {
      "cell_type": "code",
      "execution_count": null,
      "metadata": {
        "id": "FknkpJECNMOO",
        "outputId": "4c96ad51-0341-4f2e-ba14-da6cda76b0c7"
      },
      "outputs": [
        {
          "data": {
            "text/plain": [
              "<matplotlib.axes._subplots.AxesSubplot at 0x25e326bc9b0>"
            ]
          },
          "execution_count": 103,
          "metadata": {},
          "output_type": "execute_result"
        },
        {
          "data": {
            "image/png": "[encoded data removed]",
            "text/plain": [
              "<Figure size 432x288 with 1 Axes>"
            ]
          },
          "metadata": {
            "needs_background": "light"
          },
          "output_type": "display_data"
        }
      ],
      "source": [
        "pd.concat([test,future_forecast],axis=1).plot()"
      ]
    },
    {
      "cell_type": "code",
      "execution_count": null,
      "metadata": {
        "id": "lC5KxTHlNMOO",
        "outputId": "7173ca23-f8fe-43d7-e2fa-c8ab212a3234"
      },
      "outputs": [
        {
          "name": "stdout",
          "output_type": "stream",
          "text": [
            "                                    SARIMAX Results                                     \n",
            "========================================================================================\n",
            "Dep. Variable:                                y   No. Observations:                 1928\n",
            "Model:             ARIMA(3, 1, 0)x(2, 1, 0, 12)   Log Likelihood              -13886.882\n",
            "Date:                          Thu, 27 Apr 2023   AIC                          27785.764\n",
            "Time:                                  20:19:40   BIC                          27819.109\n",
            "Sample:                                       0   HQIC                         27798.034\n",
            "                                         - 1928                                         \n",
            "Covariance Type:                            opg                                         \n",
            "==============================================================================\n",
            "                 coef    std err          z      P>|z|      [0.025      0.975]\n",
            "------------------------------------------------------------------------------\n",
            "ar.L1         -0.0587      0.013     -4.367      0.000      -0.085      -0.032\n",
            "ar.L2          0.0410      0.018      2.247      0.025       0.005       0.077\n",
            "ar.L3         -0.0517      0.019     -2.714      0.007      -0.089      -0.014\n",
            "ar.S.L12      -0.5892      0.013    -46.697      0.000      -0.614      -0.564\n",
            "ar.S.L24      -0.3344      0.014    -24.255      0.000      -0.361      -0.307\n",
            "sigma2      1.139e+05   2063.733     55.205      0.000     1.1e+05    1.18e+05\n",
            "===================================================================================\n",
            "Ljung-Box (L1) (Q):                   0.09   Jarque-Bera (JB):              1969.11\n",
            "Prob(Q):                              0.76   Prob(JB):                         0.00\n",
            "Heteroskedasticity (H):               4.38   Skew:                             0.05\n",
            "Prob(H) (two-sided):                  0.00   Kurtosis:                         7.97\n",
            "===================================================================================\n",
            "\n",
            "Warnings:\n",
            "[1] Covariance matrix calculated using the outer product of gradients (complex-step).\n"
          ]
        }
      ],
      "source": [
        "model_sarima=ARIMA(data_nomiss.values,order=(3,1,0),seasonal_order=(2,1,0,12))\n",
        "model_sarima_fit=model_sarima.fit()\n",
        "print(model_sarima_fit.summary())"
      ]
    },
    {
      "cell_type": "code",
      "execution_count": null,
      "metadata": {
        "id": "z3_bzc_pNMOO",
        "outputId": "d6ba72ab-6f98-4ebe-b0e5-72d5b15aa419"
      },
      "outputs": [
        {
          "name": "stdout",
          "output_type": "stream",
          "text": [
            "[52777.26881232 52464.73471851 52521.70002788 52445.32146656\n",
            " 52500.82271839 52514.0778853  52493.15248785 52478.68967955\n",
            " 52498.91762419 52548.94422573 52572.52323059 52584.23705109\n",
            " 52646.58752541 52575.98576855 52673.8875438  52611.37721069\n",
            " 52688.12309706 52715.4656183  52766.98895096 52788.25396989\n",
            " 52795.90204283 52857.59179035 52883.20328469 52867.03833723\n",
            " 52955.25531624 52889.53199198 52987.17925847 52890.20592802\n",
            " 52990.21526314 53029.90518885 53120.97969132 53158.0770742\n",
            " 53198.42043235 53268.55615304 53305.98553542 53348.31108377\n",
            " 53426.27585537 53276.77411601 53360.88188801 53279.57713739\n",
            " 53358.77486815 53386.4785662  53430.02141971 53445.84244068\n",
            " 53471.12795085 53532.38691045 53562.17330133 53579.35806355\n",
            " 53654.71367039 53552.94429523 53645.11489035 53566.10261095\n",
            " 53649.7834445  53680.42058035 53738.74373333 53761.80671007\n",
            " 53785.03103079 53848.69594195 53879.03373202 53891.47224481\n",
            " 53971.79363207 53869.9156089  53961.86315038 53876.26041726\n",
            " 53964.25927981 53997.17626417 54062.68553246 54088.59639079\n",
            " 54118.07065662 54183.28639215 54215.85516054 54239.49751281\n",
            " 54317.7654969  54199.98943703 54289.3721383  54206.88599971\n",
            " 54290.84141937 54321.43411281 54377.76655183 54399.5776238\n",
            " 54426.05858657 54489.55598058 54520.6258245  54539.25385393\n",
            " 54617.07114654 54508.69882833 54599.66737033 54517.54877448\n",
            " 54602.44268268 54633.64249198 54692.97899387 54716.25338107\n",
            " 54742.40802414 54806.39928878 54837.60627035 54855.44218251\n",
            " 54934.21170378 54825.6149525  54916.50679009 54833.12941929\n",
            " 54918.82251025 54950.44185597 55011.0771093  55034.86028362\n",
            " 55062.20818271 55126.48307595 55158.11050493 55178.0899733\n",
            " 55256.44913888 55144.83994715 55235.24666354 55152.48807656\n",
            " 55237.3964372  55268.56556051 55327.4309854  55350.42502982\n",
            " 55377.17896472 55441.12158492 55472.45541889 55491.43675526\n",
            " 55569.71927751 55459.96012191 55550.67833095 55467.97608904\n",
            " 55553.07957428 55584.37368066 55643.84760823 55667.13648002\n",
            " 55693.84135569 55757.88490964 55789.25113437 55808.10376707\n",
            " 55886.56867491 55776.72682704 55867.42372711 55784.48135981\n",
            " 55869.73229373 55901.10331552 55960.81054604 55984.18959109\n",
            " 56011.12199934 56075.21719586 56106.66251571 56125.92476561\n",
            " 56204.30783868 56093.89604888 56184.50133914 56101.68161583\n",
            " 56186.78041923 56218.06432582 56277.43060228 56300.65792317\n",
            " 56327.47267091 56391.50368571 56422.89156958 56441.95550512\n",
            " 56520.32580563 56410.27748876 56500.94388304 56418.13219538\n",
            " 56503.2713289  56534.58084425 56594.06999875 56617.35656364\n",
            " 56644.16455049 56708.21611266 56739.61138885 56758.65519577\n",
            " 56837.06038825 56726.98849937 56817.64952506 56734.7920896\n",
            " 56819.95833346 56851.28189163 56910.81266173 56934.11505666\n",
            " 56960.96637369 57025.02729183 57056.43741934 57075.55940419\n",
            " 57153.94830893 57043.76876108 57134.4125164  57051.57934919\n",
            " 57136.71613246 57168.02285259 57227.4880107  57250.76126666\n",
            " 57277.58931367 57341.63784791 57373.03675271 57392.11940487\n",
            " 57470.50623851 57360.39800791 57451.05373455 57368.22156645\n",
            " 57453.36664253 57484.67858791 57544.16848922 57567.4536207\n",
            " 57594.2808889  57658.33359125 57689.73414228 57708.81382669\n",
            " 57787.2073274  57677.09307735 57767.74752561 57684.90665333\n",
            " 57770.05669498 57801.37119232 57860.86845562 57884.15633412\n",
            " 57910.99184287 57975.04623056 58006.44956456 58025.54415076\n",
            " 58103.93441571 57993.79986341 58084.45106162 58001.61498389\n",
            " 58086.75932655 58118.07057288 58177.55522405 58200.8375127\n",
            " 58227.6684264  58291.72042721 58323.12157092 58342.20836917\n",
            " 58420.59831116 58310.47773426 58401.13127496 58318.29528294\n",
            " 58403.44132302 58434.75363151 58494.24325207 58517.52791574\n",
            " 58544.35878122 58608.41162483 58639.81312846 58658.89953224\n",
            " 58737.29074659 58627.16872435 58717.82197165 58634.9843258\n",
            " 58720.13127151 58751.44404132 58810.93495142 58834.22008497\n",
            " 58861.05251548 58925.10566069 58956.50768469 58975.59692525\n",
            " 59053.9874979  58943.86165381 59034.51429064 58951.67759059\n",
            " 59036.82343506 59068.13557785 59127.62406634 59150.9081288\n",
            " 59177.73965329 59241.79233896 59273.19393599 59292.28163697\n",
            " 59370.67216224 59260.54905339 59351.20214803 59268.36544375\n",
            " 59353.51163424 59384.82399222 59444.31347633 59467.59801276\n",
            " 59494.42954774 59558.48240332 59589.88407791 59608.9717374\n",
            " 59687.36250518 59577.23906273 59667.89209177 59585.05507369\n",
            " 59670.20142857 59701.51386943 59761.00357671 59784.28819205\n",
            " 59811.12002383 59875.17293297 59906.57470464 59925.66290343\n",
            " 60004.05354416 59893.92938358 59984.58229818 59901.74546642\n",
            " 59986.89160872 60018.20392879 60077.69317162 60100.97758197\n",
            " 60127.80923537 60191.86205612 60223.26374466 60242.35163956\n",
            " 60320.74227405 60210.61864817 60301.27165213 60218.43481553\n",
            " 60303.58102811 60334.89339163 60394.3828335  60417.66733824\n",
            " 60444.4989975  60508.55185242 60539.95355747 60559.04145109\n",
            " 60637.43213174 60527.30843095 60617.96142053 60535.12452447\n",
            " 60620.27076673 60651.58314504 60711.07262495 60734.35714263\n",
            " 60761.18885808 60825.24172243 60856.64344555 60875.73144154\n",
            " 60954.12209708 60843.99826163 60934.6512298  60851.81437039\n",
            " 60936.96057166 60968.27292673 61027.76231766 61051.04679615\n",
            " 61077.87847653 61141.9313239  61173.33303085 61192.42096695\n",
            " 61270.81162185 61160.68789079 61251.34087639 61168.50401527\n",
            " 61253.65023077 61284.96259458 61344.45202522 61367.73652248\n",
            " 61394.56820473 61458.62105895 61490.02276939 61509.11070654\n",
            " 61587.50137021 61477.37762268 61568.03060516 61485.1937328\n",
            " 61570.33995362 61601.65232005 61661.14175705 61684.42625635\n",
            " 61711.25794923 61775.31080509 61806.71251889 61825.80047545\n",
            " 61904.19113416 61794.06736142 61884.72033992 61801.88347475\n",
            " 61887.02968768 61918.34204964 61977.83146961 62001.11596144\n",
            " 62027.94764743 62092.00050003 62123.40221068 62142.49015545\n",
            " 62220.88081416 62110.75706178 62201.41004366 62118.57317801\n",
            " 62203.71939382 62235.03175754 62294.52118541 62317.80568096\n",
            " 62344.63736745 62408.69022143 62440.09193281 62459.17987804\n",
            " 62537.57053841 62427.44678246 62518.09976368 62435.26289591\n",
            " 62520.40911266 62551.72147684 62611.21090575 62634.4954016\n",
            " 62661.3270901  62725.37994436 62756.78165636 62775.86960526\n",
            " 62854.26026465 62744.136504   62834.78948448 62751.95261812\n",
            " 62837.09883335 62868.41119667 62927.90062233 62951.18511676\n",
            " 62978.01680391 63042.06965754 63073.47136893 63092.55931552\n",
            " 63170.94997493 63060.82621824 63151.47919938 63068.64233289\n",
            " 63153.7885487  63185.10091238 63244.59033961 63267.87483477\n",
            " 63294.70652205 63358.75937595 63390.1610875  63409.24903422\n",
            " 63487.63969394 63377.51593649 63468.16891749 63385.33205061\n",
            " 63470.47826658 63501.79063034 63561.28005773 63584.56455294\n",
            " 63611.39624059 63675.44909454 63706.8508062  63725.93875362\n",
            " 63804.32941315 63694.20565482 63784.85863568 63702.02176908\n",
            " 63787.16798476 63818.48034835 63877.96977512 63901.25427006\n",
            " 63928.08595744 63992.13881128 64023.54052282 64042.62846978\n",
            " 64121.01912932 64010.89537177 64101.54835275 64018.71148612\n",
            " 64103.85770192 64135.17006558 64194.65949266 64217.94398774\n",
            " 64244.77567516 64308.82852905 64340.23024062 64359.31818762\n",
            " 64437.70884722 64327.5850895  64418.23807046 64335.40120375\n",
            " 64420.54741958 64451.85978325 64511.34921036 64534.63370544\n",
            " 64561.46539293 64625.51824683 64656.91995842 64676.00790555\n",
            " 64754.39856511 64644.27480723 64734.92778817 64652.09092151\n",
            " 64737.23713728 64768.54950092 64828.03892791 64851.32342294\n",
            " 64878.15511038 64942.20796426 64973.60967583 64992.69762286\n",
            " 65071.08828243 64960.9645247  65051.61750566]\n"
          ]
        }
      ],
      "source": [
        "model_sarima_forecast = model_sarima_fit.forecast(steps = len(test))\n",
        "print(model_sarima_forecast)"
      ]
    },
    {
      "cell_type": "code",
      "execution_count": null,
      "metadata": {
        "id": "W4z8lUR4NMOO",
        "outputId": "2cb69ad6-ab87-4810-eb77-d42ec0cc31c2"
      },
      "outputs": [
        {
          "data": {
            "image/png": "[encoded data removed]",
            "text/plain": [
              "<Figure size 1152x576 with 1 Axes>"
            ]
          },
          "metadata": {
            "needs_background": "light"
          },
          "output_type": "display_data"
        }
      ],
      "source": [
        "model_forecast= test.copy()\n",
        "model_forecast['SARIMA'] = model_sarima_forecast\n",
        "plt.figure(figsize=(16,8))\n",
        "plt.plot( train['Prices'], label='Train')\n",
        "plt.plot(test['Prices'], label='Test')\n",
        "plt.plot(model_forecast['SARIMA'], label='SARIMA')\n",
        "plt.legend()\n",
        "plt.show()"
      ]
    },
    {
      "cell_type": "code",
      "execution_count": null,
      "metadata": {
        "id": "jDYctrsBNMOO"
      },
      "outputs": [],
      "source": []
    }
  ],
  "metadata": {
    "kernelspec": {
      "display_name": "Python 3",
      "language": "python",
      "name": "python3"
    },
    "language_info": {
      "codemirror_mode": {
        "name": "ipython",
        "version": 3
      },
      "file_extension": ".py",
      "mimetype": "text/x-python",
      "name": "python",
      "nbconvert_exporter": "python",
      "pygments_lexer": "ipython3",
      "version": "3.6.5"
    },
    "colab": {
      "provenance": [],
      "include_colab_link": true
    }
  },
  "nbformat": 4,
  "nbformat_minor": 0
}